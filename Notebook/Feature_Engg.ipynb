{
 "cells": [
  {
   "cell_type": "code",
   "execution_count": 1,
   "id": "99c8f5f9",
   "metadata": {},
   "outputs": [],
   "source": [
    "import os"
   ]
  },
  {
   "cell_type": "code",
   "execution_count": 2,
   "id": "3b4dd9ef",
   "metadata": {},
   "outputs": [
    {
     "data": {
      "text/plain": [
       "'x:\\\\Ineuron_ML_Projects\\\\Rate_predict_EndtoEnd_ML_project\\\\Notebook'"
      ]
     },
     "execution_count": 2,
     "metadata": {},
     "output_type": "execute_result"
    }
   ],
   "source": [
    "os.getcwd()"
   ]
  },
  {
   "cell_type": "code",
   "execution_count": 3,
   "id": "57c0da8b",
   "metadata": {},
   "outputs": [],
   "source": [
    "os.chdir(\"x:\\\\Ineuron_ML_Projects\\\\Rate_predict_EndtoEnd_ML_project\")"
   ]
  },
  {
   "cell_type": "code",
   "execution_count": 4,
   "id": "7ed617bb",
   "metadata": {},
   "outputs": [
    {
     "data": {
      "text/plain": [
       "'x:\\\\Ineuron_ML_Projects\\\\Rate_predict_EndtoEnd_ML_project'"
      ]
     },
     "execution_count": 4,
     "metadata": {},
     "output_type": "execute_result"
    }
   ],
   "source": [
    "os.getcwd()"
   ]
  },
  {
   "cell_type": "code",
   "execution_count": 5,
   "id": "8c0fe88e",
   "metadata": {},
   "outputs": [],
   "source": [
    "import pandas as pd \n",
    "import numpy as np\n",
    "import matplotlib.pyplot as plt\n",
    "import seaborn as sns\n",
    "%matplotlib inline\n",
    "#plt.style.use(\"dark_background\")\n",
    "\n",
    "## Display of columns and rows in output\n",
    "pd.set_option(\"display.max_columns\",None)\n",
    "pd.set_option(\"display.max_rows\", 100)\n",
    "\n",
    "## Styling for visualization\n",
    "%matplotlib inline\n",
    "plt.style.use(\"dark_background\")\n",
    "Tfont = {'family':'serif','color':'w','size':18, 'weight':'bold'}\n",
    "Lfont = {'family':'monospace','color':'lime','size':15}\n",
    "\n",
    "\n",
    "## Ignoring Warning\n",
    "import warnings\n",
    "warnings.filterwarnings(\"ignore\")"
   ]
  },
  {
   "cell_type": "code",
   "execution_count": 6,
   "id": "ce3162cf",
   "metadata": {},
   "outputs": [],
   "source": [
    "orig_data = pd.read_csv(\"dataset/zomato.csv\")"
   ]
  },
  {
   "cell_type": "code",
   "execution_count": 7,
   "id": "42f2f90c",
   "metadata": {},
   "outputs": [],
   "source": [
    "data=orig_data.copy()"
   ]
  },
  {
   "cell_type": "code",
   "execution_count": 8,
   "id": "991da9d8",
   "metadata": {},
   "outputs": [
    {
     "data": {
      "text/html": [
       "<div>\n",
       "<style scoped>\n",
       "    .dataframe tbody tr th:only-of-type {\n",
       "        vertical-align: middle;\n",
       "    }\n",
       "\n",
       "    .dataframe tbody tr th {\n",
       "        vertical-align: top;\n",
       "    }\n",
       "\n",
       "    .dataframe thead th {\n",
       "        text-align: right;\n",
       "    }\n",
       "</style>\n",
       "<table border=\"1\" class=\"dataframe\">\n",
       "  <thead>\n",
       "    <tr style=\"text-align: right;\">\n",
       "      <th></th>\n",
       "      <th>url</th>\n",
       "      <th>address</th>\n",
       "      <th>name</th>\n",
       "      <th>online_order</th>\n",
       "      <th>book_table</th>\n",
       "      <th>rate</th>\n",
       "      <th>votes</th>\n",
       "      <th>phone</th>\n",
       "      <th>location</th>\n",
       "      <th>rest_type</th>\n",
       "      <th>dish_liked</th>\n",
       "      <th>cuisines</th>\n",
       "      <th>approx_cost(for two people)</th>\n",
       "      <th>reviews_list</th>\n",
       "      <th>menu_item</th>\n",
       "      <th>listed_in(type)</th>\n",
       "      <th>listed_in(city)</th>\n",
       "    </tr>\n",
       "  </thead>\n",
       "  <tbody>\n",
       "    <tr>\n",
       "      <th>0</th>\n",
       "      <td>https://www.zomato.com/bangalore/jalsa-banasha...</td>\n",
       "      <td>942, 21st Main Road, 2nd Stage, Banashankari, ...</td>\n",
       "      <td>Jalsa</td>\n",
       "      <td>Yes</td>\n",
       "      <td>Yes</td>\n",
       "      <td>4.1/5</td>\n",
       "      <td>775</td>\n",
       "      <td>080 42297555\\r\\n+91 9743772233</td>\n",
       "      <td>Banashankari</td>\n",
       "      <td>Casual Dining</td>\n",
       "      <td>Pasta, Lunch Buffet, Masala Papad, Paneer Laja...</td>\n",
       "      <td>North Indian, Mughlai, Chinese</td>\n",
       "      <td>800</td>\n",
       "      <td>[('Rated 4.0', 'RATED\\n  A beautiful place to ...</td>\n",
       "      <td>[]</td>\n",
       "      <td>Buffet</td>\n",
       "      <td>Banashankari</td>\n",
       "    </tr>\n",
       "    <tr>\n",
       "      <th>1</th>\n",
       "      <td>https://www.zomato.com/bangalore/spice-elephan...</td>\n",
       "      <td>2nd Floor, 80 Feet Road, Near Big Bazaar, 6th ...</td>\n",
       "      <td>Spice Elephant</td>\n",
       "      <td>Yes</td>\n",
       "      <td>No</td>\n",
       "      <td>4.1/5</td>\n",
       "      <td>787</td>\n",
       "      <td>080 41714161</td>\n",
       "      <td>Banashankari</td>\n",
       "      <td>Casual Dining</td>\n",
       "      <td>Momos, Lunch Buffet, Chocolate Nirvana, Thai G...</td>\n",
       "      <td>Chinese, North Indian, Thai</td>\n",
       "      <td>800</td>\n",
       "      <td>[('Rated 4.0', 'RATED\\n  Had been here for din...</td>\n",
       "      <td>[]</td>\n",
       "      <td>Buffet</td>\n",
       "      <td>Banashankari</td>\n",
       "    </tr>\n",
       "    <tr>\n",
       "      <th>2</th>\n",
       "      <td>https://www.zomato.com/SanchurroBangalore?cont...</td>\n",
       "      <td>1112, Next to KIMS Medical College, 17th Cross...</td>\n",
       "      <td>San Churro Cafe</td>\n",
       "      <td>Yes</td>\n",
       "      <td>No</td>\n",
       "      <td>3.8/5</td>\n",
       "      <td>918</td>\n",
       "      <td>+91 9663487993</td>\n",
       "      <td>Banashankari</td>\n",
       "      <td>Cafe, Casual Dining</td>\n",
       "      <td>Churros, Cannelloni, Minestrone Soup, Hot Choc...</td>\n",
       "      <td>Cafe, Mexican, Italian</td>\n",
       "      <td>800</td>\n",
       "      <td>[('Rated 3.0', \"RATED\\n  Ambience is not that ...</td>\n",
       "      <td>[]</td>\n",
       "      <td>Buffet</td>\n",
       "      <td>Banashankari</td>\n",
       "    </tr>\n",
       "    <tr>\n",
       "      <th>3</th>\n",
       "      <td>https://www.zomato.com/bangalore/addhuri-udupi...</td>\n",
       "      <td>1st Floor, Annakuteera, 3rd Stage, Banashankar...</td>\n",
       "      <td>Addhuri Udupi Bhojana</td>\n",
       "      <td>No</td>\n",
       "      <td>No</td>\n",
       "      <td>3.7/5</td>\n",
       "      <td>88</td>\n",
       "      <td>+91 9620009302</td>\n",
       "      <td>Banashankari</td>\n",
       "      <td>Quick Bites</td>\n",
       "      <td>Masala Dosa</td>\n",
       "      <td>South Indian, North Indian</td>\n",
       "      <td>300</td>\n",
       "      <td>[('Rated 4.0', \"RATED\\n  Great food and proper...</td>\n",
       "      <td>[]</td>\n",
       "      <td>Buffet</td>\n",
       "      <td>Banashankari</td>\n",
       "    </tr>\n",
       "    <tr>\n",
       "      <th>4</th>\n",
       "      <td>https://www.zomato.com/bangalore/grand-village...</td>\n",
       "      <td>10, 3rd Floor, Lakshmi Associates, Gandhi Baza...</td>\n",
       "      <td>Grand Village</td>\n",
       "      <td>No</td>\n",
       "      <td>No</td>\n",
       "      <td>3.8/5</td>\n",
       "      <td>166</td>\n",
       "      <td>+91 8026612447\\r\\n+91 9901210005</td>\n",
       "      <td>Basavanagudi</td>\n",
       "      <td>Casual Dining</td>\n",
       "      <td>Panipuri, Gol Gappe</td>\n",
       "      <td>North Indian, Rajasthani</td>\n",
       "      <td>600</td>\n",
       "      <td>[('Rated 4.0', 'RATED\\n  Very good restaurant ...</td>\n",
       "      <td>[]</td>\n",
       "      <td>Buffet</td>\n",
       "      <td>Banashankari</td>\n",
       "    </tr>\n",
       "  </tbody>\n",
       "</table>\n",
       "</div>"
      ],
      "text/plain": [
       "                                                 url  \\\n",
       "0  https://www.zomato.com/bangalore/jalsa-banasha...   \n",
       "1  https://www.zomato.com/bangalore/spice-elephan...   \n",
       "2  https://www.zomato.com/SanchurroBangalore?cont...   \n",
       "3  https://www.zomato.com/bangalore/addhuri-udupi...   \n",
       "4  https://www.zomato.com/bangalore/grand-village...   \n",
       "\n",
       "                                             address                   name  \\\n",
       "0  942, 21st Main Road, 2nd Stage, Banashankari, ...                  Jalsa   \n",
       "1  2nd Floor, 80 Feet Road, Near Big Bazaar, 6th ...         Spice Elephant   \n",
       "2  1112, Next to KIMS Medical College, 17th Cross...        San Churro Cafe   \n",
       "3  1st Floor, Annakuteera, 3rd Stage, Banashankar...  Addhuri Udupi Bhojana   \n",
       "4  10, 3rd Floor, Lakshmi Associates, Gandhi Baza...          Grand Village   \n",
       "\n",
       "  online_order book_table   rate  votes                             phone  \\\n",
       "0          Yes        Yes  4.1/5    775    080 42297555\\r\\n+91 9743772233   \n",
       "1          Yes         No  4.1/5    787                      080 41714161   \n",
       "2          Yes         No  3.8/5    918                    +91 9663487993   \n",
       "3           No         No  3.7/5     88                    +91 9620009302   \n",
       "4           No         No  3.8/5    166  +91 8026612447\\r\\n+91 9901210005   \n",
       "\n",
       "       location            rest_type  \\\n",
       "0  Banashankari        Casual Dining   \n",
       "1  Banashankari        Casual Dining   \n",
       "2  Banashankari  Cafe, Casual Dining   \n",
       "3  Banashankari          Quick Bites   \n",
       "4  Basavanagudi        Casual Dining   \n",
       "\n",
       "                                          dish_liked  \\\n",
       "0  Pasta, Lunch Buffet, Masala Papad, Paneer Laja...   \n",
       "1  Momos, Lunch Buffet, Chocolate Nirvana, Thai G...   \n",
       "2  Churros, Cannelloni, Minestrone Soup, Hot Choc...   \n",
       "3                                        Masala Dosa   \n",
       "4                                Panipuri, Gol Gappe   \n",
       "\n",
       "                         cuisines approx_cost(for two people)  \\\n",
       "0  North Indian, Mughlai, Chinese                         800   \n",
       "1     Chinese, North Indian, Thai                         800   \n",
       "2          Cafe, Mexican, Italian                         800   \n",
       "3      South Indian, North Indian                         300   \n",
       "4        North Indian, Rajasthani                         600   \n",
       "\n",
       "                                        reviews_list menu_item  \\\n",
       "0  [('Rated 4.0', 'RATED\\n  A beautiful place to ...        []   \n",
       "1  [('Rated 4.0', 'RATED\\n  Had been here for din...        []   \n",
       "2  [('Rated 3.0', \"RATED\\n  Ambience is not that ...        []   \n",
       "3  [('Rated 4.0', \"RATED\\n  Great food and proper...        []   \n",
       "4  [('Rated 4.0', 'RATED\\n  Very good restaurant ...        []   \n",
       "\n",
       "  listed_in(type) listed_in(city)  \n",
       "0          Buffet    Banashankari  \n",
       "1          Buffet    Banashankari  \n",
       "2          Buffet    Banashankari  \n",
       "3          Buffet    Banashankari  \n",
       "4          Buffet    Banashankari  "
      ]
     },
     "execution_count": 8,
     "metadata": {},
     "output_type": "execute_result"
    }
   ],
   "source": [
    "data.head()"
   ]
  },
  {
   "cell_type": "code",
   "execution_count": 9,
   "id": "196083ba",
   "metadata": {},
   "outputs": [
    {
     "data": {
      "text/plain": [
       "(51717, 17)"
      ]
     },
     "execution_count": 9,
     "metadata": {},
     "output_type": "execute_result"
    }
   ],
   "source": [
    "data.shape"
   ]
  },
  {
   "cell_type": "code",
   "execution_count": 10,
   "id": "85a5c3b4",
   "metadata": {},
   "outputs": [
    {
     "data": {
      "text/plain": [
       "Index(['url', 'address', 'name', 'online_order', 'book_table', 'rate', 'votes',\n",
       "       'phone', 'location', 'rest_type', 'dish_liked', 'cuisines',\n",
       "       'approx_cost(for two people)', 'reviews_list', 'menu_item',\n",
       "       'listed_in(type)', 'listed_in(city)'],\n",
       "      dtype='object')"
      ]
     },
     "execution_count": 10,
     "metadata": {},
     "output_type": "execute_result"
    }
   ],
   "source": [
    "data.columns"
   ]
  },
  {
   "cell_type": "markdown",
   "id": "dc2da56f",
   "metadata": {},
   "source": [
    "# __Data Cleaning__"
   ]
  },
  {
   "cell_type": "code",
   "execution_count": 11,
   "id": "55a810d0",
   "metadata": {},
   "outputs": [
    {
     "data": {
      "text/html": [
       "<div>\n",
       "<style scoped>\n",
       "    .dataframe tbody tr th:only-of-type {\n",
       "        vertical-align: middle;\n",
       "    }\n",
       "\n",
       "    .dataframe tbody tr th {\n",
       "        vertical-align: top;\n",
       "    }\n",
       "\n",
       "    .dataframe thead th {\n",
       "        text-align: right;\n",
       "    }\n",
       "</style>\n",
       "<table border=\"1\" class=\"dataframe\">\n",
       "  <thead>\n",
       "    <tr style=\"text-align: right;\">\n",
       "      <th></th>\n",
       "      <th>url</th>\n",
       "      <th>phone</th>\n",
       "      <th>reviews_list</th>\n",
       "      <th>menu_item</th>\n",
       "      <th>listed_in(city)</th>\n",
       "    </tr>\n",
       "  </thead>\n",
       "  <tbody>\n",
       "    <tr>\n",
       "      <th>0</th>\n",
       "      <td>https://www.zomato.com/bangalore/jalsa-banasha...</td>\n",
       "      <td>080 42297555\\r\\n+91 9743772233</td>\n",
       "      <td>[('Rated 4.0', 'RATED\\n  A beautiful place to ...</td>\n",
       "      <td>[]</td>\n",
       "      <td>Banashankari</td>\n",
       "    </tr>\n",
       "    <tr>\n",
       "      <th>1</th>\n",
       "      <td>https://www.zomato.com/bangalore/spice-elephan...</td>\n",
       "      <td>080 41714161</td>\n",
       "      <td>[('Rated 4.0', 'RATED\\n  Had been here for din...</td>\n",
       "      <td>[]</td>\n",
       "      <td>Banashankari</td>\n",
       "    </tr>\n",
       "    <tr>\n",
       "      <th>2</th>\n",
       "      <td>https://www.zomato.com/SanchurroBangalore?cont...</td>\n",
       "      <td>+91 9663487993</td>\n",
       "      <td>[('Rated 3.0', \"RATED\\n  Ambience is not that ...</td>\n",
       "      <td>[]</td>\n",
       "      <td>Banashankari</td>\n",
       "    </tr>\n",
       "    <tr>\n",
       "      <th>3</th>\n",
       "      <td>https://www.zomato.com/bangalore/addhuri-udupi...</td>\n",
       "      <td>+91 9620009302</td>\n",
       "      <td>[('Rated 4.0', \"RATED\\n  Great food and proper...</td>\n",
       "      <td>[]</td>\n",
       "      <td>Banashankari</td>\n",
       "    </tr>\n",
       "    <tr>\n",
       "      <th>4</th>\n",
       "      <td>https://www.zomato.com/bangalore/grand-village...</td>\n",
       "      <td>+91 8026612447\\r\\n+91 9901210005</td>\n",
       "      <td>[('Rated 4.0', 'RATED\\n  Very good restaurant ...</td>\n",
       "      <td>[]</td>\n",
       "      <td>Banashankari</td>\n",
       "    </tr>\n",
       "    <tr>\n",
       "      <th>...</th>\n",
       "      <td>...</td>\n",
       "      <td>...</td>\n",
       "      <td>...</td>\n",
       "      <td>...</td>\n",
       "      <td>...</td>\n",
       "    </tr>\n",
       "    <tr>\n",
       "      <th>51712</th>\n",
       "      <td>https://www.zomato.com/bangalore/best-brews-fo...</td>\n",
       "      <td>080 40301477</td>\n",
       "      <td>[('Rated 5.0', \"RATED\\n  Food and service are ...</td>\n",
       "      <td>[]</td>\n",
       "      <td>Whitefield</td>\n",
       "    </tr>\n",
       "    <tr>\n",
       "      <th>51713</th>\n",
       "      <td>https://www.zomato.com/bangalore/vinod-bar-and...</td>\n",
       "      <td>+91 8197675843</td>\n",
       "      <td>[]</td>\n",
       "      <td>[]</td>\n",
       "      <td>Whitefield</td>\n",
       "    </tr>\n",
       "    <tr>\n",
       "      <th>51714</th>\n",
       "      <td>https://www.zomato.com/bangalore/plunge-sherat...</td>\n",
       "      <td>NaN</td>\n",
       "      <td>[]</td>\n",
       "      <td>[]</td>\n",
       "      <td>Whitefield</td>\n",
       "    </tr>\n",
       "    <tr>\n",
       "      <th>51715</th>\n",
       "      <td>https://www.zomato.com/bangalore/chime-sherato...</td>\n",
       "      <td>080 49652769</td>\n",
       "      <td>[('Rated 4.0', 'RATED\\n  Nice and friendly pla...</td>\n",
       "      <td>[]</td>\n",
       "      <td>Whitefield</td>\n",
       "    </tr>\n",
       "    <tr>\n",
       "      <th>51716</th>\n",
       "      <td>https://www.zomato.com/bangalore/the-nest-the-...</td>\n",
       "      <td>+91 8071117272</td>\n",
       "      <td>[('Rated 5.0', 'RATED\\n  Great ambience , look...</td>\n",
       "      <td>[]</td>\n",
       "      <td>Whitefield</td>\n",
       "    </tr>\n",
       "  </tbody>\n",
       "</table>\n",
       "<p>51717 rows × 5 columns</p>\n",
       "</div>"
      ],
      "text/plain": [
       "                                                     url  \\\n",
       "0      https://www.zomato.com/bangalore/jalsa-banasha...   \n",
       "1      https://www.zomato.com/bangalore/spice-elephan...   \n",
       "2      https://www.zomato.com/SanchurroBangalore?cont...   \n",
       "3      https://www.zomato.com/bangalore/addhuri-udupi...   \n",
       "4      https://www.zomato.com/bangalore/grand-village...   \n",
       "...                                                  ...   \n",
       "51712  https://www.zomato.com/bangalore/best-brews-fo...   \n",
       "51713  https://www.zomato.com/bangalore/vinod-bar-and...   \n",
       "51714  https://www.zomato.com/bangalore/plunge-sherat...   \n",
       "51715  https://www.zomato.com/bangalore/chime-sherato...   \n",
       "51716  https://www.zomato.com/bangalore/the-nest-the-...   \n",
       "\n",
       "                                  phone  \\\n",
       "0        080 42297555\\r\\n+91 9743772233   \n",
       "1                          080 41714161   \n",
       "2                        +91 9663487993   \n",
       "3                        +91 9620009302   \n",
       "4      +91 8026612447\\r\\n+91 9901210005   \n",
       "...                                 ...   \n",
       "51712                      080 40301477   \n",
       "51713                    +91 8197675843   \n",
       "51714                               NaN   \n",
       "51715                      080 49652769   \n",
       "51716                    +91 8071117272   \n",
       "\n",
       "                                            reviews_list menu_item  \\\n",
       "0      [('Rated 4.0', 'RATED\\n  A beautiful place to ...        []   \n",
       "1      [('Rated 4.0', 'RATED\\n  Had been here for din...        []   \n",
       "2      [('Rated 3.0', \"RATED\\n  Ambience is not that ...        []   \n",
       "3      [('Rated 4.0', \"RATED\\n  Great food and proper...        []   \n",
       "4      [('Rated 4.0', 'RATED\\n  Very good restaurant ...        []   \n",
       "...                                                  ...       ...   \n",
       "51712  [('Rated 5.0', \"RATED\\n  Food and service are ...        []   \n",
       "51713                                                 []        []   \n",
       "51714                                                 []        []   \n",
       "51715  [('Rated 4.0', 'RATED\\n  Nice and friendly pla...        []   \n",
       "51716  [('Rated 5.0', 'RATED\\n  Great ambience , look...        []   \n",
       "\n",
       "      listed_in(city)  \n",
       "0        Banashankari  \n",
       "1        Banashankari  \n",
       "2        Banashankari  \n",
       "3        Banashankari  \n",
       "4        Banashankari  \n",
       "...               ...  \n",
       "51712      Whitefield  \n",
       "51713      Whitefield  \n",
       "51714      Whitefield  \n",
       "51715      Whitefield  \n",
       "51716      Whitefield  \n",
       "\n",
       "[51717 rows x 5 columns]"
      ]
     },
     "execution_count": 11,
     "metadata": {},
     "output_type": "execute_result"
    }
   ],
   "source": [
    "## DELETING USELESS COLUMNS\n",
    "## lets remove completely-useless columns first.\n",
    "## These dont give any relation with targetVariable and nor these can be used to derive new usefull column.\n",
    "uselesscol=['url', 'phone', 'reviews_list', 'menu_item', 'listed_in(city)']\n",
    "data[uselesscol]"
   ]
  },
  {
   "cell_type": "markdown",
   "id": "0cd8aa3f",
   "metadata": {},
   "source": [
    "##### Reason to remove the useless column:\n",
    "\n",
    "1. url---> irrelevant data\n",
    "\n",
    "2. phone---> irrelevant data\n",
    "\n",
    "3. review_list---> irrelevant data\n",
    "\n",
    "4. menu_item ----> too many empty list\n",
    "\n",
    "5. listed_in(city)---> giving redundant info as address or location."
   ]
  },
  {
   "cell_type": "code",
   "execution_count": 12,
   "id": "00b79ab6",
   "metadata": {},
   "outputs": [],
   "source": [
    "data.drop(columns=uselesscol, axis=1, inplace=True)"
   ]
  },
  {
   "cell_type": "code",
   "execution_count": 13,
   "id": "a0cb4fdf",
   "metadata": {},
   "outputs": [
    {
     "data": {
      "text/html": [
       "<div>\n",
       "<style scoped>\n",
       "    .dataframe tbody tr th:only-of-type {\n",
       "        vertical-align: middle;\n",
       "    }\n",
       "\n",
       "    .dataframe tbody tr th {\n",
       "        vertical-align: top;\n",
       "    }\n",
       "\n",
       "    .dataframe thead th {\n",
       "        text-align: right;\n",
       "    }\n",
       "</style>\n",
       "<table border=\"1\" class=\"dataframe\">\n",
       "  <thead>\n",
       "    <tr style=\"text-align: right;\">\n",
       "      <th></th>\n",
       "      <th>address</th>\n",
       "      <th>name</th>\n",
       "      <th>online_order</th>\n",
       "      <th>book_table</th>\n",
       "      <th>rate</th>\n",
       "      <th>votes</th>\n",
       "      <th>location</th>\n",
       "      <th>rest_type</th>\n",
       "      <th>dish_liked</th>\n",
       "      <th>cuisines</th>\n",
       "      <th>approx_cost(for two people)</th>\n",
       "      <th>listed_in(type)</th>\n",
       "    </tr>\n",
       "  </thead>\n",
       "  <tbody>\n",
       "    <tr>\n",
       "      <th>0</th>\n",
       "      <td>942, 21st Main Road, 2nd Stage, Banashankari, ...</td>\n",
       "      <td>Jalsa</td>\n",
       "      <td>Yes</td>\n",
       "      <td>Yes</td>\n",
       "      <td>4.1/5</td>\n",
       "      <td>775</td>\n",
       "      <td>Banashankari</td>\n",
       "      <td>Casual Dining</td>\n",
       "      <td>Pasta, Lunch Buffet, Masala Papad, Paneer Laja...</td>\n",
       "      <td>North Indian, Mughlai, Chinese</td>\n",
       "      <td>800</td>\n",
       "      <td>Buffet</td>\n",
       "    </tr>\n",
       "    <tr>\n",
       "      <th>1</th>\n",
       "      <td>2nd Floor, 80 Feet Road, Near Big Bazaar, 6th ...</td>\n",
       "      <td>Spice Elephant</td>\n",
       "      <td>Yes</td>\n",
       "      <td>No</td>\n",
       "      <td>4.1/5</td>\n",
       "      <td>787</td>\n",
       "      <td>Banashankari</td>\n",
       "      <td>Casual Dining</td>\n",
       "      <td>Momos, Lunch Buffet, Chocolate Nirvana, Thai G...</td>\n",
       "      <td>Chinese, North Indian, Thai</td>\n",
       "      <td>800</td>\n",
       "      <td>Buffet</td>\n",
       "    </tr>\n",
       "    <tr>\n",
       "      <th>2</th>\n",
       "      <td>1112, Next to KIMS Medical College, 17th Cross...</td>\n",
       "      <td>San Churro Cafe</td>\n",
       "      <td>Yes</td>\n",
       "      <td>No</td>\n",
       "      <td>3.8/5</td>\n",
       "      <td>918</td>\n",
       "      <td>Banashankari</td>\n",
       "      <td>Cafe, Casual Dining</td>\n",
       "      <td>Churros, Cannelloni, Minestrone Soup, Hot Choc...</td>\n",
       "      <td>Cafe, Mexican, Italian</td>\n",
       "      <td>800</td>\n",
       "      <td>Buffet</td>\n",
       "    </tr>\n",
       "    <tr>\n",
       "      <th>3</th>\n",
       "      <td>1st Floor, Annakuteera, 3rd Stage, Banashankar...</td>\n",
       "      <td>Addhuri Udupi Bhojana</td>\n",
       "      <td>No</td>\n",
       "      <td>No</td>\n",
       "      <td>3.7/5</td>\n",
       "      <td>88</td>\n",
       "      <td>Banashankari</td>\n",
       "      <td>Quick Bites</td>\n",
       "      <td>Masala Dosa</td>\n",
       "      <td>South Indian, North Indian</td>\n",
       "      <td>300</td>\n",
       "      <td>Buffet</td>\n",
       "    </tr>\n",
       "    <tr>\n",
       "      <th>4</th>\n",
       "      <td>10, 3rd Floor, Lakshmi Associates, Gandhi Baza...</td>\n",
       "      <td>Grand Village</td>\n",
       "      <td>No</td>\n",
       "      <td>No</td>\n",
       "      <td>3.8/5</td>\n",
       "      <td>166</td>\n",
       "      <td>Basavanagudi</td>\n",
       "      <td>Casual Dining</td>\n",
       "      <td>Panipuri, Gol Gappe</td>\n",
       "      <td>North Indian, Rajasthani</td>\n",
       "      <td>600</td>\n",
       "      <td>Buffet</td>\n",
       "    </tr>\n",
       "  </tbody>\n",
       "</table>\n",
       "</div>"
      ],
      "text/plain": [
       "                                             address                   name  \\\n",
       "0  942, 21st Main Road, 2nd Stage, Banashankari, ...                  Jalsa   \n",
       "1  2nd Floor, 80 Feet Road, Near Big Bazaar, 6th ...         Spice Elephant   \n",
       "2  1112, Next to KIMS Medical College, 17th Cross...        San Churro Cafe   \n",
       "3  1st Floor, Annakuteera, 3rd Stage, Banashankar...  Addhuri Udupi Bhojana   \n",
       "4  10, 3rd Floor, Lakshmi Associates, Gandhi Baza...          Grand Village   \n",
       "\n",
       "  online_order book_table   rate  votes      location            rest_type  \\\n",
       "0          Yes        Yes  4.1/5    775  Banashankari        Casual Dining   \n",
       "1          Yes         No  4.1/5    787  Banashankari        Casual Dining   \n",
       "2          Yes         No  3.8/5    918  Banashankari  Cafe, Casual Dining   \n",
       "3           No         No  3.7/5     88  Banashankari          Quick Bites   \n",
       "4           No         No  3.8/5    166  Basavanagudi        Casual Dining   \n",
       "\n",
       "                                          dish_liked  \\\n",
       "0  Pasta, Lunch Buffet, Masala Papad, Paneer Laja...   \n",
       "1  Momos, Lunch Buffet, Chocolate Nirvana, Thai G...   \n",
       "2  Churros, Cannelloni, Minestrone Soup, Hot Choc...   \n",
       "3                                        Masala Dosa   \n",
       "4                                Panipuri, Gol Gappe   \n",
       "\n",
       "                         cuisines approx_cost(for two people) listed_in(type)  \n",
       "0  North Indian, Mughlai, Chinese                         800          Buffet  \n",
       "1     Chinese, North Indian, Thai                         800          Buffet  \n",
       "2          Cafe, Mexican, Italian                         800          Buffet  \n",
       "3      South Indian, North Indian                         300          Buffet  \n",
       "4        North Indian, Rajasthani                         600          Buffet  "
      ]
     },
     "execution_count": 13,
     "metadata": {},
     "output_type": "execute_result"
    }
   ],
   "source": [
    "data.head()"
   ]
  },
  {
   "cell_type": "code",
   "execution_count": 14,
   "id": "b4b955ea",
   "metadata": {},
   "outputs": [
    {
     "data": {
      "text/html": [
       "<div>\n",
       "<style scoped>\n",
       "    .dataframe tbody tr th:only-of-type {\n",
       "        vertical-align: middle;\n",
       "    }\n",
       "\n",
       "    .dataframe tbody tr th {\n",
       "        vertical-align: top;\n",
       "    }\n",
       "\n",
       "    .dataframe thead th {\n",
       "        text-align: right;\n",
       "    }\n",
       "</style>\n",
       "<table border=\"1\" class=\"dataframe\">\n",
       "  <thead>\n",
       "    <tr style=\"text-align: right;\">\n",
       "      <th></th>\n",
       "      <th>address</th>\n",
       "      <th>name</th>\n",
       "      <th>online_order</th>\n",
       "      <th>book_table</th>\n",
       "      <th>rate</th>\n",
       "      <th>votes</th>\n",
       "      <th>location</th>\n",
       "      <th>rest_type</th>\n",
       "      <th>dish_liked</th>\n",
       "      <th>cuisines</th>\n",
       "      <th>approx_cost(for two people)</th>\n",
       "      <th>listed_in(type)</th>\n",
       "    </tr>\n",
       "  </thead>\n",
       "  <tbody>\n",
       "    <tr>\n",
       "      <th>count</th>\n",
       "      <td>51717</td>\n",
       "      <td>51717</td>\n",
       "      <td>51717</td>\n",
       "      <td>51717</td>\n",
       "      <td>43942</td>\n",
       "      <td>51717.000000</td>\n",
       "      <td>51696</td>\n",
       "      <td>51490</td>\n",
       "      <td>23639</td>\n",
       "      <td>51672</td>\n",
       "      <td>51371</td>\n",
       "      <td>51717</td>\n",
       "    </tr>\n",
       "    <tr>\n",
       "      <th>unique</th>\n",
       "      <td>11495</td>\n",
       "      <td>8792</td>\n",
       "      <td>2</td>\n",
       "      <td>2</td>\n",
       "      <td>64</td>\n",
       "      <td>NaN</td>\n",
       "      <td>93</td>\n",
       "      <td>93</td>\n",
       "      <td>5271</td>\n",
       "      <td>2723</td>\n",
       "      <td>70</td>\n",
       "      <td>7</td>\n",
       "    </tr>\n",
       "    <tr>\n",
       "      <th>top</th>\n",
       "      <td>Delivery Only</td>\n",
       "      <td>Cafe Coffee Day</td>\n",
       "      <td>Yes</td>\n",
       "      <td>No</td>\n",
       "      <td>NEW</td>\n",
       "      <td>NaN</td>\n",
       "      <td>BTM</td>\n",
       "      <td>Quick Bites</td>\n",
       "      <td>Biryani</td>\n",
       "      <td>North Indian</td>\n",
       "      <td>300</td>\n",
       "      <td>Delivery</td>\n",
       "    </tr>\n",
       "    <tr>\n",
       "      <th>freq</th>\n",
       "      <td>128</td>\n",
       "      <td>96</td>\n",
       "      <td>30444</td>\n",
       "      <td>45268</td>\n",
       "      <td>2208</td>\n",
       "      <td>NaN</td>\n",
       "      <td>5124</td>\n",
       "      <td>19132</td>\n",
       "      <td>182</td>\n",
       "      <td>2913</td>\n",
       "      <td>7576</td>\n",
       "      <td>25942</td>\n",
       "    </tr>\n",
       "    <tr>\n",
       "      <th>mean</th>\n",
       "      <td>NaN</td>\n",
       "      <td>NaN</td>\n",
       "      <td>NaN</td>\n",
       "      <td>NaN</td>\n",
       "      <td>NaN</td>\n",
       "      <td>283.697527</td>\n",
       "      <td>NaN</td>\n",
       "      <td>NaN</td>\n",
       "      <td>NaN</td>\n",
       "      <td>NaN</td>\n",
       "      <td>NaN</td>\n",
       "      <td>NaN</td>\n",
       "    </tr>\n",
       "    <tr>\n",
       "      <th>std</th>\n",
       "      <td>NaN</td>\n",
       "      <td>NaN</td>\n",
       "      <td>NaN</td>\n",
       "      <td>NaN</td>\n",
       "      <td>NaN</td>\n",
       "      <td>803.838853</td>\n",
       "      <td>NaN</td>\n",
       "      <td>NaN</td>\n",
       "      <td>NaN</td>\n",
       "      <td>NaN</td>\n",
       "      <td>NaN</td>\n",
       "      <td>NaN</td>\n",
       "    </tr>\n",
       "    <tr>\n",
       "      <th>min</th>\n",
       "      <td>NaN</td>\n",
       "      <td>NaN</td>\n",
       "      <td>NaN</td>\n",
       "      <td>NaN</td>\n",
       "      <td>NaN</td>\n",
       "      <td>0.000000</td>\n",
       "      <td>NaN</td>\n",
       "      <td>NaN</td>\n",
       "      <td>NaN</td>\n",
       "      <td>NaN</td>\n",
       "      <td>NaN</td>\n",
       "      <td>NaN</td>\n",
       "    </tr>\n",
       "    <tr>\n",
       "      <th>25%</th>\n",
       "      <td>NaN</td>\n",
       "      <td>NaN</td>\n",
       "      <td>NaN</td>\n",
       "      <td>NaN</td>\n",
       "      <td>NaN</td>\n",
       "      <td>7.000000</td>\n",
       "      <td>NaN</td>\n",
       "      <td>NaN</td>\n",
       "      <td>NaN</td>\n",
       "      <td>NaN</td>\n",
       "      <td>NaN</td>\n",
       "      <td>NaN</td>\n",
       "    </tr>\n",
       "    <tr>\n",
       "      <th>50%</th>\n",
       "      <td>NaN</td>\n",
       "      <td>NaN</td>\n",
       "      <td>NaN</td>\n",
       "      <td>NaN</td>\n",
       "      <td>NaN</td>\n",
       "      <td>41.000000</td>\n",
       "      <td>NaN</td>\n",
       "      <td>NaN</td>\n",
       "      <td>NaN</td>\n",
       "      <td>NaN</td>\n",
       "      <td>NaN</td>\n",
       "      <td>NaN</td>\n",
       "    </tr>\n",
       "    <tr>\n",
       "      <th>75%</th>\n",
       "      <td>NaN</td>\n",
       "      <td>NaN</td>\n",
       "      <td>NaN</td>\n",
       "      <td>NaN</td>\n",
       "      <td>NaN</td>\n",
       "      <td>198.000000</td>\n",
       "      <td>NaN</td>\n",
       "      <td>NaN</td>\n",
       "      <td>NaN</td>\n",
       "      <td>NaN</td>\n",
       "      <td>NaN</td>\n",
       "      <td>NaN</td>\n",
       "    </tr>\n",
       "    <tr>\n",
       "      <th>max</th>\n",
       "      <td>NaN</td>\n",
       "      <td>NaN</td>\n",
       "      <td>NaN</td>\n",
       "      <td>NaN</td>\n",
       "      <td>NaN</td>\n",
       "      <td>16832.000000</td>\n",
       "      <td>NaN</td>\n",
       "      <td>NaN</td>\n",
       "      <td>NaN</td>\n",
       "      <td>NaN</td>\n",
       "      <td>NaN</td>\n",
       "      <td>NaN</td>\n",
       "    </tr>\n",
       "  </tbody>\n",
       "</table>\n",
       "</div>"
      ],
      "text/plain": [
       "              address             name online_order book_table   rate  \\\n",
       "count           51717            51717        51717      51717  43942   \n",
       "unique          11495             8792            2          2     64   \n",
       "top     Delivery Only  Cafe Coffee Day          Yes         No    NEW   \n",
       "freq              128               96        30444      45268   2208   \n",
       "mean              NaN              NaN          NaN        NaN    NaN   \n",
       "std               NaN              NaN          NaN        NaN    NaN   \n",
       "min               NaN              NaN          NaN        NaN    NaN   \n",
       "25%               NaN              NaN          NaN        NaN    NaN   \n",
       "50%               NaN              NaN          NaN        NaN    NaN   \n",
       "75%               NaN              NaN          NaN        NaN    NaN   \n",
       "max               NaN              NaN          NaN        NaN    NaN   \n",
       "\n",
       "               votes location    rest_type dish_liked      cuisines  \\\n",
       "count   51717.000000    51696        51490      23639         51672   \n",
       "unique           NaN       93           93       5271          2723   \n",
       "top              NaN      BTM  Quick Bites    Biryani  North Indian   \n",
       "freq             NaN     5124        19132        182          2913   \n",
       "mean      283.697527      NaN          NaN        NaN           NaN   \n",
       "std       803.838853      NaN          NaN        NaN           NaN   \n",
       "min         0.000000      NaN          NaN        NaN           NaN   \n",
       "25%         7.000000      NaN          NaN        NaN           NaN   \n",
       "50%        41.000000      NaN          NaN        NaN           NaN   \n",
       "75%       198.000000      NaN          NaN        NaN           NaN   \n",
       "max     16832.000000      NaN          NaN        NaN           NaN   \n",
       "\n",
       "       approx_cost(for two people) listed_in(type)  \n",
       "count                        51371           51717  \n",
       "unique                          70               7  \n",
       "top                            300        Delivery  \n",
       "freq                          7576           25942  \n",
       "mean                           NaN             NaN  \n",
       "std                            NaN             NaN  \n",
       "min                            NaN             NaN  \n",
       "25%                            NaN             NaN  \n",
       "50%                            NaN             NaN  \n",
       "75%                            NaN             NaN  \n",
       "max                            NaN             NaN  "
      ]
     },
     "execution_count": 14,
     "metadata": {},
     "output_type": "execute_result"
    }
   ],
   "source": [
    "data.describe(include='all')"
   ]
  },
  {
   "cell_type": "code",
   "execution_count": 15,
   "id": "53427a61",
   "metadata": {},
   "outputs": [
    {
     "name": "stdout",
     "output_type": "stream",
     "text": [
      "<class 'pandas.core.frame.DataFrame'>\n",
      "RangeIndex: 51717 entries, 0 to 51716\n",
      "Data columns (total 12 columns):\n",
      " #   Column                       Non-Null Count  Dtype \n",
      "---  ------                       --------------  ----- \n",
      " 0   address                      51717 non-null  object\n",
      " 1   name                         51717 non-null  object\n",
      " 2   online_order                 51717 non-null  object\n",
      " 3   book_table                   51717 non-null  object\n",
      " 4   rate                         43942 non-null  object\n",
      " 5   votes                        51717 non-null  int64 \n",
      " 6   location                     51696 non-null  object\n",
      " 7   rest_type                    51490 non-null  object\n",
      " 8   dish_liked                   23639 non-null  object\n",
      " 9   cuisines                     51672 non-null  object\n",
      " 10  approx_cost(for two people)  51371 non-null  object\n",
      " 11  listed_in(type)              51717 non-null  object\n",
      "dtypes: int64(1), object(11)\n",
      "memory usage: 4.7+ MB\n"
     ]
    }
   ],
   "source": [
    "data.info()"
   ]
  },
  {
   "cell_type": "markdown",
   "id": "8eba5202",
   "metadata": {},
   "source": [
    "> 1. So there are many __missing values__ in columns like __rate, location, dish_liked, rest_type, cuisines, approx_cost(for two people)__.\n",
    "\n",
    "> 2. dtypes of many features are not correct.\n",
    "\n",
    "> 3. We will also see if there are any chance of dropping some more useless column in further analysis."
   ]
  },
  {
   "cell_type": "markdown",
   "id": "0162cac3",
   "metadata": {},
   "source": [
    "## Renaming two columns"
   ]
  },
  {
   "cell_type": "code",
   "execution_count": 16,
   "id": "fccf6581",
   "metadata": {},
   "outputs": [],
   "source": [
    "## Lets change some names of columns which are two large:\n",
    "data.rename(columns={\"approx_cost(for two people)\":\"avg_cost\",\"listed_in(type)\":\"type\"}, inplace=True)"
   ]
  },
  {
   "cell_type": "code",
   "execution_count": 17,
   "id": "4a800b26",
   "metadata": {},
   "outputs": [
    {
     "data": {
      "text/html": [
       "<div>\n",
       "<style scoped>\n",
       "    .dataframe tbody tr th:only-of-type {\n",
       "        vertical-align: middle;\n",
       "    }\n",
       "\n",
       "    .dataframe tbody tr th {\n",
       "        vertical-align: top;\n",
       "    }\n",
       "\n",
       "    .dataframe thead th {\n",
       "        text-align: right;\n",
       "    }\n",
       "</style>\n",
       "<table border=\"1\" class=\"dataframe\">\n",
       "  <thead>\n",
       "    <tr style=\"text-align: right;\">\n",
       "      <th></th>\n",
       "      <th>address</th>\n",
       "      <th>name</th>\n",
       "      <th>online_order</th>\n",
       "      <th>book_table</th>\n",
       "      <th>rate</th>\n",
       "      <th>votes</th>\n",
       "      <th>location</th>\n",
       "      <th>rest_type</th>\n",
       "      <th>dish_liked</th>\n",
       "      <th>cuisines</th>\n",
       "      <th>avg_cost</th>\n",
       "      <th>type</th>\n",
       "    </tr>\n",
       "  </thead>\n",
       "  <tbody>\n",
       "    <tr>\n",
       "      <th>0</th>\n",
       "      <td>942, 21st Main Road, 2nd Stage, Banashankari, ...</td>\n",
       "      <td>Jalsa</td>\n",
       "      <td>Yes</td>\n",
       "      <td>Yes</td>\n",
       "      <td>4.1/5</td>\n",
       "      <td>775</td>\n",
       "      <td>Banashankari</td>\n",
       "      <td>Casual Dining</td>\n",
       "      <td>Pasta, Lunch Buffet, Masala Papad, Paneer Laja...</td>\n",
       "      <td>North Indian, Mughlai, Chinese</td>\n",
       "      <td>800</td>\n",
       "      <td>Buffet</td>\n",
       "    </tr>\n",
       "    <tr>\n",
       "      <th>1</th>\n",
       "      <td>2nd Floor, 80 Feet Road, Near Big Bazaar, 6th ...</td>\n",
       "      <td>Spice Elephant</td>\n",
       "      <td>Yes</td>\n",
       "      <td>No</td>\n",
       "      <td>4.1/5</td>\n",
       "      <td>787</td>\n",
       "      <td>Banashankari</td>\n",
       "      <td>Casual Dining</td>\n",
       "      <td>Momos, Lunch Buffet, Chocolate Nirvana, Thai G...</td>\n",
       "      <td>Chinese, North Indian, Thai</td>\n",
       "      <td>800</td>\n",
       "      <td>Buffet</td>\n",
       "    </tr>\n",
       "    <tr>\n",
       "      <th>2</th>\n",
       "      <td>1112, Next to KIMS Medical College, 17th Cross...</td>\n",
       "      <td>San Churro Cafe</td>\n",
       "      <td>Yes</td>\n",
       "      <td>No</td>\n",
       "      <td>3.8/5</td>\n",
       "      <td>918</td>\n",
       "      <td>Banashankari</td>\n",
       "      <td>Cafe, Casual Dining</td>\n",
       "      <td>Churros, Cannelloni, Minestrone Soup, Hot Choc...</td>\n",
       "      <td>Cafe, Mexican, Italian</td>\n",
       "      <td>800</td>\n",
       "      <td>Buffet</td>\n",
       "    </tr>\n",
       "    <tr>\n",
       "      <th>3</th>\n",
       "      <td>1st Floor, Annakuteera, 3rd Stage, Banashankar...</td>\n",
       "      <td>Addhuri Udupi Bhojana</td>\n",
       "      <td>No</td>\n",
       "      <td>No</td>\n",
       "      <td>3.7/5</td>\n",
       "      <td>88</td>\n",
       "      <td>Banashankari</td>\n",
       "      <td>Quick Bites</td>\n",
       "      <td>Masala Dosa</td>\n",
       "      <td>South Indian, North Indian</td>\n",
       "      <td>300</td>\n",
       "      <td>Buffet</td>\n",
       "    </tr>\n",
       "    <tr>\n",
       "      <th>4</th>\n",
       "      <td>10, 3rd Floor, Lakshmi Associates, Gandhi Baza...</td>\n",
       "      <td>Grand Village</td>\n",
       "      <td>No</td>\n",
       "      <td>No</td>\n",
       "      <td>3.8/5</td>\n",
       "      <td>166</td>\n",
       "      <td>Basavanagudi</td>\n",
       "      <td>Casual Dining</td>\n",
       "      <td>Panipuri, Gol Gappe</td>\n",
       "      <td>North Indian, Rajasthani</td>\n",
       "      <td>600</td>\n",
       "      <td>Buffet</td>\n",
       "    </tr>\n",
       "  </tbody>\n",
       "</table>\n",
       "</div>"
      ],
      "text/plain": [
       "                                             address                   name  \\\n",
       "0  942, 21st Main Road, 2nd Stage, Banashankari, ...                  Jalsa   \n",
       "1  2nd Floor, 80 Feet Road, Near Big Bazaar, 6th ...         Spice Elephant   \n",
       "2  1112, Next to KIMS Medical College, 17th Cross...        San Churro Cafe   \n",
       "3  1st Floor, Annakuteera, 3rd Stage, Banashankar...  Addhuri Udupi Bhojana   \n",
       "4  10, 3rd Floor, Lakshmi Associates, Gandhi Baza...          Grand Village   \n",
       "\n",
       "  online_order book_table   rate  votes      location            rest_type  \\\n",
       "0          Yes        Yes  4.1/5    775  Banashankari        Casual Dining   \n",
       "1          Yes         No  4.1/5    787  Banashankari        Casual Dining   \n",
       "2          Yes         No  3.8/5    918  Banashankari  Cafe, Casual Dining   \n",
       "3           No         No  3.7/5     88  Banashankari          Quick Bites   \n",
       "4           No         No  3.8/5    166  Basavanagudi        Casual Dining   \n",
       "\n",
       "                                          dish_liked  \\\n",
       "0  Pasta, Lunch Buffet, Masala Papad, Paneer Laja...   \n",
       "1  Momos, Lunch Buffet, Chocolate Nirvana, Thai G...   \n",
       "2  Churros, Cannelloni, Minestrone Soup, Hot Choc...   \n",
       "3                                        Masala Dosa   \n",
       "4                                Panipuri, Gol Gappe   \n",
       "\n",
       "                         cuisines avg_cost    type  \n",
       "0  North Indian, Mughlai, Chinese      800  Buffet  \n",
       "1     Chinese, North Indian, Thai      800  Buffet  \n",
       "2          Cafe, Mexican, Italian      800  Buffet  \n",
       "3      South Indian, North Indian      300  Buffet  \n",
       "4        North Indian, Rajasthani      600  Buffet  "
      ]
     },
     "execution_count": 17,
     "metadata": {},
     "output_type": "execute_result"
    }
   ],
   "source": [
    "data.head()"
   ]
  },
  {
   "cell_type": "code",
   "execution_count": null,
   "id": "1698c362",
   "metadata": {},
   "outputs": [],
   "source": []
  },
  {
   "cell_type": "markdown",
   "id": "c61801df",
   "metadata": {},
   "source": [
    "## Checking Missing Values in features"
   ]
  },
  {
   "cell_type": "code",
   "execution_count": 18,
   "id": "acd1621c",
   "metadata": {},
   "outputs": [],
   "source": [
    "feature_withNA = [features for features in data.columns if data[features].isnull().sum()>0]"
   ]
  },
  {
   "cell_type": "code",
   "execution_count": 19,
   "id": "228dcbbd",
   "metadata": {},
   "outputs": [
    {
     "name": "stdout",
     "output_type": "stream",
     "text": [
      "rate has 15.03% missing value\n",
      "location has 0.04% missing value\n",
      "rest_type has 0.44% missing value\n",
      "dish_liked has 54.29% missing value\n",
      "cuisines has 0.09% missing value\n",
      "avg_cost has 0.67% missing value\n"
     ]
    }
   ],
   "source": [
    "## % Amount of missing values\n",
    "for features in feature_withNA:\n",
    "    amt = data[features].isnull().sum()\n",
    "    val= amt/data.shape[0] * 100\n",
    "    perc=np.round(val,2)\n",
    "    print(f\"{features} has {perc}% missing value\")"
   ]
  },
  {
   "cell_type": "markdown",
   "id": "be84ed9d",
   "metadata": {},
   "source": [
    "# In-depth Analysis of each column"
   ]
  },
  {
   "cell_type": "code",
   "execution_count": 20,
   "id": "ff5b8001",
   "metadata": {},
   "outputs": [
    {
     "data": {
      "text/html": [
       "<div>\n",
       "<style scoped>\n",
       "    .dataframe tbody tr th:only-of-type {\n",
       "        vertical-align: middle;\n",
       "    }\n",
       "\n",
       "    .dataframe tbody tr th {\n",
       "        vertical-align: top;\n",
       "    }\n",
       "\n",
       "    .dataframe thead th {\n",
       "        text-align: right;\n",
       "    }\n",
       "</style>\n",
       "<table border=\"1\" class=\"dataframe\">\n",
       "  <thead>\n",
       "    <tr style=\"text-align: right;\">\n",
       "      <th></th>\n",
       "      <th>address</th>\n",
       "      <th>name</th>\n",
       "      <th>online_order</th>\n",
       "      <th>book_table</th>\n",
       "      <th>rate</th>\n",
       "      <th>votes</th>\n",
       "      <th>location</th>\n",
       "      <th>rest_type</th>\n",
       "      <th>dish_liked</th>\n",
       "      <th>cuisines</th>\n",
       "      <th>avg_cost</th>\n",
       "      <th>type</th>\n",
       "    </tr>\n",
       "  </thead>\n",
       "  <tbody>\n",
       "    <tr>\n",
       "      <th>0</th>\n",
       "      <td>942, 21st Main Road, 2nd Stage, Banashankari, ...</td>\n",
       "      <td>Jalsa</td>\n",
       "      <td>Yes</td>\n",
       "      <td>Yes</td>\n",
       "      <td>4.1/5</td>\n",
       "      <td>775</td>\n",
       "      <td>Banashankari</td>\n",
       "      <td>Casual Dining</td>\n",
       "      <td>Pasta, Lunch Buffet, Masala Papad, Paneer Laja...</td>\n",
       "      <td>North Indian, Mughlai, Chinese</td>\n",
       "      <td>800</td>\n",
       "      <td>Buffet</td>\n",
       "    </tr>\n",
       "    <tr>\n",
       "      <th>1</th>\n",
       "      <td>2nd Floor, 80 Feet Road, Near Big Bazaar, 6th ...</td>\n",
       "      <td>Spice Elephant</td>\n",
       "      <td>Yes</td>\n",
       "      <td>No</td>\n",
       "      <td>4.1/5</td>\n",
       "      <td>787</td>\n",
       "      <td>Banashankari</td>\n",
       "      <td>Casual Dining</td>\n",
       "      <td>Momos, Lunch Buffet, Chocolate Nirvana, Thai G...</td>\n",
       "      <td>Chinese, North Indian, Thai</td>\n",
       "      <td>800</td>\n",
       "      <td>Buffet</td>\n",
       "    </tr>\n",
       "    <tr>\n",
       "      <th>2</th>\n",
       "      <td>1112, Next to KIMS Medical College, 17th Cross...</td>\n",
       "      <td>San Churro Cafe</td>\n",
       "      <td>Yes</td>\n",
       "      <td>No</td>\n",
       "      <td>3.8/5</td>\n",
       "      <td>918</td>\n",
       "      <td>Banashankari</td>\n",
       "      <td>Cafe, Casual Dining</td>\n",
       "      <td>Churros, Cannelloni, Minestrone Soup, Hot Choc...</td>\n",
       "      <td>Cafe, Mexican, Italian</td>\n",
       "      <td>800</td>\n",
       "      <td>Buffet</td>\n",
       "    </tr>\n",
       "    <tr>\n",
       "      <th>3</th>\n",
       "      <td>1st Floor, Annakuteera, 3rd Stage, Banashankar...</td>\n",
       "      <td>Addhuri Udupi Bhojana</td>\n",
       "      <td>No</td>\n",
       "      <td>No</td>\n",
       "      <td>3.7/5</td>\n",
       "      <td>88</td>\n",
       "      <td>Banashankari</td>\n",
       "      <td>Quick Bites</td>\n",
       "      <td>Masala Dosa</td>\n",
       "      <td>South Indian, North Indian</td>\n",
       "      <td>300</td>\n",
       "      <td>Buffet</td>\n",
       "    </tr>\n",
       "    <tr>\n",
       "      <th>4</th>\n",
       "      <td>10, 3rd Floor, Lakshmi Associates, Gandhi Baza...</td>\n",
       "      <td>Grand Village</td>\n",
       "      <td>No</td>\n",
       "      <td>No</td>\n",
       "      <td>3.8/5</td>\n",
       "      <td>166</td>\n",
       "      <td>Basavanagudi</td>\n",
       "      <td>Casual Dining</td>\n",
       "      <td>Panipuri, Gol Gappe</td>\n",
       "      <td>North Indian, Rajasthani</td>\n",
       "      <td>600</td>\n",
       "      <td>Buffet</td>\n",
       "    </tr>\n",
       "  </tbody>\n",
       "</table>\n",
       "</div>"
      ],
      "text/plain": [
       "                                             address                   name  \\\n",
       "0  942, 21st Main Road, 2nd Stage, Banashankari, ...                  Jalsa   \n",
       "1  2nd Floor, 80 Feet Road, Near Big Bazaar, 6th ...         Spice Elephant   \n",
       "2  1112, Next to KIMS Medical College, 17th Cross...        San Churro Cafe   \n",
       "3  1st Floor, Annakuteera, 3rd Stage, Banashankar...  Addhuri Udupi Bhojana   \n",
       "4  10, 3rd Floor, Lakshmi Associates, Gandhi Baza...          Grand Village   \n",
       "\n",
       "  online_order book_table   rate  votes      location            rest_type  \\\n",
       "0          Yes        Yes  4.1/5    775  Banashankari        Casual Dining   \n",
       "1          Yes         No  4.1/5    787  Banashankari        Casual Dining   \n",
       "2          Yes         No  3.8/5    918  Banashankari  Cafe, Casual Dining   \n",
       "3           No         No  3.7/5     88  Banashankari          Quick Bites   \n",
       "4           No         No  3.8/5    166  Basavanagudi        Casual Dining   \n",
       "\n",
       "                                          dish_liked  \\\n",
       "0  Pasta, Lunch Buffet, Masala Papad, Paneer Laja...   \n",
       "1  Momos, Lunch Buffet, Chocolate Nirvana, Thai G...   \n",
       "2  Churros, Cannelloni, Minestrone Soup, Hot Choc...   \n",
       "3                                        Masala Dosa   \n",
       "4                                Panipuri, Gol Gappe   \n",
       "\n",
       "                         cuisines avg_cost    type  \n",
       "0  North Indian, Mughlai, Chinese      800  Buffet  \n",
       "1     Chinese, North Indian, Thai      800  Buffet  \n",
       "2          Cafe, Mexican, Italian      800  Buffet  \n",
       "3      South Indian, North Indian      300  Buffet  \n",
       "4        North Indian, Rajasthani      600  Buffet  "
      ]
     },
     "execution_count": 20,
     "metadata": {},
     "output_type": "execute_result"
    }
   ],
   "source": [
    "data.head()"
   ]
  },
  {
   "cell_type": "markdown",
   "id": "566ed8fd",
   "metadata": {},
   "source": [
    "### column: rest_type vs type"
   ]
  },
  {
   "cell_type": "code",
   "execution_count": 21,
   "id": "ac5a0299",
   "metadata": {},
   "outputs": [
    {
     "data": {
      "text/plain": [
       "Delivery              25942\n",
       "Dine-out              17779\n",
       "Desserts               3593\n",
       "Cafes                  1723\n",
       "Drinks & nightlife     1101\n",
       "Buffet                  882\n",
       "Pubs and bars           697\n",
       "Name: type, dtype: int64"
      ]
     },
     "execution_count": 21,
     "metadata": {},
     "output_type": "execute_result"
    }
   ],
   "source": [
    "## lets see the count in type and rest_type\n",
    "## Bcoz both giving similar knowledge\n",
    "data['type'].value_counts()"
   ]
  },
  {
   "cell_type": "code",
   "execution_count": 22,
   "id": "01fb6a72",
   "metadata": {
    "scrolled": true
   },
   "outputs": [
    {
     "data": {
      "text/plain": [
       "Quick Bites                      19132\n",
       "Casual Dining                    10330\n",
       "Cafe                              3732\n",
       "Delivery                          2604\n",
       "Dessert Parlor                    2263\n",
       "Takeaway, Delivery                2037\n",
       "Casual Dining, Bar                1154\n",
       "Bakery                            1141\n",
       "Beverage Shop                      867\n",
       "Bar                                697\n",
       "Food Court                         624\n",
       "Sweet Shop                         468\n",
       "Bar, Casual Dining                 425\n",
       "Lounge                             396\n",
       "Pub                                357\n",
       "Fine Dining                        346\n",
       "Casual Dining, Cafe                319\n",
       "Beverage Shop, Quick Bites         298\n",
       "Bakery, Quick Bites                289\n",
       "Mess                               267\n",
       "Pub, Casual Dining                 255\n",
       "Sweet Shop, Quick Bites            178\n",
       "Kiosk                              176\n",
       "Dessert Parlor, Cafe               175\n",
       "Cafe, Casual Dining                173\n",
       "Cafe, Bakery                       164\n",
       "Cafe, Dessert Parlor               148\n",
       "Bakery, Dessert Parlor             147\n",
       "Microbrewery, Casual Dining        132\n",
       "Casual Dining, Pub                 127\n",
       "Dessert Parlor, Quick Bites        125\n",
       "Takeaway                           120\n",
       "Cafe, Quick Bites                  111\n",
       "Quick Bites, Beverage Shop         101\n",
       "Food Court, Quick Bites            101\n",
       "Dessert Parlor, Bakery              85\n",
       "Quick Bites, Dessert Parlor         84\n",
       "Pub, Microbrewery                   84\n",
       "Food Truck                          84\n",
       "Dessert Parlor, Beverage Shop       80\n",
       "Beverage Shop, Dessert Parlor       79\n",
       "Bakery, Cafe                        78\n",
       "Quick Bites, Sweet Shop             75\n",
       "Quick Bites, Bakery                 60\n",
       "Casual Dining, Microbrewery         59\n",
       "Confectionery                       47\n",
       "Microbrewery, Pub                   42\n",
       "Quick Bites, Cafe                   41\n",
       "Dhaba                               40\n",
       "Pub, Bar                            40\n",
       "Pub, Cafe                           40\n",
       "Fine Dining, Bar                    40\n",
       "Lounge, Casual Dining               37\n",
       "Club                                37\n",
       "Lounge, Bar                         36\n",
       "Microbrewery                        30\n",
       "Beverage Shop, Cafe                 28\n",
       "Quick Bites, Food Court             19\n",
       "Cafe, Bar                           19\n",
       "Lounge, Microbrewery                16\n",
       "Bakery, Beverage Shop               16\n",
       "Lounge, Cafe                        16\n",
       "Cafe, Lounge                        15\n",
       "Casual Dining, Irani Cafee          15\n",
       "Fine Dining, Lounge                 14\n",
       "Bar, Cafe                           13\n",
       "Bakery, Kiosk                       13\n",
       "Microbrewery, Bar                   13\n",
       "Dessert Parlor, Sweet Shop          12\n",
       "Casual Dining, Lounge               10\n",
       "Bar, Quick Bites                     9\n",
       "Microbrewery, Lounge                 9\n",
       "Casual Dining, Sweet Shop            8\n",
       "Food Court, Dessert Parlor           8\n",
       "Bar, Lounge                          6\n",
       "Food Court, Casual Dining            5\n",
       "Fine Dining, Microbrewery            5\n",
       "Bar, Pub                             5\n",
       "Casual Dining, Quick Bites           4\n",
       "Quick Bites, Mess                    4\n",
       "Club, Casual Dining                  4\n",
       "Quick Bites, Meat Shop               4\n",
       "Mess, Quick Bites                    3\n",
       "Bakery, Sweet Shop                   3\n",
       "Bhojanalya                           3\n",
       "Bakery, Food Court                   2\n",
       "Dessert Parlor, Food Court           2\n",
       "Pop Up                               2\n",
       "Food Court, Beverage Shop            2\n",
       "Cafe, Food Court                     2\n",
       "Dessert Parlor, Kiosk                2\n",
       "Sweet Shop, Dessert Parlor           1\n",
       "Quick Bites, Kiosk                   1\n",
       "Name: rest_type, dtype: int64"
      ]
     },
     "execution_count": 22,
     "metadata": {},
     "output_type": "execute_result"
    }
   ],
   "source": [
    "data[\"rest_type\"].value_counts()"
   ]
  },
  {
   "cell_type": "markdown",
   "id": "e0855921",
   "metadata": {},
   "source": [
    "> Since type has only __7 dimensions__ but rest_type has __93 dimension__ and that also jumbled [(like Dessert Parlor, Kiosk), (Food Court, Beverage Shop), etc.]. So to avoid __high dimensionality__ we can go for __type__ column rather than rest_type column."
   ]
  },
  {
   "cell_type": "code",
   "execution_count": 23,
   "id": "a590be90",
   "metadata": {},
   "outputs": [],
   "source": [
    "data.drop(columns='rest_type', inplace=True)"
   ]
  },
  {
   "cell_type": "code",
   "execution_count": null,
   "id": "c0801997",
   "metadata": {},
   "outputs": [],
   "source": []
  },
  {
   "cell_type": "markdown",
   "id": "998e6256",
   "metadata": {},
   "source": [
    "### column: address Vs. location"
   ]
  },
  {
   "cell_type": "code",
   "execution_count": 24,
   "id": "11c4ed5c",
   "metadata": {},
   "outputs": [
    {
     "data": {
      "text/html": [
       "<div>\n",
       "<style scoped>\n",
       "    .dataframe tbody tr th:only-of-type {\n",
       "        vertical-align: middle;\n",
       "    }\n",
       "\n",
       "    .dataframe tbody tr th {\n",
       "        vertical-align: top;\n",
       "    }\n",
       "\n",
       "    .dataframe thead th {\n",
       "        text-align: right;\n",
       "    }\n",
       "</style>\n",
       "<table border=\"1\" class=\"dataframe\">\n",
       "  <thead>\n",
       "    <tr style=\"text-align: right;\">\n",
       "      <th></th>\n",
       "      <th>address</th>\n",
       "      <th>location</th>\n",
       "    </tr>\n",
       "  </thead>\n",
       "  <tbody>\n",
       "    <tr>\n",
       "      <th>0</th>\n",
       "      <td>942, 21st Main Road, 2nd Stage, Banashankari, ...</td>\n",
       "      <td>Banashankari</td>\n",
       "    </tr>\n",
       "    <tr>\n",
       "      <th>1</th>\n",
       "      <td>2nd Floor, 80 Feet Road, Near Big Bazaar, 6th ...</td>\n",
       "      <td>Banashankari</td>\n",
       "    </tr>\n",
       "    <tr>\n",
       "      <th>2</th>\n",
       "      <td>1112, Next to KIMS Medical College, 17th Cross...</td>\n",
       "      <td>Banashankari</td>\n",
       "    </tr>\n",
       "    <tr>\n",
       "      <th>3</th>\n",
       "      <td>1st Floor, Annakuteera, 3rd Stage, Banashankar...</td>\n",
       "      <td>Banashankari</td>\n",
       "    </tr>\n",
       "    <tr>\n",
       "      <th>4</th>\n",
       "      <td>10, 3rd Floor, Lakshmi Associates, Gandhi Baza...</td>\n",
       "      <td>Basavanagudi</td>\n",
       "    </tr>\n",
       "  </tbody>\n",
       "</table>\n",
       "</div>"
      ],
      "text/plain": [
       "                                             address      location\n",
       "0  942, 21st Main Road, 2nd Stage, Banashankari, ...  Banashankari\n",
       "1  2nd Floor, 80 Feet Road, Near Big Bazaar, 6th ...  Banashankari\n",
       "2  1112, Next to KIMS Medical College, 17th Cross...  Banashankari\n",
       "3  1st Floor, Annakuteera, 3rd Stage, Banashankar...  Banashankari\n",
       "4  10, 3rd Floor, Lakshmi Associates, Gandhi Baza...  Basavanagudi"
      ]
     },
     "execution_count": 24,
     "metadata": {},
     "output_type": "execute_result"
    }
   ],
   "source": [
    "data[[\"address\", \"location\"]].head()"
   ]
  },
  {
   "cell_type": "code",
   "execution_count": 25,
   "id": "47c84c4f",
   "metadata": {},
   "outputs": [
    {
     "data": {
      "text/html": [
       "<div>\n",
       "<style scoped>\n",
       "    .dataframe tbody tr th:only-of-type {\n",
       "        vertical-align: middle;\n",
       "    }\n",
       "\n",
       "    .dataframe tbody tr th {\n",
       "        vertical-align: top;\n",
       "    }\n",
       "\n",
       "    .dataframe thead th {\n",
       "        text-align: right;\n",
       "    }\n",
       "</style>\n",
       "<table border=\"1\" class=\"dataframe\">\n",
       "  <thead>\n",
       "    <tr style=\"text-align: right;\">\n",
       "      <th></th>\n",
       "      <th>address</th>\n",
       "      <th>name</th>\n",
       "      <th>online_order</th>\n",
       "      <th>book_table</th>\n",
       "      <th>rate</th>\n",
       "      <th>votes</th>\n",
       "      <th>location</th>\n",
       "      <th>dish_liked</th>\n",
       "      <th>cuisines</th>\n",
       "      <th>avg_cost</th>\n",
       "      <th>type</th>\n",
       "    </tr>\n",
       "  </thead>\n",
       "  <tbody>\n",
       "    <tr>\n",
       "      <th>1662</th>\n",
       "      <td>6, Abbiah Layout KC Halli Main Road, Bommanaha...</td>\n",
       "      <td>Papa Khan Rasoi</td>\n",
       "      <td>No</td>\n",
       "      <td>No</td>\n",
       "      <td>NaN</td>\n",
       "      <td>0</td>\n",
       "      <td>NaN</td>\n",
       "      <td>NaN</td>\n",
       "      <td>NaN</td>\n",
       "      <td>NaN</td>\n",
       "      <td>Delivery</td>\n",
       "    </tr>\n",
       "    <tr>\n",
       "      <th>9874</th>\n",
       "      <td>6, Abbiah Layout KC Halli Main Road, Bommanaha...</td>\n",
       "      <td>Papa Khan Rasoi</td>\n",
       "      <td>No</td>\n",
       "      <td>No</td>\n",
       "      <td>NaN</td>\n",
       "      <td>0</td>\n",
       "      <td>NaN</td>\n",
       "      <td>NaN</td>\n",
       "      <td>NaN</td>\n",
       "      <td>NaN</td>\n",
       "      <td>Delivery</td>\n",
       "    </tr>\n",
       "    <tr>\n",
       "      <th>13693</th>\n",
       "      <td>Chandapura- Anakal Main Road, Oppsite Vemana H...</td>\n",
       "      <td>Mohabbat Desi Restaurant</td>\n",
       "      <td>No</td>\n",
       "      <td>No</td>\n",
       "      <td>NaN</td>\n",
       "      <td>0</td>\n",
       "      <td>NaN</td>\n",
       "      <td>NaN</td>\n",
       "      <td>NaN</td>\n",
       "      <td>NaN</td>\n",
       "      <td>Delivery</td>\n",
       "    </tr>\n",
       "    <tr>\n",
       "      <th>16351</th>\n",
       "      <td>Kudlu Gate, Bommanahalli, Bangalore</td>\n",
       "      <td>Desi Chatkara</td>\n",
       "      <td>No</td>\n",
       "      <td>No</td>\n",
       "      <td>NaN</td>\n",
       "      <td>0</td>\n",
       "      <td>NaN</td>\n",
       "      <td>NaN</td>\n",
       "      <td>NaN</td>\n",
       "      <td>NaN</td>\n",
       "      <td>Delivery</td>\n",
       "    </tr>\n",
       "    <tr>\n",
       "      <th>26432</th>\n",
       "      <td>IB Road, Lorry Stand, Kushaal Nagar, Ward 10, ...</td>\n",
       "      <td>New Taj Biryani Centre</td>\n",
       "      <td>No</td>\n",
       "      <td>No</td>\n",
       "      <td>NaN</td>\n",
       "      <td>0</td>\n",
       "      <td>NaN</td>\n",
       "      <td>NaN</td>\n",
       "      <td>NaN</td>\n",
       "      <td>NaN</td>\n",
       "      <td>Dine-out</td>\n",
       "    </tr>\n",
       "    <tr>\n",
       "      <th>26519</th>\n",
       "      <td>Koramangala 8th Block, Bangalore</td>\n",
       "      <td>AB's - Absolute Barbecues</td>\n",
       "      <td>No</td>\n",
       "      <td>No</td>\n",
       "      <td>NaN</td>\n",
       "      <td>0</td>\n",
       "      <td>NaN</td>\n",
       "      <td>NaN</td>\n",
       "      <td>NaN</td>\n",
       "      <td>NaN</td>\n",
       "      <td>Buffet</td>\n",
       "    </tr>\n",
       "    <tr>\n",
       "      <th>27672</th>\n",
       "      <td>6, Kathalipalya Village, 6th Cross, Koramangal...</td>\n",
       "      <td>Manchow</td>\n",
       "      <td>No</td>\n",
       "      <td>No</td>\n",
       "      <td>NaN</td>\n",
       "      <td>0</td>\n",
       "      <td>NaN</td>\n",
       "      <td>NaN</td>\n",
       "      <td>NaN</td>\n",
       "      <td>NaN</td>\n",
       "      <td>Delivery</td>\n",
       "    </tr>\n",
       "    <tr>\n",
       "      <th>28611</th>\n",
       "      <td>6, Kathalipalya Village, 6th Cross, Koramangal...</td>\n",
       "      <td>Manchow</td>\n",
       "      <td>No</td>\n",
       "      <td>No</td>\n",
       "      <td>NaN</td>\n",
       "      <td>0</td>\n",
       "      <td>NaN</td>\n",
       "      <td>NaN</td>\n",
       "      <td>NaN</td>\n",
       "      <td>NaN</td>\n",
       "      <td>Dine-out</td>\n",
       "    </tr>\n",
       "    <tr>\n",
       "      <th>29298</th>\n",
       "      <td>Koramangala 8th Block, Bangalore</td>\n",
       "      <td>AB's - Absolute Barbecues</td>\n",
       "      <td>No</td>\n",
       "      <td>No</td>\n",
       "      <td>NaN</td>\n",
       "      <td>0</td>\n",
       "      <td>NaN</td>\n",
       "      <td>NaN</td>\n",
       "      <td>NaN</td>\n",
       "      <td>NaN</td>\n",
       "      <td>Buffet</td>\n",
       "    </tr>\n",
       "    <tr>\n",
       "      <th>30604</th>\n",
       "      <td>6, Kathalipalya Village, 6th Cross, Koramangal...</td>\n",
       "      <td>Manchow</td>\n",
       "      <td>No</td>\n",
       "      <td>No</td>\n",
       "      <td>NaN</td>\n",
       "      <td>0</td>\n",
       "      <td>NaN</td>\n",
       "      <td>NaN</td>\n",
       "      <td>NaN</td>\n",
       "      <td>NaN</td>\n",
       "      <td>Delivery</td>\n",
       "    </tr>\n",
       "    <tr>\n",
       "      <th>31400</th>\n",
       "      <td>6, Kathalipalya Village, 6th Cross, Koramangal...</td>\n",
       "      <td>Manchow</td>\n",
       "      <td>No</td>\n",
       "      <td>No</td>\n",
       "      <td>NaN</td>\n",
       "      <td>0</td>\n",
       "      <td>NaN</td>\n",
       "      <td>NaN</td>\n",
       "      <td>NaN</td>\n",
       "      <td>NaN</td>\n",
       "      <td>Dine-out</td>\n",
       "    </tr>\n",
       "    <tr>\n",
       "      <th>32131</th>\n",
       "      <td>Koramangala 8th Block, Bangalore</td>\n",
       "      <td>AB's - Absolute Barbecues</td>\n",
       "      <td>No</td>\n",
       "      <td>No</td>\n",
       "      <td>NaN</td>\n",
       "      <td>0</td>\n",
       "      <td>NaN</td>\n",
       "      <td>NaN</td>\n",
       "      <td>NaN</td>\n",
       "      <td>NaN</td>\n",
       "      <td>Buffet</td>\n",
       "    </tr>\n",
       "    <tr>\n",
       "      <th>33457</th>\n",
       "      <td>80 Feet Road, Koramangala 4th Block, Bangalore</td>\n",
       "      <td>La Lunch Box</td>\n",
       "      <td>No</td>\n",
       "      <td>No</td>\n",
       "      <td>NaN</td>\n",
       "      <td>0</td>\n",
       "      <td>NaN</td>\n",
       "      <td>NaN</td>\n",
       "      <td>NaN</td>\n",
       "      <td>NaN</td>\n",
       "      <td>Delivery</td>\n",
       "    </tr>\n",
       "    <tr>\n",
       "      <th>34755</th>\n",
       "      <td>Koramangala 8th Block, Bangalore</td>\n",
       "      <td>AB's - Absolute Barbecues</td>\n",
       "      <td>No</td>\n",
       "      <td>No</td>\n",
       "      <td>NaN</td>\n",
       "      <td>0</td>\n",
       "      <td>NaN</td>\n",
       "      <td>NaN</td>\n",
       "      <td>NaN</td>\n",
       "      <td>NaN</td>\n",
       "      <td>Buffet</td>\n",
       "    </tr>\n",
       "    <tr>\n",
       "      <th>40354</th>\n",
       "      <td>399/34, 19th Main, Near Navarang Theatre, 2nd ...</td>\n",
       "      <td>The Happy Vegetarian</td>\n",
       "      <td>No</td>\n",
       "      <td>No</td>\n",
       "      <td>NaN</td>\n",
       "      <td>0</td>\n",
       "      <td>NaN</td>\n",
       "      <td>NaN</td>\n",
       "      <td>NaN</td>\n",
       "      <td>NaN</td>\n",
       "      <td>Dine-out</td>\n",
       "    </tr>\n",
       "    <tr>\n",
       "      <th>40556</th>\n",
       "      <td>1630, 6th Main Road, AECS Layout E Block, Mara...</td>\n",
       "      <td>Risalo Restaurant</td>\n",
       "      <td>No</td>\n",
       "      <td>No</td>\n",
       "      <td>NaN</td>\n",
       "      <td>0</td>\n",
       "      <td>NaN</td>\n",
       "      <td>NaN</td>\n",
       "      <td>NaN</td>\n",
       "      <td>NaN</td>\n",
       "      <td>Cafes</td>\n",
       "    </tr>\n",
       "    <tr>\n",
       "      <th>41980</th>\n",
       "      <td>1630, 6th Main Road, AECS Layout E Block, Mara...</td>\n",
       "      <td>Risalo Restaurant</td>\n",
       "      <td>No</td>\n",
       "      <td>No</td>\n",
       "      <td>NaN</td>\n",
       "      <td>0</td>\n",
       "      <td>NaN</td>\n",
       "      <td>NaN</td>\n",
       "      <td>NaN</td>\n",
       "      <td>NaN</td>\n",
       "      <td>Dine-out</td>\n",
       "    </tr>\n",
       "    <tr>\n",
       "      <th>46586</th>\n",
       "      <td>9, Magadi Main Road, Cholourpalya, Vijay Nagar</td>\n",
       "      <td>The Cinema</td>\n",
       "      <td>No</td>\n",
       "      <td>No</td>\n",
       "      <td>NaN</td>\n",
       "      <td>0</td>\n",
       "      <td>NaN</td>\n",
       "      <td>NaN</td>\n",
       "      <td>NaN</td>\n",
       "      <td>NaN</td>\n",
       "      <td>Delivery</td>\n",
       "    </tr>\n",
       "    <tr>\n",
       "      <th>46609</th>\n",
       "      <td>West of Chord Road, Govindaraja Nagar, Below H...</td>\n",
       "      <td>Grill Biryanis</td>\n",
       "      <td>No</td>\n",
       "      <td>No</td>\n",
       "      <td>NaN</td>\n",
       "      <td>0</td>\n",
       "      <td>NaN</td>\n",
       "      <td>NaN</td>\n",
       "      <td>NaN</td>\n",
       "      <td>NaN</td>\n",
       "      <td>Delivery</td>\n",
       "    </tr>\n",
       "    <tr>\n",
       "      <th>46752</th>\n",
       "      <td>399/34, 19th Main, Near Navarang Theatre, 2nd ...</td>\n",
       "      <td>The Happy Vegetarian</td>\n",
       "      <td>No</td>\n",
       "      <td>No</td>\n",
       "      <td>NaN</td>\n",
       "      <td>0</td>\n",
       "      <td>NaN</td>\n",
       "      <td>NaN</td>\n",
       "      <td>NaN</td>\n",
       "      <td>NaN</td>\n",
       "      <td>Dine-out</td>\n",
       "    </tr>\n",
       "    <tr>\n",
       "      <th>47134</th>\n",
       "      <td>9, Magadi Main Road, Cholourpalya, Vijay Nagar</td>\n",
       "      <td>The Cinema</td>\n",
       "      <td>No</td>\n",
       "      <td>No</td>\n",
       "      <td>NaN</td>\n",
       "      <td>0</td>\n",
       "      <td>NaN</td>\n",
       "      <td>NaN</td>\n",
       "      <td>NaN</td>\n",
       "      <td>NaN</td>\n",
       "      <td>Dine-out</td>\n",
       "    </tr>\n",
       "  </tbody>\n",
       "</table>\n",
       "</div>"
      ],
      "text/plain": [
       "                                                 address  \\\n",
       "1662   6, Abbiah Layout KC Halli Main Road, Bommanaha...   \n",
       "9874   6, Abbiah Layout KC Halli Main Road, Bommanaha...   \n",
       "13693  Chandapura- Anakal Main Road, Oppsite Vemana H...   \n",
       "16351                Kudlu Gate, Bommanahalli, Bangalore   \n",
       "26432  IB Road, Lorry Stand, Kushaal Nagar, Ward 10, ...   \n",
       "26519                   Koramangala 8th Block, Bangalore   \n",
       "27672  6, Kathalipalya Village, 6th Cross, Koramangal...   \n",
       "28611  6, Kathalipalya Village, 6th Cross, Koramangal...   \n",
       "29298                   Koramangala 8th Block, Bangalore   \n",
       "30604  6, Kathalipalya Village, 6th Cross, Koramangal...   \n",
       "31400  6, Kathalipalya Village, 6th Cross, Koramangal...   \n",
       "32131                   Koramangala 8th Block, Bangalore   \n",
       "33457     80 Feet Road, Koramangala 4th Block, Bangalore   \n",
       "34755                   Koramangala 8th Block, Bangalore   \n",
       "40354  399/34, 19th Main, Near Navarang Theatre, 2nd ...   \n",
       "40556  1630, 6th Main Road, AECS Layout E Block, Mara...   \n",
       "41980  1630, 6th Main Road, AECS Layout E Block, Mara...   \n",
       "46586     9, Magadi Main Road, Cholourpalya, Vijay Nagar   \n",
       "46609  West of Chord Road, Govindaraja Nagar, Below H...   \n",
       "46752  399/34, 19th Main, Near Navarang Theatre, 2nd ...   \n",
       "47134     9, Magadi Main Road, Cholourpalya, Vijay Nagar   \n",
       "\n",
       "                            name online_order book_table rate  votes location  \\\n",
       "1662             Papa Khan Rasoi           No         No  NaN      0      NaN   \n",
       "9874             Papa Khan Rasoi           No         No  NaN      0      NaN   \n",
       "13693   Mohabbat Desi Restaurant           No         No  NaN      0      NaN   \n",
       "16351              Desi Chatkara           No         No  NaN      0      NaN   \n",
       "26432     New Taj Biryani Centre           No         No  NaN      0      NaN   \n",
       "26519  AB's - Absolute Barbecues           No         No  NaN      0      NaN   \n",
       "27672                    Manchow           No         No  NaN      0      NaN   \n",
       "28611                    Manchow           No         No  NaN      0      NaN   \n",
       "29298  AB's - Absolute Barbecues           No         No  NaN      0      NaN   \n",
       "30604                    Manchow           No         No  NaN      0      NaN   \n",
       "31400                    Manchow           No         No  NaN      0      NaN   \n",
       "32131  AB's - Absolute Barbecues           No         No  NaN      0      NaN   \n",
       "33457               La Lunch Box           No         No  NaN      0      NaN   \n",
       "34755  AB's - Absolute Barbecues           No         No  NaN      0      NaN   \n",
       "40354       The Happy Vegetarian           No         No  NaN      0      NaN   \n",
       "40556          Risalo Restaurant           No         No  NaN      0      NaN   \n",
       "41980          Risalo Restaurant           No         No  NaN      0      NaN   \n",
       "46586                 The Cinema           No         No  NaN      0      NaN   \n",
       "46609             Grill Biryanis           No         No  NaN      0      NaN   \n",
       "46752       The Happy Vegetarian           No         No  NaN      0      NaN   \n",
       "47134                 The Cinema           No         No  NaN      0      NaN   \n",
       "\n",
       "      dish_liked cuisines avg_cost      type  \n",
       "1662         NaN      NaN      NaN  Delivery  \n",
       "9874         NaN      NaN      NaN  Delivery  \n",
       "13693        NaN      NaN      NaN  Delivery  \n",
       "16351        NaN      NaN      NaN  Delivery  \n",
       "26432        NaN      NaN      NaN  Dine-out  \n",
       "26519        NaN      NaN      NaN    Buffet  \n",
       "27672        NaN      NaN      NaN  Delivery  \n",
       "28611        NaN      NaN      NaN  Dine-out  \n",
       "29298        NaN      NaN      NaN    Buffet  \n",
       "30604        NaN      NaN      NaN  Delivery  \n",
       "31400        NaN      NaN      NaN  Dine-out  \n",
       "32131        NaN      NaN      NaN    Buffet  \n",
       "33457        NaN      NaN      NaN  Delivery  \n",
       "34755        NaN      NaN      NaN    Buffet  \n",
       "40354        NaN      NaN      NaN  Dine-out  \n",
       "40556        NaN      NaN      NaN     Cafes  \n",
       "41980        NaN      NaN      NaN  Dine-out  \n",
       "46586        NaN      NaN      NaN  Delivery  \n",
       "46609        NaN      NaN      NaN  Delivery  \n",
       "46752        NaN      NaN      NaN  Dine-out  \n",
       "47134        NaN      NaN      NaN  Dine-out  "
      ]
     },
     "execution_count": 25,
     "metadata": {},
     "output_type": "execute_result"
    }
   ],
   "source": [
    "## We already made up our mind to address and keep location column\n",
    "## So first lets use that address column to fill any missing value if we can\n",
    "data[data.location.isnull()==True]"
   ]
  },
  {
   "cell_type": "code",
   "execution_count": 26,
   "id": "8ef6bb59",
   "metadata": {},
   "outputs": [
    {
     "data": {
      "text/plain": [
       "False    51696\n",
       "True        21\n",
       "Name: location, dtype: int64"
      ]
     },
     "execution_count": 26,
     "metadata": {},
     "output_type": "execute_result"
    }
   ],
   "source": [
    "data['location'].isnull().value_counts()"
   ]
  },
  {
   "cell_type": "markdown",
   "id": "32df6318",
   "metadata": {},
   "source": [
    "> Since there are only 21 NaN values in location we can fill it manually."
   ]
  },
  {
   "cell_type": "code",
   "execution_count": 27,
   "id": "4d321237",
   "metadata": {},
   "outputs": [],
   "source": [
    "## list of nan indix in location\n",
    "na_indices=[]\n",
    "nan=data.location.isnull()\n",
    "for index, val in enumerate(nan):\n",
    "    if (val==True):\n",
    "        na_indices.append(index)"
   ]
  },
  {
   "cell_type": "code",
   "execution_count": 28,
   "id": "3b8316bd",
   "metadata": {},
   "outputs": [
    {
     "data": {
      "text/plain": [
       "[1662,\n",
       " 9874,\n",
       " 13693,\n",
       " 16351,\n",
       " 26432,\n",
       " 26519,\n",
       " 27672,\n",
       " 28611,\n",
       " 29298,\n",
       " 30604,\n",
       " 31400,\n",
       " 32131,\n",
       " 33457,\n",
       " 34755,\n",
       " 40354,\n",
       " 40556,\n",
       " 41980,\n",
       " 46586,\n",
       " 46609,\n",
       " 46752,\n",
       " 47134]"
      ]
     },
     "execution_count": 28,
     "metadata": {},
     "output_type": "execute_result"
    }
   ],
   "source": [
    "na_indices"
   ]
  },
  {
   "cell_type": "code",
   "execution_count": 29,
   "id": "3e4adfbc",
   "metadata": {},
   "outputs": [],
   "source": [
    "## handling missing values in location\n",
    "## filling values from address column into location column where nan is present\n",
    "for i in na_indices:\n",
    "    l=data[\"address\"][i].split(sep=\",\")[-2].strip()\n",
    "    #print(type(l))\n",
    "    data.loc[i,\"location\"]=l"
   ]
  },
  {
   "cell_type": "code",
   "execution_count": 30,
   "id": "ca2d8af8",
   "metadata": {},
   "outputs": [
    {
     "data": {
      "text/plain": [
       "0"
      ]
     },
     "execution_count": 30,
     "metadata": {},
     "output_type": "execute_result"
    }
   ],
   "source": [
    "data.location.isna().sum()"
   ]
  },
  {
   "cell_type": "code",
   "execution_count": 31,
   "id": "dcacfcc1",
   "metadata": {
    "scrolled": true
   },
   "outputs": [
    {
     "data": {
      "text/plain": [
       "BTM                              5124\n",
       "HSR                              2523\n",
       "Koramangala 5th Block            2504\n",
       "JP Nagar                         2235\n",
       "Whitefield                       2144\n",
       "Indiranagar                      2083\n",
       "Jayanagar                        1926\n",
       "Marathahalli                     1848\n",
       "Bannerghatta Road                1630\n",
       "Bellandur                        1286\n",
       "Electronic City                  1259\n",
       "Koramangala 1st Block            1238\n",
       "Brigade Road                     1218\n",
       "Koramangala 7th Block            1181\n",
       "Koramangala 6th Block            1160\n",
       "Sarjapur Road                    1065\n",
       "Ulsoor                           1023\n",
       "Koramangala 4th Block            1018\n",
       "MG Road                           918\n",
       "Banashankari                      906\n",
       "Kalyan Nagar                      854\n",
       "Richmond Road                     812\n",
       "Frazer Town                       727\n",
       "Malleshwaram                      725\n",
       "Basavanagudi                      684\n",
       "Residency Road                    675\n",
       "Banaswadi                         664\n",
       "Brookefield                       658\n",
       "New BEL Road                      649\n",
       "Kammanahalli                      648\n",
       "Rajajinagar                       593\n",
       "Church Street                     569\n",
       "Lavelle Road                      529\n",
       "Shanti Nagar                      511\n",
       "Shivajinagar                      499\n",
       "Domlur                            496\n",
       "Cunningham Road                   491\n",
       "Old Airport Road                  446\n",
       "Ejipura                           439\n",
       "Commercial Street                 370\n",
       "St. Marks Road                    352\n",
       "Koramangala 8th Block             324\n",
       "Vasanth Nagar                     295\n",
       "Jeevan Bhima Nagar                272\n",
       "Wilson Garden                     246\n",
       "Bommanahalli                      241\n",
       "Koramangala 3rd Block             216\n",
       "Kumaraswamy Layout                195\n",
       "Thippasandra                      194\n",
       "Basaveshwara Nagar                191\n",
       "Nagawara                          187\n",
       "Seshadripuram                     165\n",
       "Hennur                            161\n",
       "Majestic                          155\n",
       "HBR Layout                        153\n",
       "Infantry Road                     151\n",
       "Race Course Road                  139\n",
       "City Market                       126\n",
       "Yeshwantpur                       119\n",
       "Varthur Main Road, Whitefield     117\n",
       "ITPL Main Road, Whitefield        113\n",
       "South Bangalore                   107\n",
       "Hosur Road                        102\n",
       "Koramangala 2nd Block             102\n",
       "Kaggadasapura                     101\n",
       "CV Raman Nagar                     90\n",
       "Vijay Nagar                        80\n",
       "RT Nagar                           80\n",
       "Sanjay Nagar                       76\n",
       "Sadashiv Nagar                     63\n",
       "Sahakara Nagar                     53\n",
       "Koramangala                        48\n",
       "East Bangalore                     44\n",
       "Jalahalli                          38\n",
       "Magadi Road                        34\n",
       "Rammurthy Nagar                    32\n",
       "Langford Town                      27\n",
       "Sankey Road                        27\n",
       "Old Madras Road                    22\n",
       "Mysore Road                        22\n",
       "Kanakapura Road                    19\n",
       "KR Puram                           18\n",
       "Uttarahalli                        17\n",
       "North Bangalore                    14\n",
       "Hebbal                             14\n",
       "Kengeri                             9\n",
       "Nagarbhavi                          9\n",
       "Central Bangalore                   8\n",
       "Yelahanka                           6\n",
       "West Bangalore                      6\n",
       "Jakkur                              3\n",
       "Rajarajeshwari Nagar                2\n",
       "Cholourpalya                        2\n",
       "Govindaraja Nagar                   1\n",
       "Peenya                              1\n",
       "Name: location, dtype: int64"
      ]
     },
     "execution_count": 31,
     "metadata": {},
     "output_type": "execute_result"
    }
   ],
   "source": [
    "data.location.value_counts()"
   ]
  },
  {
   "cell_type": "code",
   "execution_count": 32,
   "id": "714bdd33",
   "metadata": {},
   "outputs": [],
   "source": [
    "## so now lets drop address column too \n",
    "## as location column serve the same purpose with less dimensionality\n",
    "data.drop(columns=\"address\", inplace=True)"
   ]
  },
  {
   "cell_type": "code",
   "execution_count": 33,
   "id": "8766b6f6",
   "metadata": {},
   "outputs": [
    {
     "data": {
      "text/html": [
       "<div>\n",
       "<style scoped>\n",
       "    .dataframe tbody tr th:only-of-type {\n",
       "        vertical-align: middle;\n",
       "    }\n",
       "\n",
       "    .dataframe tbody tr th {\n",
       "        vertical-align: top;\n",
       "    }\n",
       "\n",
       "    .dataframe thead th {\n",
       "        text-align: right;\n",
       "    }\n",
       "</style>\n",
       "<table border=\"1\" class=\"dataframe\">\n",
       "  <thead>\n",
       "    <tr style=\"text-align: right;\">\n",
       "      <th></th>\n",
       "      <th>name</th>\n",
       "      <th>online_order</th>\n",
       "      <th>book_table</th>\n",
       "      <th>rate</th>\n",
       "      <th>votes</th>\n",
       "      <th>location</th>\n",
       "      <th>dish_liked</th>\n",
       "      <th>cuisines</th>\n",
       "      <th>avg_cost</th>\n",
       "      <th>type</th>\n",
       "    </tr>\n",
       "  </thead>\n",
       "  <tbody>\n",
       "    <tr>\n",
       "      <th>0</th>\n",
       "      <td>Jalsa</td>\n",
       "      <td>Yes</td>\n",
       "      <td>Yes</td>\n",
       "      <td>4.1/5</td>\n",
       "      <td>775</td>\n",
       "      <td>Banashankari</td>\n",
       "      <td>Pasta, Lunch Buffet, Masala Papad, Paneer Laja...</td>\n",
       "      <td>North Indian, Mughlai, Chinese</td>\n",
       "      <td>800</td>\n",
       "      <td>Buffet</td>\n",
       "    </tr>\n",
       "    <tr>\n",
       "      <th>1</th>\n",
       "      <td>Spice Elephant</td>\n",
       "      <td>Yes</td>\n",
       "      <td>No</td>\n",
       "      <td>4.1/5</td>\n",
       "      <td>787</td>\n",
       "      <td>Banashankari</td>\n",
       "      <td>Momos, Lunch Buffet, Chocolate Nirvana, Thai G...</td>\n",
       "      <td>Chinese, North Indian, Thai</td>\n",
       "      <td>800</td>\n",
       "      <td>Buffet</td>\n",
       "    </tr>\n",
       "    <tr>\n",
       "      <th>2</th>\n",
       "      <td>San Churro Cafe</td>\n",
       "      <td>Yes</td>\n",
       "      <td>No</td>\n",
       "      <td>3.8/5</td>\n",
       "      <td>918</td>\n",
       "      <td>Banashankari</td>\n",
       "      <td>Churros, Cannelloni, Minestrone Soup, Hot Choc...</td>\n",
       "      <td>Cafe, Mexican, Italian</td>\n",
       "      <td>800</td>\n",
       "      <td>Buffet</td>\n",
       "    </tr>\n",
       "    <tr>\n",
       "      <th>3</th>\n",
       "      <td>Addhuri Udupi Bhojana</td>\n",
       "      <td>No</td>\n",
       "      <td>No</td>\n",
       "      <td>3.7/5</td>\n",
       "      <td>88</td>\n",
       "      <td>Banashankari</td>\n",
       "      <td>Masala Dosa</td>\n",
       "      <td>South Indian, North Indian</td>\n",
       "      <td>300</td>\n",
       "      <td>Buffet</td>\n",
       "    </tr>\n",
       "    <tr>\n",
       "      <th>4</th>\n",
       "      <td>Grand Village</td>\n",
       "      <td>No</td>\n",
       "      <td>No</td>\n",
       "      <td>3.8/5</td>\n",
       "      <td>166</td>\n",
       "      <td>Basavanagudi</td>\n",
       "      <td>Panipuri, Gol Gappe</td>\n",
       "      <td>North Indian, Rajasthani</td>\n",
       "      <td>600</td>\n",
       "      <td>Buffet</td>\n",
       "    </tr>\n",
       "  </tbody>\n",
       "</table>\n",
       "</div>"
      ],
      "text/plain": [
       "                    name online_order book_table   rate  votes      location  \\\n",
       "0                  Jalsa          Yes        Yes  4.1/5    775  Banashankari   \n",
       "1         Spice Elephant          Yes         No  4.1/5    787  Banashankari   \n",
       "2        San Churro Cafe          Yes         No  3.8/5    918  Banashankari   \n",
       "3  Addhuri Udupi Bhojana           No         No  3.7/5     88  Banashankari   \n",
       "4          Grand Village           No         No  3.8/5    166  Basavanagudi   \n",
       "\n",
       "                                          dish_liked  \\\n",
       "0  Pasta, Lunch Buffet, Masala Papad, Paneer Laja...   \n",
       "1  Momos, Lunch Buffet, Chocolate Nirvana, Thai G...   \n",
       "2  Churros, Cannelloni, Minestrone Soup, Hot Choc...   \n",
       "3                                        Masala Dosa   \n",
       "4                                Panipuri, Gol Gappe   \n",
       "\n",
       "                         cuisines avg_cost    type  \n",
       "0  North Indian, Mughlai, Chinese      800  Buffet  \n",
       "1     Chinese, North Indian, Thai      800  Buffet  \n",
       "2          Cafe, Mexican, Italian      800  Buffet  \n",
       "3      South Indian, North Indian      300  Buffet  \n",
       "4        North Indian, Rajasthani      600  Buffet  "
      ]
     },
     "execution_count": 33,
     "metadata": {},
     "output_type": "execute_result"
    }
   ],
   "source": [
    "data.head()"
   ]
  },
  {
   "cell_type": "code",
   "execution_count": 34,
   "id": "5ed1bbb6",
   "metadata": {},
   "outputs": [
    {
     "data": {
      "text/html": [
       "<div>\n",
       "<style scoped>\n",
       "    .dataframe tbody tr th:only-of-type {\n",
       "        vertical-align: middle;\n",
       "    }\n",
       "\n",
       "    .dataframe tbody tr th {\n",
       "        vertical-align: top;\n",
       "    }\n",
       "\n",
       "    .dataframe thead th {\n",
       "        text-align: right;\n",
       "    }\n",
       "</style>\n",
       "<table border=\"1\" class=\"dataframe\">\n",
       "  <thead>\n",
       "    <tr style=\"text-align: right;\">\n",
       "      <th></th>\n",
       "      <th>name</th>\n",
       "      <th>online_order</th>\n",
       "      <th>book_table</th>\n",
       "      <th>rate</th>\n",
       "      <th>votes</th>\n",
       "      <th>location</th>\n",
       "      <th>dish_liked</th>\n",
       "      <th>cuisines</th>\n",
       "      <th>avg_cost</th>\n",
       "      <th>type</th>\n",
       "    </tr>\n",
       "  </thead>\n",
       "  <tbody>\n",
       "    <tr>\n",
       "      <th>0</th>\n",
       "      <td>Jalsa</td>\n",
       "      <td>Yes</td>\n",
       "      <td>Yes</td>\n",
       "      <td>4.1/5</td>\n",
       "      <td>775</td>\n",
       "      <td>Banashankari</td>\n",
       "      <td>Pasta, Lunch Buffet, Masala Papad, Paneer Laja...</td>\n",
       "      <td>North Indian, Mughlai, Chinese</td>\n",
       "      <td>800</td>\n",
       "      <td>Buffet</td>\n",
       "    </tr>\n",
       "    <tr>\n",
       "      <th>1</th>\n",
       "      <td>Spice Elephant</td>\n",
       "      <td>Yes</td>\n",
       "      <td>No</td>\n",
       "      <td>4.1/5</td>\n",
       "      <td>787</td>\n",
       "      <td>Banashankari</td>\n",
       "      <td>Momos, Lunch Buffet, Chocolate Nirvana, Thai G...</td>\n",
       "      <td>Chinese, North Indian, Thai</td>\n",
       "      <td>800</td>\n",
       "      <td>Buffet</td>\n",
       "    </tr>\n",
       "    <tr>\n",
       "      <th>2</th>\n",
       "      <td>San Churro Cafe</td>\n",
       "      <td>Yes</td>\n",
       "      <td>No</td>\n",
       "      <td>3.8/5</td>\n",
       "      <td>918</td>\n",
       "      <td>Banashankari</td>\n",
       "      <td>Churros, Cannelloni, Minestrone Soup, Hot Choc...</td>\n",
       "      <td>Cafe, Mexican, Italian</td>\n",
       "      <td>800</td>\n",
       "      <td>Buffet</td>\n",
       "    </tr>\n",
       "    <tr>\n",
       "      <th>3</th>\n",
       "      <td>Addhuri Udupi Bhojana</td>\n",
       "      <td>No</td>\n",
       "      <td>No</td>\n",
       "      <td>3.7/5</td>\n",
       "      <td>88</td>\n",
       "      <td>Banashankari</td>\n",
       "      <td>Masala Dosa</td>\n",
       "      <td>South Indian, North Indian</td>\n",
       "      <td>300</td>\n",
       "      <td>Buffet</td>\n",
       "    </tr>\n",
       "    <tr>\n",
       "      <th>4</th>\n",
       "      <td>Grand Village</td>\n",
       "      <td>No</td>\n",
       "      <td>No</td>\n",
       "      <td>3.8/5</td>\n",
       "      <td>166</td>\n",
       "      <td>Basavanagudi</td>\n",
       "      <td>Panipuri, Gol Gappe</td>\n",
       "      <td>North Indian, Rajasthani</td>\n",
       "      <td>600</td>\n",
       "      <td>Buffet</td>\n",
       "    </tr>\n",
       "    <tr>\n",
       "      <th>...</th>\n",
       "      <td>...</td>\n",
       "      <td>...</td>\n",
       "      <td>...</td>\n",
       "      <td>...</td>\n",
       "      <td>...</td>\n",
       "      <td>...</td>\n",
       "      <td>...</td>\n",
       "      <td>...</td>\n",
       "      <td>...</td>\n",
       "      <td>...</td>\n",
       "    </tr>\n",
       "    <tr>\n",
       "      <th>51712</th>\n",
       "      <td>Best Brews - Four Points by Sheraton Bengaluru...</td>\n",
       "      <td>No</td>\n",
       "      <td>No</td>\n",
       "      <td>3.6 /5</td>\n",
       "      <td>27</td>\n",
       "      <td>Whitefield</td>\n",
       "      <td>NaN</td>\n",
       "      <td>Continental</td>\n",
       "      <td>1,500</td>\n",
       "      <td>Pubs and bars</td>\n",
       "    </tr>\n",
       "    <tr>\n",
       "      <th>51713</th>\n",
       "      <td>Vinod Bar And Restaurant</td>\n",
       "      <td>No</td>\n",
       "      <td>No</td>\n",
       "      <td>NaN</td>\n",
       "      <td>0</td>\n",
       "      <td>Whitefield</td>\n",
       "      <td>NaN</td>\n",
       "      <td>Finger Food</td>\n",
       "      <td>600</td>\n",
       "      <td>Pubs and bars</td>\n",
       "    </tr>\n",
       "    <tr>\n",
       "      <th>51714</th>\n",
       "      <td>Plunge - Sheraton Grand Bengaluru Whitefield H...</td>\n",
       "      <td>No</td>\n",
       "      <td>No</td>\n",
       "      <td>NaN</td>\n",
       "      <td>0</td>\n",
       "      <td>Whitefield</td>\n",
       "      <td>NaN</td>\n",
       "      <td>Finger Food</td>\n",
       "      <td>2,000</td>\n",
       "      <td>Pubs and bars</td>\n",
       "    </tr>\n",
       "    <tr>\n",
       "      <th>51715</th>\n",
       "      <td>Chime - Sheraton Grand Bengaluru Whitefield Ho...</td>\n",
       "      <td>No</td>\n",
       "      <td>Yes</td>\n",
       "      <td>4.3 /5</td>\n",
       "      <td>236</td>\n",
       "      <td>ITPL Main Road, Whitefield</td>\n",
       "      <td>Cocktails, Pizza, Buttermilk</td>\n",
       "      <td>Finger Food</td>\n",
       "      <td>2,500</td>\n",
       "      <td>Pubs and bars</td>\n",
       "    </tr>\n",
       "    <tr>\n",
       "      <th>51716</th>\n",
       "      <td>The Nest - The Den Bengaluru</td>\n",
       "      <td>No</td>\n",
       "      <td>No</td>\n",
       "      <td>3.4 /5</td>\n",
       "      <td>13</td>\n",
       "      <td>ITPL Main Road, Whitefield</td>\n",
       "      <td>NaN</td>\n",
       "      <td>Finger Food, North Indian, Continental</td>\n",
       "      <td>1,500</td>\n",
       "      <td>Pubs and bars</td>\n",
       "    </tr>\n",
       "  </tbody>\n",
       "</table>\n",
       "<p>51717 rows × 10 columns</p>\n",
       "</div>"
      ],
      "text/plain": [
       "                                                    name online_order  \\\n",
       "0                                                  Jalsa          Yes   \n",
       "1                                         Spice Elephant          Yes   \n",
       "2                                        San Churro Cafe          Yes   \n",
       "3                                  Addhuri Udupi Bhojana           No   \n",
       "4                                          Grand Village           No   \n",
       "...                                                  ...          ...   \n",
       "51712  Best Brews - Four Points by Sheraton Bengaluru...           No   \n",
       "51713                           Vinod Bar And Restaurant           No   \n",
       "51714  Plunge - Sheraton Grand Bengaluru Whitefield H...           No   \n",
       "51715  Chime - Sheraton Grand Bengaluru Whitefield Ho...           No   \n",
       "51716                       The Nest - The Den Bengaluru           No   \n",
       "\n",
       "      book_table    rate  votes                    location  \\\n",
       "0            Yes   4.1/5    775                Banashankari   \n",
       "1             No   4.1/5    787                Banashankari   \n",
       "2             No   3.8/5    918                Banashankari   \n",
       "3             No   3.7/5     88                Banashankari   \n",
       "4             No   3.8/5    166                Basavanagudi   \n",
       "...          ...     ...    ...                         ...   \n",
       "51712         No  3.6 /5     27                  Whitefield   \n",
       "51713         No     NaN      0                  Whitefield   \n",
       "51714         No     NaN      0                  Whitefield   \n",
       "51715        Yes  4.3 /5    236  ITPL Main Road, Whitefield   \n",
       "51716         No  3.4 /5     13  ITPL Main Road, Whitefield   \n",
       "\n",
       "                                              dish_liked  \\\n",
       "0      Pasta, Lunch Buffet, Masala Papad, Paneer Laja...   \n",
       "1      Momos, Lunch Buffet, Chocolate Nirvana, Thai G...   \n",
       "2      Churros, Cannelloni, Minestrone Soup, Hot Choc...   \n",
       "3                                            Masala Dosa   \n",
       "4                                    Panipuri, Gol Gappe   \n",
       "...                                                  ...   \n",
       "51712                                                NaN   \n",
       "51713                                                NaN   \n",
       "51714                                                NaN   \n",
       "51715                       Cocktails, Pizza, Buttermilk   \n",
       "51716                                                NaN   \n",
       "\n",
       "                                     cuisines avg_cost           type  \n",
       "0              North Indian, Mughlai, Chinese      800         Buffet  \n",
       "1                 Chinese, North Indian, Thai      800         Buffet  \n",
       "2                      Cafe, Mexican, Italian      800         Buffet  \n",
       "3                  South Indian, North Indian      300         Buffet  \n",
       "4                    North Indian, Rajasthani      600         Buffet  \n",
       "...                                       ...      ...            ...  \n",
       "51712                             Continental    1,500  Pubs and bars  \n",
       "51713                             Finger Food      600  Pubs and bars  \n",
       "51714                             Finger Food    2,000  Pubs and bars  \n",
       "51715                             Finger Food    2,500  Pubs and bars  \n",
       "51716  Finger Food, North Indian, Continental    1,500  Pubs and bars  \n",
       "\n",
       "[51717 rows x 10 columns]"
      ]
     },
     "execution_count": 34,
     "metadata": {},
     "output_type": "execute_result"
    }
   ],
   "source": [
    "data.reset_index(drop=True)"
   ]
  },
  {
   "cell_type": "code",
   "execution_count": 35,
   "id": "0675498d",
   "metadata": {
    "scrolled": true
   },
   "outputs": [
    {
     "data": {
      "text/plain": [
       "BTM                              5124\n",
       "HSR                              2523\n",
       "Koramangala 5th Block            2504\n",
       "JP Nagar                         2235\n",
       "Whitefield                       2144\n",
       "Indiranagar                      2083\n",
       "Jayanagar                        1926\n",
       "Marathahalli                     1848\n",
       "Bannerghatta Road                1630\n",
       "Bellandur                        1286\n",
       "Electronic City                  1259\n",
       "Koramangala 1st Block            1238\n",
       "Brigade Road                     1218\n",
       "Koramangala 7th Block            1181\n",
       "Koramangala 6th Block            1160\n",
       "Sarjapur Road                    1065\n",
       "Ulsoor                           1023\n",
       "Koramangala 4th Block            1018\n",
       "MG Road                           918\n",
       "Banashankari                      906\n",
       "Kalyan Nagar                      854\n",
       "Richmond Road                     812\n",
       "Frazer Town                       727\n",
       "Malleshwaram                      725\n",
       "Basavanagudi                      684\n",
       "Residency Road                    675\n",
       "Banaswadi                         664\n",
       "Brookefield                       658\n",
       "New BEL Road                      649\n",
       "Kammanahalli                      648\n",
       "Rajajinagar                       593\n",
       "Church Street                     569\n",
       "Lavelle Road                      529\n",
       "Shanti Nagar                      511\n",
       "Shivajinagar                      499\n",
       "Domlur                            496\n",
       "Cunningham Road                   491\n",
       "Old Airport Road                  446\n",
       "Ejipura                           439\n",
       "Commercial Street                 370\n",
       "St. Marks Road                    352\n",
       "Koramangala 8th Block             324\n",
       "Vasanth Nagar                     295\n",
       "Jeevan Bhima Nagar                272\n",
       "Wilson Garden                     246\n",
       "Bommanahalli                      241\n",
       "Koramangala 3rd Block             216\n",
       "Kumaraswamy Layout                195\n",
       "Thippasandra                      194\n",
       "Basaveshwara Nagar                191\n",
       "Nagawara                          187\n",
       "Seshadripuram                     165\n",
       "Hennur                            161\n",
       "Majestic                          155\n",
       "HBR Layout                        153\n",
       "Infantry Road                     151\n",
       "Race Course Road                  139\n",
       "City Market                       126\n",
       "Yeshwantpur                       119\n",
       "Varthur Main Road, Whitefield     117\n",
       "ITPL Main Road, Whitefield        113\n",
       "South Bangalore                   107\n",
       "Hosur Road                        102\n",
       "Koramangala 2nd Block             102\n",
       "Kaggadasapura                     101\n",
       "CV Raman Nagar                     90\n",
       "Vijay Nagar                        80\n",
       "RT Nagar                           80\n",
       "Sanjay Nagar                       76\n",
       "Sadashiv Nagar                     63\n",
       "Sahakara Nagar                     53\n",
       "Koramangala                        48\n",
       "East Bangalore                     44\n",
       "Jalahalli                          38\n",
       "Magadi Road                        34\n",
       "Rammurthy Nagar                    32\n",
       "Langford Town                      27\n",
       "Sankey Road                        27\n",
       "Old Madras Road                    22\n",
       "Mysore Road                        22\n",
       "Kanakapura Road                    19\n",
       "KR Puram                           18\n",
       "Uttarahalli                        17\n",
       "North Bangalore                    14\n",
       "Hebbal                             14\n",
       "Kengeri                             9\n",
       "Nagarbhavi                          9\n",
       "Central Bangalore                   8\n",
       "Yelahanka                           6\n",
       "West Bangalore                      6\n",
       "Jakkur                              3\n",
       "Rajarajeshwari Nagar                2\n",
       "Cholourpalya                        2\n",
       "Govindaraja Nagar                   1\n",
       "Peenya                              1\n",
       "Name: location, dtype: int64"
      ]
     },
     "execution_count": 35,
     "metadata": {},
     "output_type": "execute_result"
    }
   ],
   "source": [
    "data.location.value_counts()"
   ]
  },
  {
   "cell_type": "code",
   "execution_count": 36,
   "id": "8b97cd00",
   "metadata": {},
   "outputs": [],
   "source": [
    "## LOCATION\n",
    "## There too many location which has only few restaurants, to resolve this restaurant < 250 in any\n",
    "## particular location will be termed as others\n",
    "#locations = data.location.value_counts()\n",
    "#locations_lessthan_250 = locations[locations<250]\n",
    "#def handle_locations(value):\n",
    "#       if value in locations_lessthan_250:\n",
    "#            return \"others\"\n",
    "#        else:\n",
    "#            return value\n",
    "\n",
    "#data['location']=data['location'].apply(handle_locations)"
   ]
  },
  {
   "cell_type": "code",
   "execution_count": null,
   "id": "5db3e081",
   "metadata": {},
   "outputs": [],
   "source": []
  },
  {
   "cell_type": "markdown",
   "id": "382b31fe",
   "metadata": {},
   "source": [
    "### column: Rate"
   ]
  },
  {
   "cell_type": "code",
   "execution_count": 37,
   "id": "b5eb248b",
   "metadata": {
    "scrolled": true
   },
   "outputs": [
    {
     "data": {
      "text/plain": [
       "NaN       7775\n",
       "NEW       2208\n",
       "3.9/5     2098\n",
       "3.8/5     2022\n",
       "3.7/5     2011\n",
       "3.9 /5    1874\n",
       "3.8 /5    1851\n",
       "3.7 /5    1810\n",
       "3.6/5     1773\n",
       "4.0/5     1609\n",
       "4.0 /5    1574\n",
       "3.6 /5    1543\n",
       "4.1 /5    1474\n",
       "4.1/5     1474\n",
       "3.5/5     1431\n",
       "3.5 /5    1353\n",
       "3.4/5     1259\n",
       "3.4 /5    1217\n",
       "3.3/5     1168\n",
       "4.2 /5    1165\n",
       "3.3 /5    1142\n",
       "4.2/5     1019\n",
       "3.2/5     1006\n",
       "4.3 /5     917\n",
       "3.2 /5     867\n",
       "3.1/5      862\n",
       "4.3/5      776\n",
       "3.1 /5     699\n",
       "4.4 /5     628\n",
       "3.0/5      558\n",
       "4.4/5      519\n",
       "3.0 /5     465\n",
       "2.9/5      427\n",
       "4.5 /5     409\n",
       "2.9 /5     375\n",
       "2.8/5      313\n",
       "2.8 /5     287\n",
       "4.5/5      247\n",
       "4.6 /5     175\n",
       "2.7/5      170\n",
       "2.6/5      143\n",
       "2.7 /5     137\n",
       "4.6/5      125\n",
       "2.6 /5     117\n",
       "4.7 /5      86\n",
       "4.7/5       81\n",
       "-           69\n",
       "2.5 /5      56\n",
       "2.5/5       45\n",
       "4.8 /5      43\n",
       "2.4/5       40\n",
       "2.4 /5      30\n",
       "4.9 /5      30\n",
       "2.3/5       28\n",
       "4.9/5       25\n",
       "4.8/5       23\n",
       "2.3 /5      23\n",
       "2.2/5       19\n",
       "2.1 /5      13\n",
       "2.1/5       11\n",
       "2.2 /5       7\n",
       "2.0 /5       7\n",
       "2.0/5        4\n",
       "1.8 /5       3\n",
       "1.8/5        2\n",
       "Name: rate, dtype: int64"
      ]
     },
     "execution_count": 37,
     "metadata": {},
     "output_type": "execute_result"
    }
   ],
   "source": [
    "data.rate.value_counts(dropna=False)"
   ]
  },
  {
   "cell_type": "code",
   "execution_count": 38,
   "id": "639bc26a",
   "metadata": {},
   "outputs": [
    {
     "data": {
      "text/plain": [
       "NaN    7775\n",
       "3.9    3972\n",
       "3.8    3873\n",
       "3.7    3821\n",
       "3.6    3316\n",
       "4.0    3183\n",
       "4.1    2948\n",
       "3.5    2784\n",
       "3.4    2476\n",
       "3.3    2310\n",
       "NEW    2277\n",
       "4.2    2184\n",
       "3.2    1873\n",
       "4.3    1693\n",
       "3.1    1561\n",
       "4.4    1147\n",
       "3.0    1023\n",
       "2.9     802\n",
       "4.5     656\n",
       "2.8     600\n",
       "2.7     307\n",
       "4.6     300\n",
       "2.6     260\n",
       "4.7     167\n",
       "2.5     101\n",
       "2.4      70\n",
       "4.8      66\n",
       "4.9      55\n",
       "2.3      51\n",
       "2.2      26\n",
       "2.1      24\n",
       "2.0      11\n",
       "1.8       5\n",
       "Name: rate, dtype: int64"
      ]
     },
     "execution_count": 38,
     "metadata": {},
     "output_type": "execute_result"
    }
   ],
   "source": [
    "## Lets change the look of rate from 4.1/5 to 4.1 and '-' to \"NEW\" and strip all whitespace\n",
    "data['rate'].astype(\"str\")\n",
    "data[\"rate\"]=data['rate'].str.replace('/5','').str.replace('-','NEW').str.strip()\n",
    "data.rate.value_counts(dropna=False)"
   ]
  },
  {
   "cell_type": "code",
   "execution_count": 39,
   "id": "bc6e1a6f",
   "metadata": {},
   "outputs": [],
   "source": [
    "## first let's fill all NaN with NEW\n",
    "data.rate=data['rate'].fillna(\"NEW\")"
   ]
  },
  {
   "cell_type": "code",
   "execution_count": 40,
   "id": "9ab89c35",
   "metadata": {},
   "outputs": [
    {
     "data": {
      "text/plain": [
       "False    51717\n",
       "Name: rate, dtype: int64"
      ]
     },
     "execution_count": 40,
     "metadata": {},
     "output_type": "execute_result"
    }
   ],
   "source": [
    "##confirming null values\n",
    "data.rate.isnull().value_counts()"
   ]
  },
  {
   "cell_type": "code",
   "execution_count": 41,
   "id": "9633041d",
   "metadata": {},
   "outputs": [],
   "source": [
    "data.reset_index(drop=True, inplace=True)"
   ]
  },
  {
   "cell_type": "code",
   "execution_count": null,
   "id": "70e59953",
   "metadata": {},
   "outputs": [],
   "source": []
  },
  {
   "cell_type": "markdown",
   "id": "0fd7de39",
   "metadata": {},
   "source": [
    "### column: avg_cost"
   ]
  },
  {
   "cell_type": "code",
   "execution_count": 42,
   "id": "45caf63b",
   "metadata": {
    "scrolled": true
   },
   "outputs": [
    {
     "data": {
      "text/plain": [
       "300      7576\n",
       "400      6562\n",
       "500      4980\n",
       "200      4857\n",
       "600      3714\n",
       "250      2959\n",
       "800      2285\n",
       "150      2066\n",
       "700      1948\n",
       "350      1763\n",
       "1,000    1637\n",
       "450      1417\n",
       "100       993\n",
       "1,200     993\n",
       "1,500     971\n",
       "650       776\n",
       "550       761\n",
       "750       758\n",
       "900       700\n",
       "1,300     516\n",
       "1,100     512\n",
       "1,400     473\n",
       "2,000     363\n",
       "1,600     266\n",
       "1,700     247\n",
       "1,800     203\n",
       "850       166\n",
       "3,000     162\n",
       "2,500     146\n",
       "2,200      78\n",
       "1,900      70\n",
       "2,100      67\n",
       "950        62\n",
       "2,800      45\n",
       "4,000      29\n",
       "3,500      25\n",
       "120        24\n",
       "2,400      23\n",
       "180        20\n",
       "1,350      18\n",
       "3,400      13\n",
       "2,300      11\n",
       "80         10\n",
       "2,600      10\n",
       "230        10\n",
       "1,250       9\n",
       "40          8\n",
       "50          8\n",
       "130         8\n",
       "1,650       6\n",
       "1,450       5\n",
       "330         4\n",
       "1,050       4\n",
       "4,100       4\n",
       "199         4\n",
       "2,700       3\n",
       "70          3\n",
       "140         2\n",
       "240         2\n",
       "190         2\n",
       "360         2\n",
       "4,500       2\n",
       "6,000       2\n",
       "3,200       2\n",
       "469         1\n",
       "160         1\n",
       "60          1\n",
       "560         1\n",
       "3,700       1\n",
       "5,000       1\n",
       "Name: avg_cost, dtype: int64"
      ]
     },
     "execution_count": 42,
     "metadata": {},
     "output_type": "execute_result"
    }
   ],
   "source": [
    "data.avg_cost.value_counts()"
   ]
  },
  {
   "cell_type": "code",
   "execution_count": 43,
   "id": "2e9881ac",
   "metadata": {},
   "outputs": [],
   "source": [
    "data[\"avg_cost\"].astype('str')\n",
    "data.avg_cost = data.avg_cost.str.replace(',', '').str.replace(\" \",\"\")"
   ]
  },
  {
   "cell_type": "code",
   "execution_count": 44,
   "id": "bb0952d2",
   "metadata": {
    "scrolled": true
   },
   "outputs": [
    {
     "data": {
      "text/plain": [
       "300     7576\n",
       "400     6562\n",
       "500     4980\n",
       "200     4857\n",
       "600     3714\n",
       "250     2959\n",
       "800     2285\n",
       "150     2066\n",
       "700     1948\n",
       "350     1763\n",
       "1000    1637\n",
       "450     1417\n",
       "100      993\n",
       "1200     993\n",
       "1500     971\n",
       "650      776\n",
       "550      761\n",
       "750      758\n",
       "900      700\n",
       "1300     516\n",
       "1100     512\n",
       "1400     473\n",
       "2000     363\n",
       "1600     266\n",
       "1700     247\n",
       "1800     203\n",
       "850      166\n",
       "3000     162\n",
       "2500     146\n",
       "2200      78\n",
       "1900      70\n",
       "2100      67\n",
       "950       62\n",
       "2800      45\n",
       "4000      29\n",
       "3500      25\n",
       "120       24\n",
       "2400      23\n",
       "180       20\n",
       "1350      18\n",
       "3400      13\n",
       "2300      11\n",
       "230       10\n",
       "80        10\n",
       "2600      10\n",
       "1250       9\n",
       "40         8\n",
       "50         8\n",
       "130        8\n",
       "1650       6\n",
       "1450       5\n",
       "199        4\n",
       "4100       4\n",
       "330        4\n",
       "1050       4\n",
       "2700       3\n",
       "70         3\n",
       "140        2\n",
       "190        2\n",
       "240        2\n",
       "4500       2\n",
       "3200       2\n",
       "6000       2\n",
       "360        2\n",
       "5000       1\n",
       "469        1\n",
       "3700       1\n",
       "160        1\n",
       "60         1\n",
       "560        1\n",
       "Name: avg_cost, dtype: int64"
      ]
     },
     "execution_count": 44,
     "metadata": {},
     "output_type": "execute_result"
    }
   ],
   "source": [
    "data.avg_cost.value_counts()"
   ]
  },
  {
   "cell_type": "code",
   "execution_count": 45,
   "id": "d98a7583",
   "metadata": {},
   "outputs": [
    {
     "data": {
      "text/plain": [
       "False    51371\n",
       "True       346\n",
       "Name: avg_cost, dtype: int64"
      ]
     },
     "execution_count": 45,
     "metadata": {},
     "output_type": "execute_result"
    }
   ],
   "source": [
    "data.avg_cost.isnull().value_counts()"
   ]
  },
  {
   "cell_type": "code",
   "execution_count": 46,
   "id": "5c77946c",
   "metadata": {},
   "outputs": [
    {
     "data": {
      "text/html": [
       "<div>\n",
       "<style scoped>\n",
       "    .dataframe tbody tr th:only-of-type {\n",
       "        vertical-align: middle;\n",
       "    }\n",
       "\n",
       "    .dataframe tbody tr th {\n",
       "        vertical-align: top;\n",
       "    }\n",
       "\n",
       "    .dataframe thead th {\n",
       "        text-align: right;\n",
       "    }\n",
       "</style>\n",
       "<table border=\"1\" class=\"dataframe\">\n",
       "  <thead>\n",
       "    <tr style=\"text-align: right;\">\n",
       "      <th></th>\n",
       "      <th>name</th>\n",
       "      <th>online_order</th>\n",
       "      <th>book_table</th>\n",
       "      <th>rate</th>\n",
       "      <th>votes</th>\n",
       "      <th>location</th>\n",
       "      <th>dish_liked</th>\n",
       "      <th>cuisines</th>\n",
       "      <th>avg_cost</th>\n",
       "      <th>type</th>\n",
       "    </tr>\n",
       "  </thead>\n",
       "  <tbody>\n",
       "    <tr>\n",
       "      <th>1662</th>\n",
       "      <td>Papa Khan Rasoi</td>\n",
       "      <td>No</td>\n",
       "      <td>No</td>\n",
       "      <td>NEW</td>\n",
       "      <td>0</td>\n",
       "      <td>Bommanahalli</td>\n",
       "      <td>NaN</td>\n",
       "      <td>NaN</td>\n",
       "      <td>NaN</td>\n",
       "      <td>Delivery</td>\n",
       "    </tr>\n",
       "    <tr>\n",
       "      <th>1768</th>\n",
       "      <td>Innate</td>\n",
       "      <td>No</td>\n",
       "      <td>No</td>\n",
       "      <td>NEW</td>\n",
       "      <td>0</td>\n",
       "      <td>JP Nagar</td>\n",
       "      <td>NaN</td>\n",
       "      <td>Beverages</td>\n",
       "      <td>NaN</td>\n",
       "      <td>Delivery</td>\n",
       "    </tr>\n",
       "    <tr>\n",
       "      <th>1795</th>\n",
       "      <td>Super Chef's (New Royal treat)</td>\n",
       "      <td>No</td>\n",
       "      <td>No</td>\n",
       "      <td>NEW</td>\n",
       "      <td>0</td>\n",
       "      <td>Bannerghatta Road</td>\n",
       "      <td>NaN</td>\n",
       "      <td>North Indian, Chinese, South Indian</td>\n",
       "      <td>NaN</td>\n",
       "      <td>Delivery</td>\n",
       "    </tr>\n",
       "    <tr>\n",
       "      <th>3069</th>\n",
       "      <td>Super Chef's (New Royal treat)</td>\n",
       "      <td>No</td>\n",
       "      <td>No</td>\n",
       "      <td>NEW</td>\n",
       "      <td>0</td>\n",
       "      <td>Bannerghatta Road</td>\n",
       "      <td>NaN</td>\n",
       "      <td>North Indian, Chinese, South Indian</td>\n",
       "      <td>NaN</td>\n",
       "      <td>Delivery</td>\n",
       "    </tr>\n",
       "    <tr>\n",
       "      <th>3774</th>\n",
       "      <td>The Hub - Ibis Bengaluru</td>\n",
       "      <td>No</td>\n",
       "      <td>No</td>\n",
       "      <td>3.9</td>\n",
       "      <td>237</td>\n",
       "      <td>Marathahalli</td>\n",
       "      <td>Dal Makhani, Cocktails, Lunch Buffet, Breakfas...</td>\n",
       "      <td>Finger Food</td>\n",
       "      <td>NaN</td>\n",
       "      <td>Buffet</td>\n",
       "    </tr>\n",
       "    <tr>\n",
       "      <th>...</th>\n",
       "      <td>...</td>\n",
       "      <td>...</td>\n",
       "      <td>...</td>\n",
       "      <td>...</td>\n",
       "      <td>...</td>\n",
       "      <td>...</td>\n",
       "      <td>...</td>\n",
       "      <td>...</td>\n",
       "      <td>...</td>\n",
       "      <td>...</td>\n",
       "    </tr>\n",
       "    <tr>\n",
       "      <th>50940</th>\n",
       "      <td>Cinnabon</td>\n",
       "      <td>No</td>\n",
       "      <td>No</td>\n",
       "      <td>4.0</td>\n",
       "      <td>80</td>\n",
       "      <td>Whitefield</td>\n",
       "      <td>Rolls, Cinnamon Roll, Cinnamon Bun</td>\n",
       "      <td>Beverages, American, Bakery</td>\n",
       "      <td>NaN</td>\n",
       "      <td>Desserts</td>\n",
       "    </tr>\n",
       "    <tr>\n",
       "      <th>51233</th>\n",
       "      <td>Mayas kitchen</td>\n",
       "      <td>No</td>\n",
       "      <td>No</td>\n",
       "      <td>NEW</td>\n",
       "      <td>0</td>\n",
       "      <td>Whitefield</td>\n",
       "      <td>NaN</td>\n",
       "      <td>South Indian, Chinese, Chettinad</td>\n",
       "      <td>NaN</td>\n",
       "      <td>Dine-out</td>\n",
       "    </tr>\n",
       "    <tr>\n",
       "      <th>51247</th>\n",
       "      <td>Mast Kalandar</td>\n",
       "      <td>No</td>\n",
       "      <td>No</td>\n",
       "      <td>2.6</td>\n",
       "      <td>76</td>\n",
       "      <td>Whitefield</td>\n",
       "      <td>Gulab Jamun, Lassi, Dal Makhani, Buttermilk, T...</td>\n",
       "      <td>North Indian</td>\n",
       "      <td>NaN</td>\n",
       "      <td>Dine-out</td>\n",
       "    </tr>\n",
       "    <tr>\n",
       "      <th>51271</th>\n",
       "      <td>Karavalli Food Court</td>\n",
       "      <td>No</td>\n",
       "      <td>No</td>\n",
       "      <td>3.2</td>\n",
       "      <td>4</td>\n",
       "      <td>Whitefield</td>\n",
       "      <td>NaN</td>\n",
       "      <td>South Indian</td>\n",
       "      <td>NaN</td>\n",
       "      <td>Dine-out</td>\n",
       "    </tr>\n",
       "    <tr>\n",
       "      <th>51641</th>\n",
       "      <td>Andhra Spices</td>\n",
       "      <td>No</td>\n",
       "      <td>No</td>\n",
       "      <td>3.2</td>\n",
       "      <td>4</td>\n",
       "      <td>Brookefield</td>\n",
       "      <td>NaN</td>\n",
       "      <td>Andhra, Chinese, South Indian</td>\n",
       "      <td>NaN</td>\n",
       "      <td>Dine-out</td>\n",
       "    </tr>\n",
       "  </tbody>\n",
       "</table>\n",
       "<p>346 rows × 10 columns</p>\n",
       "</div>"
      ],
      "text/plain": [
       "                                 name online_order book_table rate  votes  \\\n",
       "1662                  Papa Khan Rasoi           No         No  NEW      0   \n",
       "1768                           Innate           No         No  NEW      0   \n",
       "1795   Super Chef's (New Royal treat)           No         No  NEW      0   \n",
       "3069   Super Chef's (New Royal treat)           No         No  NEW      0   \n",
       "3774         The Hub - Ibis Bengaluru           No         No  3.9    237   \n",
       "...                               ...          ...        ...  ...    ...   \n",
       "50940                        Cinnabon           No         No  4.0     80   \n",
       "51233                   Mayas kitchen           No         No  NEW      0   \n",
       "51247                   Mast Kalandar           No         No  2.6     76   \n",
       "51271            Karavalli Food Court           No         No  3.2      4   \n",
       "51641                   Andhra Spices           No         No  3.2      4   \n",
       "\n",
       "                location                                         dish_liked  \\\n",
       "1662        Bommanahalli                                                NaN   \n",
       "1768            JP Nagar                                                NaN   \n",
       "1795   Bannerghatta Road                                                NaN   \n",
       "3069   Bannerghatta Road                                                NaN   \n",
       "3774        Marathahalli  Dal Makhani, Cocktails, Lunch Buffet, Breakfas...   \n",
       "...                  ...                                                ...   \n",
       "50940         Whitefield                 Rolls, Cinnamon Roll, Cinnamon Bun   \n",
       "51233         Whitefield                                                NaN   \n",
       "51247         Whitefield  Gulab Jamun, Lassi, Dal Makhani, Buttermilk, T...   \n",
       "51271         Whitefield                                                NaN   \n",
       "51641        Brookefield                                                NaN   \n",
       "\n",
       "                                  cuisines avg_cost      type  \n",
       "1662                                   NaN      NaN  Delivery  \n",
       "1768                             Beverages      NaN  Delivery  \n",
       "1795   North Indian, Chinese, South Indian      NaN  Delivery  \n",
       "3069   North Indian, Chinese, South Indian      NaN  Delivery  \n",
       "3774                           Finger Food      NaN    Buffet  \n",
       "...                                    ...      ...       ...  \n",
       "50940          Beverages, American, Bakery      NaN  Desserts  \n",
       "51233     South Indian, Chinese, Chettinad      NaN  Dine-out  \n",
       "51247                         North Indian      NaN  Dine-out  \n",
       "51271                         South Indian      NaN  Dine-out  \n",
       "51641        Andhra, Chinese, South Indian      NaN  Dine-out  \n",
       "\n",
       "[346 rows x 10 columns]"
      ]
     },
     "execution_count": 46,
     "metadata": {},
     "output_type": "execute_result"
    }
   ],
   "source": [
    "data[data['avg_cost'].isnull()]"
   ]
  },
  {
   "cell_type": "code",
   "execution_count": 47,
   "id": "2ff9026d",
   "metadata": {},
   "outputs": [],
   "source": [
    "data.dropna(subset=[\"avg_cost\"],inplace=True)"
   ]
  },
  {
   "cell_type": "code",
   "execution_count": 48,
   "id": "31a934c1",
   "metadata": {},
   "outputs": [],
   "source": [
    "data.reset_index(drop=True, inplace=True)"
   ]
  },
  {
   "cell_type": "code",
   "execution_count": 49,
   "id": "0d353cbe",
   "metadata": {},
   "outputs": [],
   "source": [
    "data.avg_cost = data.avg_cost.astype('int')"
   ]
  },
  {
   "cell_type": "code",
   "execution_count": 50,
   "id": "a36e9853",
   "metadata": {},
   "outputs": [
    {
     "name": "stdout",
     "output_type": "stream",
     "text": [
      "<class 'pandas.core.frame.DataFrame'>\n",
      "RangeIndex: 51371 entries, 0 to 51370\n",
      "Data columns (total 10 columns):\n",
      " #   Column        Non-Null Count  Dtype \n",
      "---  ------        --------------  ----- \n",
      " 0   name          51371 non-null  object\n",
      " 1   online_order  51371 non-null  object\n",
      " 2   book_table    51371 non-null  object\n",
      " 3   rate          51371 non-null  object\n",
      " 4   votes         51371 non-null  int64 \n",
      " 5   location      51371 non-null  object\n",
      " 6   dish_liked    23503 non-null  object\n",
      " 7   cuisines      51352 non-null  object\n",
      " 8   avg_cost      51371 non-null  int32 \n",
      " 9   type          51371 non-null  object\n",
      "dtypes: int32(1), int64(1), object(8)\n",
      "memory usage: 3.7+ MB\n"
     ]
    }
   ],
   "source": [
    "data.info()"
   ]
  },
  {
   "cell_type": "markdown",
   "id": "e5c3da4d",
   "metadata": {},
   "source": [
    "### column: cuisines"
   ]
  },
  {
   "cell_type": "code",
   "execution_count": 51,
   "id": "28ecab31",
   "metadata": {},
   "outputs": [
    {
     "data": {
      "text/plain": [
       "False    51352\n",
       "True        19\n",
       "Name: cuisines, dtype: int64"
      ]
     },
     "execution_count": 51,
     "metadata": {},
     "output_type": "execute_result"
    }
   ],
   "source": [
    "## CUISINES\n",
    "## handling high dimensionality\n",
    "## cuisines which are served in less than 100 restaurants are treated as others\n",
    "#cuisines_count=data.cuisines.value_counts()\n",
    "#cuisines_lessthan100 = cuisines_count[cuisines_count<100]\n",
    "\n",
    "#def handle_cuisines(value):\n",
    "#    if value in cuisines_lessthan100:\n",
    "#        return 'others'\n",
    "#    else:\n",
    "#        return value\n",
    "#data['cuisines']=data['cuisines'].apply(handle_cuisines)\n",
    "\n",
    "data.cuisines.isnull().value_counts()"
   ]
  },
  {
   "cell_type": "code",
   "execution_count": 52,
   "id": "05c2a55f",
   "metadata": {},
   "outputs": [],
   "source": [
    "## handling missing values\n",
    "#data.cuisines.fillna('UNKNOWN', inplace=True)"
   ]
  },
  {
   "cell_type": "code",
   "execution_count": 53,
   "id": "07b2341e",
   "metadata": {
    "scrolled": true
   },
   "outputs": [
    {
     "data": {
      "text/plain": [
       "North Indian                                      2872\n",
       "North Indian, Chinese                             2377\n",
       "South Indian                                      1822\n",
       "Biryani                                            915\n",
       "Bakery, Desserts                                   903\n",
       "                                                  ... \n",
       "South Indian, Fast Food, Chinese, North Indian       1\n",
       "Biryani, Kebab, Kerala                               1\n",
       "Fast Food, Street Food, North Indian, Biryani        1\n",
       "Beverages, Juices, Ice Cream, Fast Food              1\n",
       "Seafood, Chinese, South Indian                       1\n",
       "Name: cuisines, Length: 2716, dtype: int64"
      ]
     },
     "execution_count": 53,
     "metadata": {},
     "output_type": "execute_result"
    }
   ],
   "source": [
    "data.cuisines.value_counts(dropna=False)"
   ]
  },
  {
   "cell_type": "code",
   "execution_count": null,
   "id": "2f2751f3",
   "metadata": {},
   "outputs": [],
   "source": []
  },
  {
   "cell_type": "markdown",
   "id": "08932371",
   "metadata": {},
   "source": [
    "# Function to return number of elements in a row of specific column ####"
   ]
  },
  {
   "cell_type": "code",
   "execution_count": 54,
   "id": "1e147e0f",
   "metadata": {},
   "outputs": [],
   "source": [
    "def element_counter(inpStr):\n",
    "    if type(inpStr)==float:\n",
    "        return 0\n",
    "    else:\n",
    "        count=len(str(inpStr).split(\",\"))\n",
    "        return count"
   ]
  },
  {
   "cell_type": "code",
   "execution_count": 55,
   "id": "0c127036",
   "metadata": {},
   "outputs": [],
   "source": [
    "##### For cuisisnes \n",
    "data['Count_cuisines']= data['cuisines'].apply(element_counter)"
   ]
  },
  {
   "cell_type": "code",
   "execution_count": 56,
   "id": "fac34444",
   "metadata": {},
   "outputs": [],
   "source": [
    "##### for dish_liked\n",
    "data['Count_dishes']= data['dish_liked'].apply(element_counter)"
   ]
  },
  {
   "cell_type": "code",
   "execution_count": 57,
   "id": "24b2e1df",
   "metadata": {},
   "outputs": [
    {
     "data": {
      "text/html": [
       "<div>\n",
       "<style scoped>\n",
       "    .dataframe tbody tr th:only-of-type {\n",
       "        vertical-align: middle;\n",
       "    }\n",
       "\n",
       "    .dataframe tbody tr th {\n",
       "        vertical-align: top;\n",
       "    }\n",
       "\n",
       "    .dataframe thead th {\n",
       "        text-align: right;\n",
       "    }\n",
       "</style>\n",
       "<table border=\"1\" class=\"dataframe\">\n",
       "  <thead>\n",
       "    <tr style=\"text-align: right;\">\n",
       "      <th></th>\n",
       "      <th>name</th>\n",
       "      <th>online_order</th>\n",
       "      <th>book_table</th>\n",
       "      <th>rate</th>\n",
       "      <th>votes</th>\n",
       "      <th>location</th>\n",
       "      <th>dish_liked</th>\n",
       "      <th>cuisines</th>\n",
       "      <th>avg_cost</th>\n",
       "      <th>type</th>\n",
       "      <th>Count_cuisines</th>\n",
       "      <th>Count_dishes</th>\n",
       "    </tr>\n",
       "  </thead>\n",
       "  <tbody>\n",
       "    <tr>\n",
       "      <th>0</th>\n",
       "      <td>Jalsa</td>\n",
       "      <td>Yes</td>\n",
       "      <td>Yes</td>\n",
       "      <td>4.1</td>\n",
       "      <td>775</td>\n",
       "      <td>Banashankari</td>\n",
       "      <td>Pasta, Lunch Buffet, Masala Papad, Paneer Laja...</td>\n",
       "      <td>North Indian, Mughlai, Chinese</td>\n",
       "      <td>800</td>\n",
       "      <td>Buffet</td>\n",
       "      <td>3</td>\n",
       "      <td>7</td>\n",
       "    </tr>\n",
       "    <tr>\n",
       "      <th>1</th>\n",
       "      <td>Spice Elephant</td>\n",
       "      <td>Yes</td>\n",
       "      <td>No</td>\n",
       "      <td>4.1</td>\n",
       "      <td>787</td>\n",
       "      <td>Banashankari</td>\n",
       "      <td>Momos, Lunch Buffet, Chocolate Nirvana, Thai G...</td>\n",
       "      <td>Chinese, North Indian, Thai</td>\n",
       "      <td>800</td>\n",
       "      <td>Buffet</td>\n",
       "      <td>3</td>\n",
       "      <td>7</td>\n",
       "    </tr>\n",
       "    <tr>\n",
       "      <th>2</th>\n",
       "      <td>San Churro Cafe</td>\n",
       "      <td>Yes</td>\n",
       "      <td>No</td>\n",
       "      <td>3.8</td>\n",
       "      <td>918</td>\n",
       "      <td>Banashankari</td>\n",
       "      <td>Churros, Cannelloni, Minestrone Soup, Hot Choc...</td>\n",
       "      <td>Cafe, Mexican, Italian</td>\n",
       "      <td>800</td>\n",
       "      <td>Buffet</td>\n",
       "      <td>3</td>\n",
       "      <td>7</td>\n",
       "    </tr>\n",
       "    <tr>\n",
       "      <th>3</th>\n",
       "      <td>Addhuri Udupi Bhojana</td>\n",
       "      <td>No</td>\n",
       "      <td>No</td>\n",
       "      <td>3.7</td>\n",
       "      <td>88</td>\n",
       "      <td>Banashankari</td>\n",
       "      <td>Masala Dosa</td>\n",
       "      <td>South Indian, North Indian</td>\n",
       "      <td>300</td>\n",
       "      <td>Buffet</td>\n",
       "      <td>2</td>\n",
       "      <td>1</td>\n",
       "    </tr>\n",
       "    <tr>\n",
       "      <th>4</th>\n",
       "      <td>Grand Village</td>\n",
       "      <td>No</td>\n",
       "      <td>No</td>\n",
       "      <td>3.8</td>\n",
       "      <td>166</td>\n",
       "      <td>Basavanagudi</td>\n",
       "      <td>Panipuri, Gol Gappe</td>\n",
       "      <td>North Indian, Rajasthani</td>\n",
       "      <td>600</td>\n",
       "      <td>Buffet</td>\n",
       "      <td>2</td>\n",
       "      <td>2</td>\n",
       "    </tr>\n",
       "  </tbody>\n",
       "</table>\n",
       "</div>"
      ],
      "text/plain": [
       "                    name online_order book_table rate  votes      location  \\\n",
       "0                  Jalsa          Yes        Yes  4.1    775  Banashankari   \n",
       "1         Spice Elephant          Yes         No  4.1    787  Banashankari   \n",
       "2        San Churro Cafe          Yes         No  3.8    918  Banashankari   \n",
       "3  Addhuri Udupi Bhojana           No         No  3.7     88  Banashankari   \n",
       "4          Grand Village           No         No  3.8    166  Basavanagudi   \n",
       "\n",
       "                                          dish_liked  \\\n",
       "0  Pasta, Lunch Buffet, Masala Papad, Paneer Laja...   \n",
       "1  Momos, Lunch Buffet, Chocolate Nirvana, Thai G...   \n",
       "2  Churros, Cannelloni, Minestrone Soup, Hot Choc...   \n",
       "3                                        Masala Dosa   \n",
       "4                                Panipuri, Gol Gappe   \n",
       "\n",
       "                         cuisines  avg_cost    type  Count_cuisines  \\\n",
       "0  North Indian, Mughlai, Chinese       800  Buffet               3   \n",
       "1     Chinese, North Indian, Thai       800  Buffet               3   \n",
       "2          Cafe, Mexican, Italian       800  Buffet               3   \n",
       "3      South Indian, North Indian       300  Buffet               2   \n",
       "4        North Indian, Rajasthani       600  Buffet               2   \n",
       "\n",
       "   Count_dishes  \n",
       "0             7  \n",
       "1             7  \n",
       "2             7  \n",
       "3             1  \n",
       "4             2  "
      ]
     },
     "execution_count": 57,
     "metadata": {},
     "output_type": "execute_result"
    }
   ],
   "source": [
    "data.head()"
   ]
  },
  {
   "cell_type": "code",
   "execution_count": 58,
   "id": "96203f95",
   "metadata": {},
   "outputs": [
    {
     "data": {
      "text/plain": [
       "2    17835\n",
       "1    12271\n",
       "3    12124\n",
       "4     5854\n",
       "5     2026\n",
       "6      680\n",
       "7      372\n",
       "8      190\n",
       "0       19\n",
       "Name: Count_cuisines, dtype: int64"
      ]
     },
     "execution_count": 58,
     "metadata": {},
     "output_type": "execute_result"
    }
   ],
   "source": [
    "data.Count_cuisines.value_counts()"
   ]
  },
  {
   "cell_type": "code",
   "execution_count": 59,
   "id": "15f7dfa1",
   "metadata": {},
   "outputs": [
    {
     "data": {
      "text/plain": [
       "0    27868\n",
       "7    13780\n",
       "2     2015\n",
       "3     1827\n",
       "1     1752\n",
       "4     1579\n",
       "5     1350\n",
       "6     1200\n",
       "Name: Count_dishes, dtype: int64"
      ]
     },
     "execution_count": 59,
     "metadata": {},
     "output_type": "execute_result"
    }
   ],
   "source": [
    "data.Count_dishes.value_counts()"
   ]
  },
  {
   "cell_type": "code",
   "execution_count": 60,
   "id": "49d46860",
   "metadata": {},
   "outputs": [
    {
     "name": "stdout",
     "output_type": "stream",
     "text": [
      "<class 'pandas.core.frame.DataFrame'>\n",
      "RangeIndex: 51371 entries, 0 to 51370\n",
      "Data columns (total 12 columns):\n",
      " #   Column          Non-Null Count  Dtype \n",
      "---  ------          --------------  ----- \n",
      " 0   name            51371 non-null  object\n",
      " 1   online_order    51371 non-null  object\n",
      " 2   book_table      51371 non-null  object\n",
      " 3   rate            51371 non-null  object\n",
      " 4   votes           51371 non-null  int64 \n",
      " 5   location        51371 non-null  object\n",
      " 6   dish_liked      23503 non-null  object\n",
      " 7   cuisines        51352 non-null  object\n",
      " 8   avg_cost        51371 non-null  int32 \n",
      " 9   type            51371 non-null  object\n",
      " 10  Count_cuisines  51371 non-null  int64 \n",
      " 11  Count_dishes    51371 non-null  int64 \n",
      "dtypes: int32(1), int64(3), object(8)\n",
      "memory usage: 4.5+ MB\n"
     ]
    }
   ],
   "source": [
    "data.info()"
   ]
  },
  {
   "cell_type": "code",
   "execution_count": null,
   "id": "f338d51a",
   "metadata": {},
   "outputs": [],
   "source": []
  },
  {
   "cell_type": "code",
   "execution_count": null,
   "id": "e5e34460",
   "metadata": {},
   "outputs": [],
   "source": []
  },
  {
   "cell_type": "markdown",
   "id": "76959e45",
   "metadata": {},
   "source": [
    "# Handling outliers"
   ]
  },
  {
   "cell_type": "code",
   "execution_count": 61,
   "id": "cd803462",
   "metadata": {},
   "outputs": [
    {
     "data": {
      "text/plain": [
       "array([[<AxesSubplot:title={'center':'avg_cost'}>,\n",
       "        <AxesSubplot:title={'center':'votes'}>]], dtype=object)"
      ]
     },
     "execution_count": 61,
     "metadata": {},
     "output_type": "execute_result"
    },
    {
     "data": {
      "image/png": "[encoded data removed]",
      "text/plain": [
       "<Figure size 1800x500 with 2 Axes>"
      ]
     },
     "metadata": {},
     "output_type": "display_data"
    }
   ],
   "source": [
    "data.hist(column=['avg_cost','votes'], figsize=(18,5))"
   ]
  },
  {
   "cell_type": "code",
   "execution_count": 62,
   "id": "db774a62",
   "metadata": {},
   "outputs": [
    {
     "data": {
      "text/plain": [
       "<AxesSubplot:>"
      ]
     },
     "execution_count": 62,
     "metadata": {},
     "output_type": "execute_result"
    },
    {
     "data": {
      "image/png": "[encoded data removed]",
      "text/plain": [
       "<Figure size 1800x1000 with 1 Axes>"
      ]
     },
     "metadata": {},
     "output_type": "display_data"
    }
   ],
   "source": [
    "data.boxplot(column=['avg_cost', 'votes'], figsize=(18,10))"
   ]
  },
  {
   "cell_type": "markdown",
   "id": "bed5709d",
   "metadata": {},
   "source": [
    "> From __boxplot__ and __barchart__ we same to conclusion that we need to handle outlier in __avg_cost__ and __votes__, as avg_cost has value more than 6000 and votes has value more than 15000. \n",
    "\n",
    "> __avg_cost__ > 3000 must be substituted with optimal value.\n",
    "\n",
    "> __votes__ > 7500 must be substituted with optimal value."
   ]
  },
  {
   "cell_type": "code",
   "execution_count": 63,
   "id": "1a51eb52",
   "metadata": {},
   "outputs": [
    {
     "data": {
      "text/plain": [
       "49301    7330\n",
       "49729    7330\n",
       "48947    7330\n",
       "49748    7330\n",
       "40287    7284\n",
       "         ... \n",
       "23199       0\n",
       "23200       0\n",
       "23202       0\n",
       "23204       0\n",
       "16336       0\n",
       "Name: votes, Length: 51269, dtype: int64"
      ]
     },
     "execution_count": 63,
     "metadata": {},
     "output_type": "execute_result"
    }
   ],
   "source": [
    "## first selecting votes value which is nearest to 7500 \n",
    "data['votes'][data['votes']<7500].sort_values(ascending=False)"
   ]
  },
  {
   "cell_type": "markdown",
   "id": "fad66904",
   "metadata": {},
   "source": [
    "> 7330 value is selected for vote to rid of outliers."
   ]
  },
  {
   "cell_type": "code",
   "execution_count": 64,
   "id": "4fef023a",
   "metadata": {},
   "outputs": [],
   "source": [
    "# replacing i=outliers with nearest possible values\n",
    "data['votes'][data['votes']>7500]= 7330"
   ]
  },
  {
   "cell_type": "code",
   "execution_count": 65,
   "id": "adaff1dc",
   "metadata": {},
   "outputs": [
    {
     "data": {
      "text/plain": [
       "42951    2800\n",
       "48290    2800\n",
       "6623     2800\n",
       "13218    2800\n",
       "48356    2800\n",
       "         ... \n",
       "29650      40\n",
       "5259       40\n",
       "12201      40\n",
       "14778      40\n",
       "32328      40\n",
       "Name: avg_cost, Length: 51130, dtype: int32"
      ]
     },
     "execution_count": 65,
     "metadata": {},
     "output_type": "execute_result"
    }
   ],
   "source": [
    "## for __avg_cost__ selecting value which is nearest to 3000 \n",
    "data[\"avg_cost\"][data['avg_cost']<3000].sort_values(ascending=False)"
   ]
  },
  {
   "cell_type": "markdown",
   "id": "922f832f",
   "metadata": {},
   "source": [
    "> 2880 value is selected for vote to rid of outliers."
   ]
  },
  {
   "cell_type": "code",
   "execution_count": 66,
   "id": "fa0dc240",
   "metadata": {},
   "outputs": [],
   "source": [
    "data[\"avg_cost\"][data[\"avg_cost\"]>3000]=2880"
   ]
  },
  {
   "cell_type": "code",
   "execution_count": 67,
   "id": "a953a8db",
   "metadata": {},
   "outputs": [
    {
     "data": {
      "text/plain": [
       "array([[<AxesSubplot:title={'center':'avg_cost'}>,\n",
       "        <AxesSubplot:title={'center':'votes'}>]], dtype=object)"
      ]
     },
     "execution_count": 67,
     "metadata": {},
     "output_type": "execute_result"
    },
    {
     "data": {
      "image/png": "[encoded data removed]",
      "text/plain": [
       "<Figure size 1800x500 with 2 Axes>"
      ]
     },
     "metadata": {},
     "output_type": "display_data"
    }
   ],
   "source": [
    "## checking distribution after removal of outliers\n",
    "data.hist(column=['avg_cost','votes'], figsize=(18,5))"
   ]
  },
  {
   "cell_type": "markdown",
   "id": "2b942ffd",
   "metadata": {},
   "source": [
    "> Distribution of __avg_cost__ and __votes__ are now look better."
   ]
  },
  {
   "cell_type": "code",
   "execution_count": null,
   "id": "e7ecc0db",
   "metadata": {},
   "outputs": [],
   "source": []
  },
  {
   "cell_type": "code",
   "execution_count": null,
   "id": "dacdd4e7",
   "metadata": {},
   "outputs": [],
   "source": []
  },
  {
   "cell_type": "markdown",
   "id": "8b054941",
   "metadata": {},
   "source": [
    "## As all the missing values and outliers are dealt with lets jump into visualization "
   ]
  },
  {
   "cell_type": "markdown",
   "id": "15cf3ca8",
   "metadata": {},
   "source": [
    "# __Data Visualization__"
   ]
  },
  {
   "cell_type": "markdown",
   "id": "b7f97991",
   "metadata": {},
   "source": [
    "### Distribution of Restaurant Rating"
   ]
  },
  {
   "cell_type": "code",
   "execution_count": 68,
   "id": "0dc28cd8",
   "metadata": {},
   "outputs": [],
   "source": [
    "# cleaning rating \n",
    "df_clean = data[data[\"rate\"]!= \"NEW\"].copy()\n",
    "\n",
    "# converting rate dtype to float\n",
    "df_clean['rate']= pd.to_numeric(df_clean['rate'], downcast='float')"
   ]
  },
  {
   "cell_type": "code",
   "execution_count": 69,
   "id": "f22215c4",
   "metadata": {
    "scrolled": true
   },
   "outputs": [
    {
     "data": {
      "text/plain": [
       "3.9    3961\n",
       "3.8    3825\n",
       "3.7    3812\n",
       "3.6    3313\n",
       "4.0    3151\n",
       "4.1    2928\n",
       "3.5    2780\n",
       "3.4    2454\n",
       "3.3    2286\n",
       "4.2    2155\n",
       "3.2    1864\n",
       "4.3    1683\n",
       "3.1    1556\n",
       "4.4    1146\n",
       "3.0    1011\n",
       "2.9     801\n",
       "4.5     656\n",
       "2.8     600\n",
       "2.7     306\n",
       "4.6     300\n",
       "2.6     255\n",
       "4.7     167\n",
       "2.5     100\n",
       "2.4      70\n",
       "4.8      66\n",
       "4.9      55\n",
       "2.3      51\n",
       "2.2      26\n",
       "2.1      24\n",
       "2.0      11\n",
       "1.8       5\n",
       "Name: rate, dtype: int64"
      ]
     },
     "execution_count": 69,
     "metadata": {},
     "output_type": "execute_result"
    }
   ],
   "source": [
    "df_clean['rate'].value_counts()"
   ]
  },
  {
   "cell_type": "code",
   "execution_count": 70,
   "id": "5b2082d0",
   "metadata": {},
   "outputs": [
    {
     "data": {
      "text/plain": [
       "Text(0.5, 1.0, 'Distribution of Restaurant Rating')"
      ]
     },
     "execution_count": 70,
     "metadata": {},
     "output_type": "execute_result"
    },
    {
     "data": {
      "image/png": "[encoded data removed]",
      "text/plain": [
       "<Figure size 1000x800 with 1 Axes>"
      ]
     },
     "metadata": {},
     "output_type": "display_data"
    }
   ],
   "source": [
    "## distribution of rate\n",
    "plt.figure(figsize=(10,8))\n",
    "sns.distplot(df_clean['rate'], color='darkorange')\n",
    "plt.xlabel(\"Rate\", fontdict=Lfont)\n",
    "plt.ylabel(\"Density\", fontdict=Lfont)\n",
    "plt.title(\"Distribution of Restaurant Rating\", fontdict=Tfont)"
   ]
  },
  {
   "cell_type": "markdown",
   "id": "f23d2b56",
   "metadata": {},
   "source": [
    "> Rating of the restaurants shows __Normal distribution__."
   ]
  },
  {
   "cell_type": "code",
   "execution_count": 71,
   "id": "d91d3a27",
   "metadata": {},
   "outputs": [
    {
     "data": {
      "text/plain": [
       "Index(['name', 'online_order', 'book_table', 'rate', 'votes', 'location',\n",
       "       'dish_liked', 'cuisines', 'avg_cost', 'type', 'Count_cuisines',\n",
       "       'Count_dishes'],\n",
       "      dtype='object')"
      ]
     },
     "execution_count": 71,
     "metadata": {},
     "output_type": "execute_result"
    }
   ],
   "source": [
    "\n",
    "df_clean.columns"
   ]
  },
  {
   "cell_type": "code",
   "execution_count": 72,
   "id": "5401683d",
   "metadata": {},
   "outputs": [
    {
     "data": {
      "text/html": [
       "<div>\n",
       "<style scoped>\n",
       "    .dataframe tbody tr th:only-of-type {\n",
       "        vertical-align: middle;\n",
       "    }\n",
       "\n",
       "    .dataframe tbody tr th {\n",
       "        vertical-align: top;\n",
       "    }\n",
       "\n",
       "    .dataframe thead th {\n",
       "        text-align: right;\n",
       "    }\n",
       "</style>\n",
       "<table border=\"1\" class=\"dataframe\">\n",
       "  <thead>\n",
       "    <tr style=\"text-align: right;\">\n",
       "      <th></th>\n",
       "      <th>name</th>\n",
       "      <th>online_order</th>\n",
       "      <th>book_table</th>\n",
       "      <th>rate</th>\n",
       "      <th>votes</th>\n",
       "      <th>location</th>\n",
       "      <th>dish_liked</th>\n",
       "      <th>cuisines</th>\n",
       "      <th>avg_cost</th>\n",
       "      <th>type</th>\n",
       "      <th>Count_cuisines</th>\n",
       "      <th>Count_dishes</th>\n",
       "    </tr>\n",
       "  </thead>\n",
       "  <tbody>\n",
       "    <tr>\n",
       "      <th>0</th>\n",
       "      <td>Jalsa</td>\n",
       "      <td>Yes</td>\n",
       "      <td>Yes</td>\n",
       "      <td>4.1</td>\n",
       "      <td>775</td>\n",
       "      <td>Banashankari</td>\n",
       "      <td>Pasta, Lunch Buffet, Masala Papad, Paneer Laja...</td>\n",
       "      <td>North Indian, Mughlai, Chinese</td>\n",
       "      <td>800</td>\n",
       "      <td>Buffet</td>\n",
       "      <td>3</td>\n",
       "      <td>7</td>\n",
       "    </tr>\n",
       "    <tr>\n",
       "      <th>1</th>\n",
       "      <td>Spice Elephant</td>\n",
       "      <td>Yes</td>\n",
       "      <td>No</td>\n",
       "      <td>4.1</td>\n",
       "      <td>787</td>\n",
       "      <td>Banashankari</td>\n",
       "      <td>Momos, Lunch Buffet, Chocolate Nirvana, Thai G...</td>\n",
       "      <td>Chinese, North Indian, Thai</td>\n",
       "      <td>800</td>\n",
       "      <td>Buffet</td>\n",
       "      <td>3</td>\n",
       "      <td>7</td>\n",
       "    </tr>\n",
       "    <tr>\n",
       "      <th>2</th>\n",
       "      <td>San Churro Cafe</td>\n",
       "      <td>Yes</td>\n",
       "      <td>No</td>\n",
       "      <td>3.8</td>\n",
       "      <td>918</td>\n",
       "      <td>Banashankari</td>\n",
       "      <td>Churros, Cannelloni, Minestrone Soup, Hot Choc...</td>\n",
       "      <td>Cafe, Mexican, Italian</td>\n",
       "      <td>800</td>\n",
       "      <td>Buffet</td>\n",
       "      <td>3</td>\n",
       "      <td>7</td>\n",
       "    </tr>\n",
       "    <tr>\n",
       "      <th>3</th>\n",
       "      <td>Addhuri Udupi Bhojana</td>\n",
       "      <td>No</td>\n",
       "      <td>No</td>\n",
       "      <td>3.7</td>\n",
       "      <td>88</td>\n",
       "      <td>Banashankari</td>\n",
       "      <td>Masala Dosa</td>\n",
       "      <td>South Indian, North Indian</td>\n",
       "      <td>300</td>\n",
       "      <td>Buffet</td>\n",
       "      <td>2</td>\n",
       "      <td>1</td>\n",
       "    </tr>\n",
       "    <tr>\n",
       "      <th>4</th>\n",
       "      <td>Grand Village</td>\n",
       "      <td>No</td>\n",
       "      <td>No</td>\n",
       "      <td>3.8</td>\n",
       "      <td>166</td>\n",
       "      <td>Basavanagudi</td>\n",
       "      <td>Panipuri, Gol Gappe</td>\n",
       "      <td>North Indian, Rajasthani</td>\n",
       "      <td>600</td>\n",
       "      <td>Buffet</td>\n",
       "      <td>2</td>\n",
       "      <td>2</td>\n",
       "    </tr>\n",
       "  </tbody>\n",
       "</table>\n",
       "</div>"
      ],
      "text/plain": [
       "                    name online_order book_table  rate  votes      location  \\\n",
       "0                  Jalsa          Yes        Yes   4.1    775  Banashankari   \n",
       "1         Spice Elephant          Yes         No   4.1    787  Banashankari   \n",
       "2        San Churro Cafe          Yes         No   3.8    918  Banashankari   \n",
       "3  Addhuri Udupi Bhojana           No         No   3.7     88  Banashankari   \n",
       "4          Grand Village           No         No   3.8    166  Basavanagudi   \n",
       "\n",
       "                                          dish_liked  \\\n",
       "0  Pasta, Lunch Buffet, Masala Papad, Paneer Laja...   \n",
       "1  Momos, Lunch Buffet, Chocolate Nirvana, Thai G...   \n",
       "2  Churros, Cannelloni, Minestrone Soup, Hot Choc...   \n",
       "3                                        Masala Dosa   \n",
       "4                                Panipuri, Gol Gappe   \n",
       "\n",
       "                         cuisines  avg_cost    type  Count_cuisines  \\\n",
       "0  North Indian, Mughlai, Chinese       800  Buffet               3   \n",
       "1     Chinese, North Indian, Thai       800  Buffet               3   \n",
       "2          Cafe, Mexican, Italian       800  Buffet               3   \n",
       "3      South Indian, North Indian       300  Buffet               2   \n",
       "4        North Indian, Rajasthani       600  Buffet               2   \n",
       "\n",
       "   Count_dishes  \n",
       "0             7  \n",
       "1             7  \n",
       "2             7  \n",
       "3             1  \n",
       "4             2  "
      ]
     },
     "execution_count": 72,
     "metadata": {},
     "output_type": "execute_result"
    }
   ],
   "source": [
    "df_clean.head()"
   ]
  },
  {
   "cell_type": "markdown",
   "id": "afbe456d",
   "metadata": {},
   "source": [
    "## Distribution of Vote of restaurants"
   ]
  },
  {
   "cell_type": "code",
   "execution_count": 73,
   "id": "0f1c4ebc",
   "metadata": {},
   "outputs": [
    {
     "data": {
      "text/plain": [
       "Text(0.5, 1.0, 'Distribution of Restaurant Votes')"
      ]
     },
     "execution_count": 73,
     "metadata": {},
     "output_type": "execute_result"
    },
    {
     "data": {
      "image/png": "[encoded data removed]",
      "text/plain": [
       "<Figure size 1000x800 with 1 Axes>"
      ]
     },
     "metadata": {},
     "output_type": "display_data"
    }
   ],
   "source": [
    "plt.figure(figsize=(10,8))\n",
    "sns.distplot(df_clean['votes'], color='blueviolet')\n",
    "plt.xlabel(\"Vote\", fontdict=Lfont)\n",
    "plt.ylabel(\"Density\", fontdict=Lfont)\n",
    "plt.title(\"Distribution of Restaurant Votes\", fontdict=Tfont)"
   ]
  },
  {
   "cell_type": "markdown",
   "id": "5fd49c03",
   "metadata": {},
   "source": [
    "## Distribution of avg_cost of restaurants"
   ]
  },
  {
   "cell_type": "code",
   "execution_count": 74,
   "id": "fec9b439",
   "metadata": {},
   "outputs": [
    {
     "data": {
      "text/plain": [
       "Text(0.5, 1.0, 'Distribution of Restaurant Avg_cost')"
      ]
     },
     "execution_count": 74,
     "metadata": {},
     "output_type": "execute_result"
    },
    {
     "data": {
      "image/png": "[encoded data removed]",
      "text/plain": [
       "<Figure size 1000x800 with 1 Axes>"
      ]
     },
     "metadata": {},
     "output_type": "display_data"
    }
   ],
   "source": [
    "plt.figure(figsize=(10,8))\n",
    "sns.distplot(df_clean['avg_cost'], color='blueviolet')\n",
    "plt.xlabel(\"avg_cost\", fontdict=Lfont)\n",
    "plt.ylabel(\"Density\", fontdict=Lfont)\n",
    "plt.title(\"Distribution of Restaurant Avg_cost\", fontdict=Tfont)"
   ]
  },
  {
   "cell_type": "markdown",
   "id": "51e18c61",
   "metadata": {},
   "source": [
    "> Since both __votes and avg_cost has somewhat skewness__, we will first confirm  more accurately and then do transfromation if its needed."
   ]
  },
  {
   "cell_type": "code",
   "execution_count": 75,
   "id": "e493448a",
   "metadata": {},
   "outputs": [],
   "source": [
    "## Since boxcox wont allow values<=0.0\n",
    "df_clean.drop(df_clean['votes'][df_clean['votes']==0].index, inplace=True)"
   ]
  },
  {
   "cell_type": "code",
   "execution_count": 76,
   "id": "7316c22b",
   "metadata": {},
   "outputs": [],
   "source": [
    "## Calculating Skewdness and how heavily the outliers are\n",
    "## skewness and heaviness along the index axis\n",
    "def CalcSkew(dataframe):\n",
    "    Skew_values = dataframe.skew(axis = 0)\n",
    "    kurtosis_value = dataframe.kurtosis(axis =0)\n",
    "    d = {\"Skewness\":Skew_values, \"Kurtosis\":kurtosis_value}\n",
    "    df_SkewCalc = pd.DataFrame(d,index=['online_order', 'book_table', 'rate', 'votes', 'avg_cost','Count_cuisines', 'Count_dishes'])\n",
    "    return df_SkewCalc\n"
   ]
  },
  {
   "cell_type": "code",
   "execution_count": 77,
   "id": "2904b167",
   "metadata": {},
   "outputs": [
    {
     "data": {
      "text/html": [
       "<div>\n",
       "<style scoped>\n",
       "    .dataframe tbody tr th:only-of-type {\n",
       "        vertical-align: middle;\n",
       "    }\n",
       "\n",
       "    .dataframe tbody tr th {\n",
       "        vertical-align: top;\n",
       "    }\n",
       "\n",
       "    .dataframe thead th {\n",
       "        text-align: right;\n",
       "    }\n",
       "</style>\n",
       "<table border=\"1\" class=\"dataframe\">\n",
       "  <thead>\n",
       "    <tr style=\"text-align: right;\">\n",
       "      <th></th>\n",
       "      <th>Skewness</th>\n",
       "      <th>Kurtosis</th>\n",
       "    </tr>\n",
       "  </thead>\n",
       "  <tbody>\n",
       "    <tr>\n",
       "      <th>online_order</th>\n",
       "      <td>NaN</td>\n",
       "      <td>NaN</td>\n",
       "    </tr>\n",
       "    <tr>\n",
       "      <th>book_table</th>\n",
       "      <td>NaN</td>\n",
       "      <td>NaN</td>\n",
       "    </tr>\n",
       "    <tr>\n",
       "      <th>rate</th>\n",
       "      <td>-0.326803</td>\n",
       "      <td>-0.006639</td>\n",
       "    </tr>\n",
       "    <tr>\n",
       "      <th>votes</th>\n",
       "      <td>4.939964</td>\n",
       "      <td>30.946921</td>\n",
       "    </tr>\n",
       "    <tr>\n",
       "      <th>avg_cost</th>\n",
       "      <td>2.149101</td>\n",
       "      <td>6.022189</td>\n",
       "    </tr>\n",
       "    <tr>\n",
       "      <th>Count_cuisines</th>\n",
       "      <td>1.024649</td>\n",
       "      <td>1.424984</td>\n",
       "    </tr>\n",
       "    <tr>\n",
       "      <th>Count_dishes</th>\n",
       "      <td>0.256445</td>\n",
       "      <td>-1.755288</td>\n",
       "    </tr>\n",
       "  </tbody>\n",
       "</table>\n",
       "</div>"
      ],
      "text/plain": [
       "                Skewness   Kurtosis\n",
       "online_order         NaN        NaN\n",
       "book_table           NaN        NaN\n",
       "rate           -0.326803  -0.006639\n",
       "votes           4.939964  30.946921\n",
       "avg_cost        2.149101   6.022189\n",
       "Count_cuisines  1.024649   1.424984\n",
       "Count_dishes    0.256445  -1.755288"
      ]
     },
     "execution_count": 77,
     "metadata": {},
     "output_type": "execute_result"
    }
   ],
   "source": [
    "CalcSkew(df_clean)"
   ]
  },
  {
   "cell_type": "markdown",
   "id": "de98b9c3",
   "metadata": {},
   "source": [
    "> So it cames that our intuition was right. Our main aim is to transform __votes and avg_cost__ from __log normal to normal distribution__"
   ]
  },
  {
   "cell_type": "code",
   "execution_count": 78,
   "id": "6650a1b2",
   "metadata": {},
   "outputs": [],
   "source": [
    "## Transforming from log-normal to normal distribution\n",
    "from scipy.stats import boxcox as bcx\n",
    "\n",
    "## Transforming votes distribution\n",
    "transform_votes= bcx(df_clean['votes'], 0.0)\n",
    "df_clean['votes_transformed']=transform_votes\n",
    "\n",
    "## Transforming avg_cost distribution\n",
    "transform_avg_cost= bcx(df_clean['avg_cost'], 0.0)\n",
    "df_clean['avg_cost_transformed']=transform_avg_cost\n",
    "\n"
   ]
  },
  {
   "cell_type": "code",
   "execution_count": 79,
   "id": "b3b11d7d",
   "metadata": {},
   "outputs": [
    {
     "data": {
      "text/plain": [
       "Text(0.5, 1.0, 'Distribution of Average_Cost')"
      ]
     },
     "execution_count": 79,
     "metadata": {},
     "output_type": "execute_result"
    },
    {
     "data": {
      "image/png": "[encoded data removed]",
      "text/plain": [
       "<Figure size 1600x500 with 2 Axes>"
      ]
     },
     "metadata": {},
     "output_type": "display_data"
    }
   ],
   "source": [
    "## Plotting disribution diagram\n",
    "plt.figure(figsize=(16,5))\n",
    "plt.suptitle(\"Distribution after transformation\")\n",
    "\n",
    "# plot-1\n",
    "plt.subplot(121)\n",
    "sns.distplot(df_clean['votes_transformed'], color= 'darkorange')\n",
    "plt.xlabel(\"Votes\", fontdict=Lfont)\n",
    "plt.title('Distribution of Votes')\n",
    "\n",
    "# plot-2\n",
    "plt.subplot(122)\n",
    "sns.distplot(df_clean['avg_cost_transformed'], color= 'darkorange')\n",
    "plt.xlabel(\"Average_cost\", fontdict=Lfont)\n",
    "plt.title('Distribution of Average_Cost')\n"
   ]
  },
  {
   "cell_type": "markdown",
   "id": "674198ae",
   "metadata": {},
   "source": [
    "> Now these distribution look much better than previous and somwhat tends towards normal distribution. \n",
    "\n",
    "#### Lets check Skewness and kurtosis too."
   ]
  },
  {
   "cell_type": "code",
   "execution_count": 80,
   "id": "2653d360",
   "metadata": {},
   "outputs": [
    {
     "data": {
      "text/html": [
       "<div>\n",
       "<style scoped>\n",
       "    .dataframe tbody tr th:only-of-type {\n",
       "        vertical-align: middle;\n",
       "    }\n",
       "\n",
       "    .dataframe tbody tr th {\n",
       "        vertical-align: top;\n",
       "    }\n",
       "\n",
       "    .dataframe thead th {\n",
       "        text-align: right;\n",
       "    }\n",
       "</style>\n",
       "<table border=\"1\" class=\"dataframe\">\n",
       "  <thead>\n",
       "    <tr style=\"text-align: right;\">\n",
       "      <th></th>\n",
       "      <th>votes_transformed</th>\n",
       "      <th>avg_cost_transformed</th>\n",
       "    </tr>\n",
       "  </thead>\n",
       "  <tbody>\n",
       "    <tr>\n",
       "      <th>skew</th>\n",
       "      <td>0.253744</td>\n",
       "      <td>0.18495</td>\n",
       "    </tr>\n",
       "    <tr>\n",
       "      <th>kurtosis</th>\n",
       "      <td>-0.658575</td>\n",
       "      <td>-0.07547</td>\n",
       "    </tr>\n",
       "  </tbody>\n",
       "</table>\n",
       "</div>"
      ],
      "text/plain": [
       "          votes_transformed  avg_cost_transformed\n",
       "skew               0.253744               0.18495\n",
       "kurtosis          -0.658575              -0.07547"
      ]
     },
     "execution_count": 80,
     "metadata": {},
     "output_type": "execute_result"
    }
   ],
   "source": [
    "df_clean[['votes_transformed',\"avg_cost_transformed\"]].agg(['skew', 'kurtosis'])"
   ]
  },
  {
   "cell_type": "markdown",
   "id": "402d7044",
   "metadata": {},
   "source": [
    "> Much better than previously, now these values are in acceptable range."
   ]
  },
  {
   "cell_type": "code",
   "execution_count": 81,
   "id": "3744c15b",
   "metadata": {},
   "outputs": [],
   "source": [
    "## removig and changing the names of transformed column. \n",
    "df_clean.drop(columns=['votes','avg_cost'], inplace=True)\n",
    "df_clean.rename(columns={\"votes_transformed\":\"votes\",\"avg_cost_transformed\":\"avg_cost\"}, inplace=True)"
   ]
  },
  {
   "cell_type": "markdown",
   "id": "14e65fdd",
   "metadata": {},
   "source": [
    "# No. of restaurants vs location"
   ]
  },
  {
   "cell_type": "code",
   "execution_count": 116,
   "id": "42d02138",
   "metadata": {},
   "outputs": [
    {
     "data": {
      "text/html": [
       "<div>\n",
       "<style scoped>\n",
       "    .dataframe tbody tr th:only-of-type {\n",
       "        vertical-align: middle;\n",
       "    }\n",
       "\n",
       "    .dataframe tbody tr th {\n",
       "        vertical-align: top;\n",
       "    }\n",
       "\n",
       "    .dataframe thead th {\n",
       "        text-align: right;\n",
       "    }\n",
       "</style>\n",
       "<table border=\"1\" class=\"dataframe\">\n",
       "  <thead>\n",
       "    <tr style=\"text-align: right;\">\n",
       "      <th></th>\n",
       "      <th>index</th>\n",
       "      <th>total_restaurants</th>\n",
       "    </tr>\n",
       "  </thead>\n",
       "  <tbody>\n",
       "    <tr>\n",
       "      <th>0</th>\n",
       "      <td>BTM</td>\n",
       "      <td>3905</td>\n",
       "    </tr>\n",
       "    <tr>\n",
       "      <th>1</th>\n",
       "      <td>Koramangala 5th Block</td>\n",
       "      <td>2297</td>\n",
       "    </tr>\n",
       "    <tr>\n",
       "      <th>2</th>\n",
       "      <td>HSR</td>\n",
       "      <td>2004</td>\n",
       "    </tr>\n",
       "    <tr>\n",
       "      <th>3</th>\n",
       "      <td>Indiranagar</td>\n",
       "      <td>1803</td>\n",
       "    </tr>\n",
       "    <tr>\n",
       "      <th>4</th>\n",
       "      <td>JP Nagar</td>\n",
       "      <td>1708</td>\n",
       "    </tr>\n",
       "  </tbody>\n",
       "</table>\n",
       "</div>"
      ],
      "text/plain": [
       "                   index  total_restaurants\n",
       "0                    BTM               3905\n",
       "1  Koramangala 5th Block               2297\n",
       "2                    HSR               2004\n",
       "3            Indiranagar               1803\n",
       "4               JP Nagar               1708"
      ]
     },
     "execution_count": 116,
     "metadata": {},
     "output_type": "execute_result"
    }
   ],
   "source": [
    "df = df_clean['location'].value_counts()\n",
    "df = pd.DataFrame(df)\n",
    "df.rename(columns={'location':'index', 'location':'total_restaurants'}, inplace=True)\n",
    "df.reset_index(inplace=True)\n",
    "df.head()"
   ]
  },
  {
   "cell_type": "code",
   "execution_count": 118,
   "id": "f702653a",
   "metadata": {},
   "outputs": [],
   "source": [
    "## Top 30 retaurants hub\n",
    "df_trimed = df.head(30)"
   ]
  },
  {
   "cell_type": "code",
   "execution_count": 122,
   "id": "10c9a038",
   "metadata": {},
   "outputs": [
    {
     "data": {
      "image/png": "[encoded data removed]",
      "text/plain": [
       "<Figure size 1600x800 with 1 Axes>"
      ]
     },
     "metadata": {},
     "output_type": "display_data"
    }
   ],
   "source": [
    "plt.figure(figsize=(16,8))\n",
    "sns.barplot(data=df_trimed, x=df_trimed['index'], y=df_trimed['total_restaurants'] )\n",
    "plt.xticks(rotation=90)\n",
    "plt.xlabel(\"Location\",fontdict=Lfont)\n",
    "plt.ylabel(\"Total Restaurant\",fontdict=Lfont)\n",
    "plt.title(\"No. of restauarant per location\", fontdict=Tfont)\n",
    "plt.savefig(\"Plot_images\\\\No_of_restauarant_per_location.jpg\", dpi=120)"
   ]
  },
  {
   "cell_type": "markdown",
   "id": "f5cf0d6d",
   "metadata": {},
   "source": [
    "> __BTM__ location in Bangalore has the highest numbers of restaurant."
   ]
  },
  {
   "cell_type": "code",
   "execution_count": null,
   "id": "ba53f5b6",
   "metadata": {},
   "outputs": [],
   "source": []
  },
  {
   "cell_type": "markdown",
   "id": "1dce2f88",
   "metadata": {},
   "source": [
    "# Type of retaurant vs Rate"
   ]
  },
  {
   "cell_type": "code",
   "execution_count": 123,
   "id": "f1a5037f",
   "metadata": {},
   "outputs": [
    {
     "data": {
      "image/png": "[encoded data removed]",
      "text/plain": [
       "<Figure size 1600x800 with 1 Axes>"
      ]
     },
     "metadata": {},
     "output_type": "display_data"
    }
   ],
   "source": [
    "plt.figure(figsize=(16,8))\n",
    "sns.boxplot(x='type', y='rate', data=df_clean, palette='inferno')\n",
    "plt.title(\"Rating as per Type of restaurants\", fontdict=Tfont)\n",
    "plt.savefig(\"Plot_images\\\\rating_vs_typeofRestaurant.jpg\",dpi=120)"
   ]
  },
  {
   "cell_type": "markdown",
   "id": "708c5c1c",
   "metadata": {},
   "source": [
    "> People are enjoying more __Drinks & Nightlife__ and __Pubs & bars__ type of restaurants more."
   ]
  },
  {
   "cell_type": "code",
   "execution_count": null,
   "id": "621d7e06",
   "metadata": {},
   "outputs": [],
   "source": []
  },
  {
   "cell_type": "markdown",
   "id": "49b510ea",
   "metadata": {},
   "source": [
    "# Top cuisines in Banglore"
   ]
  },
  {
   "cell_type": "code",
   "execution_count": 124,
   "id": "79e51925",
   "metadata": {},
   "outputs": [],
   "source": [
    "df1=df_clean[['votes', \"cuisines\"]]\n",
    "df1.drop_duplicates()\n",
    "df2=df1.groupby(['cuisines'])['votes'].sum()\n",
    "df2 = df2.to_frame()\n",
    "df2 = df2.sort_values('votes', ascending=False)\n",
    "\n",
    "df2.reset_index(inplace=True)\n",
    "df2.drop(df2['votes'][df2['votes']<1000].index, inplace=True)\n"
   ]
  },
  {
   "cell_type": "code",
   "execution_count": 125,
   "id": "9ed40f68",
   "metadata": {},
   "outputs": [
    {
     "data": {
      "text/html": [
       "<div>\n",
       "<style scoped>\n",
       "    .dataframe tbody tr th:only-of-type {\n",
       "        vertical-align: middle;\n",
       "    }\n",
       "\n",
       "    .dataframe tbody tr th {\n",
       "        vertical-align: top;\n",
       "    }\n",
       "\n",
       "    .dataframe thead th {\n",
       "        text-align: right;\n",
       "    }\n",
       "</style>\n",
       "<table border=\"1\" class=\"dataframe\">\n",
       "  <thead>\n",
       "    <tr style=\"text-align: right;\">\n",
       "      <th></th>\n",
       "      <th>cuisines</th>\n",
       "      <th>votes</th>\n",
       "    </tr>\n",
       "  </thead>\n",
       "  <tbody>\n",
       "    <tr>\n",
       "      <th>0</th>\n",
       "      <td>North Indian</td>\n",
       "      <td>8944.001541</td>\n",
       "    </tr>\n",
       "    <tr>\n",
       "      <th>1</th>\n",
       "      <td>North Indian, Chinese</td>\n",
       "      <td>7589.868691</td>\n",
       "    </tr>\n",
       "    <tr>\n",
       "      <th>2</th>\n",
       "      <td>South Indian</td>\n",
       "      <td>4248.822088</td>\n",
       "    </tr>\n",
       "    <tr>\n",
       "      <th>3</th>\n",
       "      <td>Cafe</td>\n",
       "      <td>2342.855472</td>\n",
       "    </tr>\n",
       "    <tr>\n",
       "      <th>4</th>\n",
       "      <td>Bakery, Desserts</td>\n",
       "      <td>2118.917218</td>\n",
       "    </tr>\n",
       "  </tbody>\n",
       "</table>\n",
       "</div>"
      ],
      "text/plain": [
       "                cuisines        votes\n",
       "0           North Indian  8944.001541\n",
       "1  North Indian, Chinese  7589.868691\n",
       "2           South Indian  4248.822088\n",
       "3                   Cafe  2342.855472\n",
       "4       Bakery, Desserts  2118.917218"
      ]
     },
     "execution_count": 125,
     "metadata": {},
     "output_type": "execute_result"
    }
   ],
   "source": [
    "df2.head()"
   ]
  },
  {
   "cell_type": "code",
   "execution_count": 127,
   "id": "93ecc5b6",
   "metadata": {},
   "outputs": [
    {
     "data": {
      "image/png": "[encoded data removed]",
      "text/plain": [
       "<Figure size 2000x1000 with 1 Axes>"
      ]
     },
     "metadata": {},
     "output_type": "display_data"
    },
    {
     "data": {
      "text/plain": [
       "<Figure size 640x480 with 0 Axes>"
      ]
     },
     "metadata": {},
     "output_type": "display_data"
    }
   ],
   "source": [
    "plt.figure(figsize=(20,10))\n",
    "sns.barplot(y=df2.cuisines, x=df2['votes'], orient='h')\n",
    "plt.title(\"Most Voted Cuisines\", fontdict=Tfont)\n",
    "plt.xticks(rotation=90)\n",
    "plt.show()\n",
    "plt.savefig(\"Plot_images\\\\top10cuisines.jpg\",dpi=120)"
   ]
  },
  {
   "cell_type": "code",
   "execution_count": null,
   "id": "3e05b86f",
   "metadata": {},
   "outputs": [],
   "source": []
  },
  {
   "cell_type": "markdown",
   "id": "4ab97104",
   "metadata": {},
   "source": [
    "## Analyzing online_order and book_table VS rate columns"
   ]
  },
  {
   "cell_type": "code",
   "execution_count": 136,
   "id": "08b1706c",
   "metadata": {},
   "outputs": [],
   "source": [
    "def plotfig(inData, colToPlot ):\n",
    "    \n",
    "    import matplotlib.pyplot as plt\n",
    "    %matplotlib inline\n",
    "    #plt.style.use('seaborn-white')\n",
    "    \n",
    "    fig, subPlot= plt.subplots(nrows=1, ncols=len(colToPlot), figsize=(10,6))\n",
    "    fig.suptitle('countplots of : ' + str(colToPlot), fontdict=Tfont )\n",
    "    \n",
    "    for colName, plotNO in zip(colToPlot, range(len(colToPlot))):\n",
    "        inData.groupby(colName).size().plot(kind=\"bar\", ax=subPlot[plotNO])"
   ]
  },
  {
   "cell_type": "code",
   "execution_count": 137,
   "id": "2be4f75e",
   "metadata": {},
   "outputs": [
    {
     "data": {
      "image/png": "[encoded data removed]",
      "text/plain": [
       "<Figure size 1000x600 with 2 Axes>"
      ]
     },
     "metadata": {},
     "output_type": "display_data"
    }
   ],
   "source": [
    "plotfig(inData=data, colToPlot=['online_order', 'book_table'])"
   ]
  },
  {
   "cell_type": "code",
   "execution_count": null,
   "id": "37fc4ad5",
   "metadata": {},
   "outputs": [],
   "source": []
  },
  {
   "cell_type": "markdown",
   "id": "4b5e2ded",
   "metadata": {},
   "source": [
    "### Boxplot to see relationship of online_order and book_table with rate"
   ]
  },
  {
   "cell_type": "code",
   "execution_count": 140,
   "id": "3a848945",
   "metadata": {},
   "outputs": [],
   "source": [
    "from turtle import color\n",
    "\n",
    "\n",
    "colToPlot=['online_order', 'book_table']\n",
    "\n",
    "def plotBox(inData, colToPlot ):\n",
    "    \n",
    "    #import matplotlib.pyplot as plt\n",
    "    #%matplotlib inline\n",
    "    #plt.style.use('seaborn-white')\n",
    "    \n",
    "    fig, subPlot= plt.subplots(nrows=1, ncols=len(colToPlot), figsize=(10,6))\n",
    "    fig.suptitle('Boxplots of : ' + str(colToPlot) )\n",
    "    \n",
    "    for colName, plotNO in zip(colToPlot, range(len(colToPlot))):\n",
    "        inData.boxplot(column='rate',by=colName , ax=subPlot[plotNO], color='red' )"
   ]
  },
  {
   "cell_type": "code",
   "execution_count": 141,
   "id": "976527a5",
   "metadata": {},
   "outputs": [
    {
     "data": {
      "image/png": "[encoded data removed]",
      "text/plain": [
       "<Figure size 1000x600 with 2 Axes>"
      ]
     },
     "metadata": {},
     "output_type": "display_data"
    }
   ],
   "source": [
    "plotBox(inData=df_clean, colToPlot=['online_order', 'book_table'])"
   ]
  },
  {
   "cell_type": "markdown",
   "id": "448f8458",
   "metadata": {},
   "source": [
    "> From above visualization its clear both are correlated with rate but book_table shows more room for learning our model."
   ]
  },
  {
   "cell_type": "code",
   "execution_count": 142,
   "id": "b28dfdf5",
   "metadata": {},
   "outputs": [],
   "source": [
    "## Keeping model requirement only feature rest droping them off\n",
    "## Separating traing and testing data\n",
    "## taking all data with rate=NEW as testData and remaining as trainData\n",
    "\n",
    "df_numeric = data.drop(columns=['name', 'location', 'dish_liked', 'cuisines','type'])\n",
    "trainData= df_numeric[df_numeric['rate'] != \"NEW\"]\n",
    "testData= df_numeric[df_numeric['rate'] == \"NEW\"]  ## Use for batch prediction"
   ]
  },
  {
   "cell_type": "code",
   "execution_count": 143,
   "id": "a6f49994",
   "metadata": {},
   "outputs": [],
   "source": [
    "trainData.reset_index(drop=True, inplace=True)\n",
    "testData.reset_index(drop=True, inplace=True)"
   ]
  },
  {
   "cell_type": "code",
   "execution_count": 144,
   "id": "63a6c64e",
   "metadata": {},
   "outputs": [],
   "source": [
    "trainData.rate = trainData.rate.astype(float)"
   ]
  },
  {
   "cell_type": "code",
   "execution_count": 145,
   "id": "adb495f2",
   "metadata": {},
   "outputs": [
    {
     "name": "stdout",
     "output_type": "stream",
     "text": [
      "(41418, 7)\n",
      "(9953, 7)\n"
     ]
    }
   ],
   "source": [
    "## checking shape of train and test data\n",
    "print(trainData.shape)\n",
    "print(testData.shape)"
   ]
  },
  {
   "cell_type": "code",
   "execution_count": 146,
   "id": "c6c07706",
   "metadata": {},
   "outputs": [
    {
     "name": "stdout",
     "output_type": "stream",
     "text": [
      "<class 'pandas.core.frame.DataFrame'>\n",
      "RangeIndex: 41418 entries, 0 to 41417\n",
      "Data columns (total 7 columns):\n",
      " #   Column          Non-Null Count  Dtype  \n",
      "---  ------          --------------  -----  \n",
      " 0   online_order    41418 non-null  object \n",
      " 1   book_table      41418 non-null  object \n",
      " 2   rate            41418 non-null  float64\n",
      " 3   votes           41418 non-null  int64  \n",
      " 4   avg_cost        41418 non-null  int32  \n",
      " 5   Count_cuisines  41418 non-null  int64  \n",
      " 6   Count_dishes    41418 non-null  int64  \n",
      "dtypes: float64(1), int32(1), int64(3), object(2)\n",
      "memory usage: 2.1+ MB\n"
     ]
    }
   ],
   "source": [
    "trainData.info()"
   ]
  },
  {
   "cell_type": "code",
   "execution_count": 147,
   "id": "94fbba81",
   "metadata": {},
   "outputs": [
    {
     "name": "stdout",
     "output_type": "stream",
     "text": [
      "<class 'pandas.core.frame.DataFrame'>\n",
      "RangeIndex: 9953 entries, 0 to 9952\n",
      "Data columns (total 7 columns):\n",
      " #   Column          Non-Null Count  Dtype \n",
      "---  ------          --------------  ----- \n",
      " 0   online_order    9953 non-null   object\n",
      " 1   book_table      9953 non-null   object\n",
      " 2   rate            9953 non-null   object\n",
      " 3   votes           9953 non-null   int64 \n",
      " 4   avg_cost        9953 non-null   int32 \n",
      " 5   Count_cuisines  9953 non-null   int64 \n",
      " 6   Count_dishes    9953 non-null   int64 \n",
      "dtypes: int32(1), int64(3), object(3)\n",
      "memory usage: 505.6+ KB\n"
     ]
    }
   ],
   "source": [
    "testData.info()"
   ]
  },
  {
   "cell_type": "markdown",
   "id": "6f33ab41",
   "metadata": {},
   "source": [
    "# Converting binary categorical into numeric using mapping"
   ]
  },
  {
   "cell_type": "code",
   "execution_count": 148,
   "id": "e437af38",
   "metadata": {},
   "outputs": [],
   "source": [
    "## Converting Online order and book table categorical to numeric \n",
    "trainData['online_order']=trainData['online_order'].map({\"Yes\":1, \"No\":0})\n",
    "trainData['book_table']=trainData['book_table'].map({\"Yes\":1, \"No\":0})"
   ]
  },
  {
   "cell_type": "code",
   "execution_count": 149,
   "id": "6d29e75c",
   "metadata": {},
   "outputs": [],
   "source": [
    "## Separating Target and predictor variables\n",
    "target_var='rate'\n",
    "predictor_var=['online_order', 'book_table', 'votes', 'avg_cost', 'Count_cuisines', 'Count_dishes']\n",
    "\n",
    "X = trainData[predictor_var]\n",
    "y = trainData[target_var]"
   ]
  },
  {
   "cell_type": "code",
   "execution_count": null,
   "id": "3f2477ab",
   "metadata": {},
   "outputs": [],
   "source": []
  },
  {
   "cell_type": "markdown",
   "id": "7f41fb29",
   "metadata": {},
   "source": [
    "## Correlation "
   ]
  },
  {
   "cell_type": "code",
   "execution_count": 150,
   "id": "0fdb3f7d",
   "metadata": {},
   "outputs": [
    {
     "data": {
      "text/html": [
       "<div>\n",
       "<style scoped>\n",
       "    .dataframe tbody tr th:only-of-type {\n",
       "        vertical-align: middle;\n",
       "    }\n",
       "\n",
       "    .dataframe tbody tr th {\n",
       "        vertical-align: top;\n",
       "    }\n",
       "\n",
       "    .dataframe thead th {\n",
       "        text-align: right;\n",
       "    }\n",
       "</style>\n",
       "<table border=\"1\" class=\"dataframe\">\n",
       "  <thead>\n",
       "    <tr style=\"text-align: right;\">\n",
       "      <th></th>\n",
       "      <th>online_order</th>\n",
       "      <th>book_table</th>\n",
       "      <th>rate</th>\n",
       "      <th>votes</th>\n",
       "      <th>avg_cost</th>\n",
       "      <th>Count_cuisines</th>\n",
       "      <th>Count_dishes</th>\n",
       "    </tr>\n",
       "  </thead>\n",
       "  <tbody>\n",
       "    <tr>\n",
       "      <th>online_order</th>\n",
       "      <td>1.000000</td>\n",
       "      <td>-0.054771</td>\n",
       "      <td>0.069354</td>\n",
       "      <td>-0.008122</td>\n",
       "      <td>-0.174406</td>\n",
       "      <td>0.071342</td>\n",
       "      <td>0.095175</td>\n",
       "    </tr>\n",
       "    <tr>\n",
       "      <th>book_table</th>\n",
       "      <td>-0.054771</td>\n",
       "      <td>1.000000</td>\n",
       "      <td>0.426095</td>\n",
       "      <td>0.425310</td>\n",
       "      <td>0.621367</td>\n",
       "      <td>0.251275</td>\n",
       "      <td>0.436639</td>\n",
       "    </tr>\n",
       "    <tr>\n",
       "      <th>rate</th>\n",
       "      <td>0.069354</td>\n",
       "      <td>0.426095</td>\n",
       "      <td>1.000000</td>\n",
       "      <td>0.461115</td>\n",
       "      <td>0.390033</td>\n",
       "      <td>0.206417</td>\n",
       "      <td>0.604097</td>\n",
       "    </tr>\n",
       "    <tr>\n",
       "      <th>votes</th>\n",
       "      <td>-0.008122</td>\n",
       "      <td>0.425310</td>\n",
       "      <td>0.461115</td>\n",
       "      <td>1.000000</td>\n",
       "      <td>0.403590</td>\n",
       "      <td>0.239637</td>\n",
       "      <td>0.466736</td>\n",
       "    </tr>\n",
       "    <tr>\n",
       "      <th>avg_cost</th>\n",
       "      <td>-0.174406</td>\n",
       "      <td>0.621367</td>\n",
       "      <td>0.390033</td>\n",
       "      <td>0.403590</td>\n",
       "      <td>1.000000</td>\n",
       "      <td>0.249628</td>\n",
       "      <td>0.435821</td>\n",
       "    </tr>\n",
       "    <tr>\n",
       "      <th>Count_cuisines</th>\n",
       "      <td>0.071342</td>\n",
       "      <td>0.251275</td>\n",
       "      <td>0.206417</td>\n",
       "      <td>0.239637</td>\n",
       "      <td>0.249628</td>\n",
       "      <td>1.000000</td>\n",
       "      <td>0.304653</td>\n",
       "    </tr>\n",
       "    <tr>\n",
       "      <th>Count_dishes</th>\n",
       "      <td>0.095175</td>\n",
       "      <td>0.436639</td>\n",
       "      <td>0.604097</td>\n",
       "      <td>0.466736</td>\n",
       "      <td>0.435821</td>\n",
       "      <td>0.304653</td>\n",
       "      <td>1.000000</td>\n",
       "    </tr>\n",
       "  </tbody>\n",
       "</table>\n",
       "</div>"
      ],
      "text/plain": [
       "                online_order  book_table      rate     votes  avg_cost  \\\n",
       "online_order        1.000000   -0.054771  0.069354 -0.008122 -0.174406   \n",
       "book_table         -0.054771    1.000000  0.426095  0.425310  0.621367   \n",
       "rate                0.069354    0.426095  1.000000  0.461115  0.390033   \n",
       "votes              -0.008122    0.425310  0.461115  1.000000  0.403590   \n",
       "avg_cost           -0.174406    0.621367  0.390033  0.403590  1.000000   \n",
       "Count_cuisines      0.071342    0.251275  0.206417  0.239637  0.249628   \n",
       "Count_dishes        0.095175    0.436639  0.604097  0.466736  0.435821   \n",
       "\n",
       "                Count_cuisines  Count_dishes  \n",
       "online_order          0.071342      0.095175  \n",
       "book_table            0.251275      0.436639  \n",
       "rate                  0.206417      0.604097  \n",
       "votes                 0.239637      0.466736  \n",
       "avg_cost              0.249628      0.435821  \n",
       "Count_cuisines        1.000000      0.304653  \n",
       "Count_dishes          0.304653      1.000000  "
      ]
     },
     "execution_count": 150,
     "metadata": {},
     "output_type": "execute_result"
    }
   ],
   "source": [
    "df_cor = trainData.corr()\n",
    "df_cor"
   ]
  },
  {
   "cell_type": "code",
   "execution_count": 152,
   "id": "7519ef53",
   "metadata": {},
   "outputs": [
    {
     "data": {
      "image/png": "[encoded data removed]",
      "text/plain": [
       "<Figure size 1600x800 with 2 Axes>"
      ]
     },
     "metadata": {},
     "output_type": "display_data"
    }
   ],
   "source": [
    "plt.figure(figsize=(16,8))\n",
    "sns.heatmap(data=df_cor, annot=True, cmap='coolwarm', linewidths=0.3)\n",
    "plt.savefig(\"Plot_images\\\\correlation_Heatmap.jpg\", dpi=120)"
   ]
  },
  {
   "cell_type": "markdown",
   "id": "300b8cec",
   "metadata": {},
   "source": [
    "#### __Note:__\n",
    "> Here we get that highly correlated features among selected features are __votes, count_dishes, online_order, and book_table"
   ]
  },
  {
   "cell_type": "markdown",
   "id": "b34aef4c",
   "metadata": {},
   "source": [
    "# __DATA PREPARATION FOR MODEL__"
   ]
  },
  {
   "cell_type": "markdown",
   "id": "40c20617",
   "metadata": {},
   "source": [
    "## Data Scaling"
   ]
  },
  {
   "cell_type": "code",
   "execution_count": 153,
   "id": "f057a97f",
   "metadata": {},
   "outputs": [],
   "source": [
    "from sklearn.preprocessing import StandardScaler, MinMaxScaler\n",
    "scaler=StandardScaler()\n",
    "#minmax=MinMaxScaler()\n",
    "#X_mmscaled = minmax.fit_transform(X)   ## giving less accuracy\n",
    "X_scaled=scaler.fit_transform(X)"
   ]
  },
  {
   "cell_type": "markdown",
   "id": "12b6c42c",
   "metadata": {},
   "source": [
    "## Train-Test split"
   ]
  },
  {
   "cell_type": "code",
   "execution_count": 154,
   "id": "ddf1688c",
   "metadata": {},
   "outputs": [
    {
     "name": "stdout",
     "output_type": "stream",
     "text": [
      "(27750, 6)\n",
      "(13668, 6)\n",
      "(27750,)\n",
      "(13668,)\n"
     ]
    }
   ],
   "source": [
    "## splitting trainData into train and test data:\n",
    "from sklearn.model_selection import train_test_split\n",
    "X_train, X_test, y_train, y_test = train_test_split(X_scaled, y, test_size=0.33, random_state=42)\n",
    "\n",
    "## checking the shape\n",
    "print(X_train.shape)\n",
    "print(X_test.shape)\n",
    "print(y_train.shape)\n",
    "print(y_test.shape)"
   ]
  },
  {
   "cell_type": "markdown",
   "id": "9cf2e875",
   "metadata": {},
   "source": [
    "# __Model Training__"
   ]
  },
  {
   "cell_type": "markdown",
   "id": "dc26dbd2",
   "metadata": {},
   "source": [
    "# Model Buiding"
   ]
  },
  {
   "cell_type": "code",
   "execution_count": 155,
   "id": "504587fc",
   "metadata": {},
   "outputs": [],
   "source": [
    "## Libraries related to algorithm\n",
    "from sklearn.linear_model import LinearRegression\n",
    "from sklearn.neighbors import KNeighborsRegressor\n",
    "from sklearn.tree import DecisionTreeRegressor\n",
    "from sklearn.ensemble import RandomForestRegressor\n",
    "from sklearn.ensemble import AdaBoostRegressor\n",
    "from sklearn.ensemble import GradientBoostingRegressor\n",
    "from sklearn.ensemble import ExtraTreesRegressor\n",
    "from sklearn.svm import SVR\n",
    "\n",
    "## Libraries related to Metric\n",
    "from sklearn.metrics import r2_score\n",
    "from sklearn.metrics import mean_absolute_error\n",
    "from sklearn.metrics import mean_squared_error"
   ]
  },
  {
   "cell_type": "code",
   "execution_count": 156,
   "id": "8222ea62",
   "metadata": {},
   "outputs": [],
   "source": [
    "## Automating Model Training \n",
    "import time\n",
    "\n",
    "## creating empty dataframe for results of evaluation\n",
    "Model_Eval= pd.DataFrame()\n",
    "\n",
    "model_dict={\"Linear_Regression\":LinearRegression(), \n",
    "            \"K_Nearest_Neighbour\":KNeighborsRegressor(), \n",
    "            \"Decision_Tree\":DecisionTreeRegressor(),\n",
    "            \"Random_Forest\":RandomForestRegressor(), \n",
    "            \"AdaBoost\":AdaBoostRegressor(),\n",
    "            \"GradientBoost\":GradientBoostingRegressor(),\n",
    "            \"ExtraTrees\":ExtraTreesRegressor(),\n",
    "            \"SVRegressor\":SVR()\n",
    "            }\n",
    "\n",
    "for ModelName, ModelObject in model_dict.items():\n",
    "    model= ModelObject\n",
    "    t0=time.time()\n",
    "    model.fit(X_train,y_train)\n",
    "    trainingtime_fit=time.time()-t0\n",
    "    \n",
    "    \n",
    "    ## Evaluating Models\n",
    "    y_pred=model.predict(X_test)\n",
    "    \n",
    "    r2=r2_score(y_test, y_pred)  ## y_test = y_true\n",
    "    mse=mean_squared_error(y_test, y_pred)\n",
    "    mae=mean_absolute_error(y_test, y_pred)\n",
    "    \n",
    "    ## Appending results in dataframe\n",
    "    Model_Eval=Model_Eval.append({\"Model_Name\":ModelName, \"R2-score\":r2, \"MeanSquaredError\":mse, \"MeanAbsoluteError\":mae,\n",
    "                                 \"Traing_time\":trainingtime_fit},\n",
    "                                 ignore_index=True)\n",
    "    \n",
    "    ## Sorting Results by r2-score\n",
    "    Model_Eval.sort_values(by=[\"R2-score\"], ascending=False, inplace=True,)\n",
    "    Model_Eval.reset_index(drop=True, inplace=True)\n",
    "    \n",
    "    "
   ]
  },
  {
   "cell_type": "code",
   "execution_count": 157,
   "id": "274221a6",
   "metadata": {},
   "outputs": [
    {
     "data": {
      "text/html": [
       "<div>\n",
       "<style scoped>\n",
       "    .dataframe tbody tr th:only-of-type {\n",
       "        vertical-align: middle;\n",
       "    }\n",
       "\n",
       "    .dataframe tbody tr th {\n",
       "        vertical-align: top;\n",
       "    }\n",
       "\n",
       "    .dataframe thead th {\n",
       "        text-align: right;\n",
       "    }\n",
       "</style>\n",
       "<table border=\"1\" class=\"dataframe\">\n",
       "  <thead>\n",
       "    <tr style=\"text-align: right;\">\n",
       "      <th></th>\n",
       "      <th>MeanAbsoluteError</th>\n",
       "      <th>MeanSquaredError</th>\n",
       "      <th>Model_Name</th>\n",
       "      <th>R2-score</th>\n",
       "      <th>Traing_time</th>\n",
       "    </tr>\n",
       "  </thead>\n",
       "  <tbody>\n",
       "    <tr>\n",
       "      <th>0</th>\n",
       "      <td>0.079241</td>\n",
       "      <td>0.031833</td>\n",
       "      <td>ExtraTrees</td>\n",
       "      <td>0.838218</td>\n",
       "      <td>2.924407</td>\n",
       "    </tr>\n",
       "    <tr>\n",
       "      <th>1</th>\n",
       "      <td>0.099463</td>\n",
       "      <td>0.033923</td>\n",
       "      <td>Random_Forest</td>\n",
       "      <td>0.827597</td>\n",
       "      <td>5.864616</td>\n",
       "    </tr>\n",
       "    <tr>\n",
       "      <th>2</th>\n",
       "      <td>0.086260</td>\n",
       "      <td>0.040018</td>\n",
       "      <td>Decision_Tree</td>\n",
       "      <td>0.796618</td>\n",
       "      <td>0.167272</td>\n",
       "    </tr>\n",
       "    <tr>\n",
       "      <th>3</th>\n",
       "      <td>0.144349</td>\n",
       "      <td>0.059898</td>\n",
       "      <td>K_Nearest_Neighbour</td>\n",
       "      <td>0.695585</td>\n",
       "      <td>0.143989</td>\n",
       "    </tr>\n",
       "    <tr>\n",
       "      <th>4</th>\n",
       "      <td>0.228445</td>\n",
       "      <td>0.103145</td>\n",
       "      <td>GradientBoost</td>\n",
       "      <td>0.475795</td>\n",
       "      <td>2.174300</td>\n",
       "    </tr>\n",
       "    <tr>\n",
       "      <th>5</th>\n",
       "      <td>0.229838</td>\n",
       "      <td>0.111040</td>\n",
       "      <td>SVRegressor</td>\n",
       "      <td>0.435669</td>\n",
       "      <td>34.757931</td>\n",
       "    </tr>\n",
       "    <tr>\n",
       "      <th>6</th>\n",
       "      <td>0.249267</td>\n",
       "      <td>0.115071</td>\n",
       "      <td>Linear_Regression</td>\n",
       "      <td>0.415182</td>\n",
       "      <td>0.028721</td>\n",
       "    </tr>\n",
       "    <tr>\n",
       "      <th>7</th>\n",
       "      <td>0.305091</td>\n",
       "      <td>0.142410</td>\n",
       "      <td>AdaBoost</td>\n",
       "      <td>0.276240</td>\n",
       "      <td>1.381217</td>\n",
       "    </tr>\n",
       "  </tbody>\n",
       "</table>\n",
       "</div>"
      ],
      "text/plain": [
       "   MeanAbsoluteError  MeanSquaredError           Model_Name  R2-score  \\\n",
       "0           0.079241          0.031833           ExtraTrees  0.838218   \n",
       "1           0.099463          0.033923        Random_Forest  0.827597   \n",
       "2           0.086260          0.040018        Decision_Tree  0.796618   \n",
       "3           0.144349          0.059898  K_Nearest_Neighbour  0.695585   \n",
       "4           0.228445          0.103145        GradientBoost  0.475795   \n",
       "5           0.229838          0.111040          SVRegressor  0.435669   \n",
       "6           0.249267          0.115071    Linear_Regression  0.415182   \n",
       "7           0.305091          0.142410             AdaBoost  0.276240   \n",
       "\n",
       "   Traing_time  \n",
       "0     2.924407  \n",
       "1     5.864616  \n",
       "2     0.167272  \n",
       "3     0.143989  \n",
       "4     2.174300  \n",
       "5    34.757931  \n",
       "6     0.028721  \n",
       "7     1.381217  "
      ]
     },
     "execution_count": 157,
     "metadata": {},
     "output_type": "execute_result"
    }
   ],
   "source": [
    "Model_Eval"
   ]
  },
  {
   "cell_type": "markdown",
   "id": "32868b70",
   "metadata": {},
   "source": [
    "> Based on above result considering  __R2score__  and  __time taken__  for training,  __Decision_Tree__  algoritm is selected."
   ]
  },
  {
   "cell_type": "markdown",
   "id": "1f00f608",
   "metadata": {},
   "source": [
    "# Retraining the data with best model selected"
   ]
  },
  {
   "cell_type": "code",
   "execution_count": 158,
   "id": "2a2bd60c",
   "metadata": {},
   "outputs": [
    {
     "name": "stdout",
     "output_type": "stream",
     "text": [
      "{'max_depth': [70,\n",
      "               75,\n",
      "               81,\n",
      "               87,\n",
      "               92,\n",
      "               98,\n",
      "               104,\n",
      "               110,\n",
      "               115,\n",
      "               121,\n",
      "               127,\n",
      "               132,\n",
      "               138,\n",
      "               144,\n",
      "               150,\n",
      "               None],\n",
      " 'max_features': ['auto', 'sqrt'],\n",
      " 'min_samples_leaf': [1, 2, 4, 5],\n",
      " 'min_samples_split': [2, 5, 8, 10, 12]}\n"
     ]
    }
   ],
   "source": [
    "from sklearn.model_selection import RandomizedSearchCV\n",
    "import pprint as pp\n",
    "\n",
    "# Number of trees in ExtraTree Regressor\n",
    "#n_estimators = [int(x) for x in np.linspace(start = 100, stop = 1000, num = 10)]\n",
    "\n",
    "# Number of features to consider at every split\n",
    "max_features = ['auto', 'sqrt']\n",
    "\n",
    "# Maximum number of levels in tree\n",
    "max_depth = [int(x) for x in np.linspace(70, 150, num = 15)]\n",
    "max_depth.append(None)\n",
    "\n",
    "# Minimum number of samples required to split a node\n",
    "min_samples_split = [2, 5, 8, 10, 12]\n",
    "\n",
    "# Minimum number of samples required at each leaf node\n",
    "min_samples_leaf = [1, 2, 4, 5]\n",
    "\n",
    "# Create the random grid\n",
    "random_grid = { #'n_estimators':n_estimators,\n",
    "               'max_features': max_features,\n",
    "               'max_depth': max_depth,\n",
    "               'min_samples_split': min_samples_split,\n",
    "               'min_samples_leaf': min_samples_leaf\n",
    "              }\n",
    "pp.pprint(random_grid)             "
   ]
  },
  {
   "cell_type": "markdown",
   "id": "46f86cd7",
   "metadata": {},
   "source": [
    "# Training the model with best parameter selected"
   ]
  },
  {
   "cell_type": "code",
   "execution_count": 159,
   "id": "293a399f",
   "metadata": {},
   "outputs": [
    {
     "name": "stdout",
     "output_type": "stream",
     "text": [
      "Fitting 3 folds for each of 100 candidates, totalling 300 fits\n"
     ]
    },
    {
     "data": {
      "text/plain": [
       "{'min_samples_split': 2,\n",
       " 'min_samples_leaf': 1,\n",
       " 'max_features': 'sqrt',\n",
       " 'max_depth': 104}"
      ]
     },
     "execution_count": 159,
     "metadata": {},
     "output_type": "execute_result"
    }
   ],
   "source": [
    "dt = DecisionTreeRegressor()\n",
    "#et = ExtraTreesRegressor()\n",
    "# Random search of parameters, using 3 fold cross validation, \n",
    "# search across 100 different combinations, and use all available cores\n",
    "rf_random = RandomizedSearchCV(estimator = dt, param_distributions = random_grid, n_iter = 100,\n",
    "                               cv = 3, verbose=3, random_state=42, n_jobs = -1)\n",
    "# Fit the random search model\n",
    "rf_random.fit(X_train, y_train)\n",
    "\n",
    "# Best parameters\n",
    "rf_random.best_params_\n"
   ]
  },
  {
   "cell_type": "code",
   "execution_count": null,
   "id": "311416bb",
   "metadata": {},
   "outputs": [],
   "source": []
  },
  {
   "cell_type": "markdown",
   "id": "08abbef2",
   "metadata": {},
   "source": [
    "# __Model Evaluation__"
   ]
  },
  {
   "cell_type": "markdown",
   "id": "d3abe883",
   "metadata": {},
   "source": [
    "## Evaluating DecisionTreeRegressor Model"
   ]
  },
  {
   "cell_type": "code",
   "execution_count": 161,
   "id": "133ead74",
   "metadata": {},
   "outputs": [
    {
     "name": "stdout",
     "output_type": "stream",
     "text": [
      " =================================== Evaluation of model ===================================\n",
      "\n",
      "\n",
      " #### Base model(without hyperparameter tuning) accuracy ####\n",
      "\n",
      "Model Performance\n",
      "Average Error: 0.0863 degrees.\n",
      "Accuracy = 97.48%.\n",
      "\n",
      " #### Base model(with hyperparameter tuning) accuracy ####\n",
      "\n",
      "Model Performance\n",
      "Average Error: 0.0843 degrees.\n",
      "Accuracy = 97.54%.\n",
      "\n",
      " #### Improvement of 0.06%. ####\n",
      "\n",
      "\n",
      "#### Printing sample prediction values ####\n",
      "   rate  Predicted_rate\n",
      "0   3.5             3.0\n",
      "1   4.2             4.0\n",
      "2   4.1             4.0\n",
      "3   3.6             4.0\n",
      "4   4.0             4.0\n",
      "5   4.0             4.0\n",
      "6   4.2             4.0\n",
      "7   4.5             4.0\n",
      "8   3.1             3.0\n",
      "9   3.3             3.0\n"
     ]
    }
   ],
   "source": [
    "## Fuction to calculate Accuracy\n",
    "def evaluate(model, test_features, test_labels):\n",
    "    predictions = model.predict(test_features)\n",
    "    errors = abs(predictions - test_labels)\n",
    "    mape = 100 * np.mean(errors / test_labels)  # Mean Absolute Percentage Error\n",
    "    accuracy = 100 - mape\n",
    "    print('Model Performance')\n",
    "    #print('Average Error: {:0.4f} degrees.'.format(np.mean(errors)))\n",
    "    print(f'Average Error: {np.round(np.mean(errors), 4)} degrees.')\n",
    "    print('Accuracy = {:0.2f}%.'.format(accuracy))\n",
    "    \n",
    "    return accuracy\n",
    "\n",
    "\n",
    "print(f\" {'='*35} Evaluation of model {'='*35}\\n\")\n",
    "\n",
    "print('\\n #### Base model(without hyperparameter tuning) accuracy ####\\n')\n",
    "base_model = DecisionTreeRegressor(random_state = 42)\n",
    "base_model.fit(X_train, y_train)\n",
    "base_accuracy = evaluate(base_model, X_test, y_test)\n",
    "\n",
    "print('\\n #### Base model(with hyperparameter tuning) accuracy ####\\n')\n",
    "best_tree = rf_random.best_estimator_\n",
    "pred_DT = best_tree.predict(X_test)\n",
    "random_accuracy = evaluate(best_tree, X_test, y_test)\n",
    "\n",
    "## Calculation of Improvement of model due to hyperparameter tuning\n",
    "print('\\n #### Improvement of {:0.2f}%. ####\\n\\n'.format( 100 * (random_accuracy - base_accuracy) / base_accuracy))\n",
    "\n",
    "\n",
    "\n",
    "##### Printing some sample values of prediction #####\n",
    "\n",
    "## creating dataframe of test result\n",
    "TestingDataResults=pd.DataFrame(data=X_test, columns=predictor_var)\n",
    "TestingDataResults.reset_index(drop=True, inplace=True)\n",
    "\n",
    "rating=pd.DataFrame(data=y_test)\n",
    "rating.reset_index(drop=True, inplace=True)\n",
    "\n",
    "TestingDataResults[target_var]=rating\n",
    "TestingDataResults.reset_index()\n",
    "\n",
    "TestingDataResults[('Predicted_'+target_var)]=np.round(pred_DT)\n",
    "\n",
    "print('#### Printing sample prediction values ####')\n",
    "print(TestingDataResults[[target_var,'Predicted_'+target_var]].head(10))\n",
    "\n"
   ]
  },
  {
   "cell_type": "markdown",
   "id": "64e2a61e",
   "metadata": {},
   "source": [
    "## Plotting Feature Importance"
   ]
  },
  {
   "cell_type": "code",
   "execution_count": 162,
   "id": "00363cc9",
   "metadata": {},
   "outputs": [
    {
     "data": {
      "image/png": "[encoded data removed]",
      "text/plain": [
       "<Figure size 1000x800 with 1 Axes>"
      ]
     },
     "metadata": {},
     "output_type": "display_data"
    },
    {
     "data": {
      "text/plain": [
       "<Figure size 640x480 with 0 Axes>"
      ]
     },
     "metadata": {},
     "output_type": "display_data"
    }
   ],
   "source": [
    "# let's create a dictionary of features and their importance values\n",
    "feat_dict= {}\n",
    "for col, val in sorted(zip(predictor_var, best_tree.feature_importances_),key=lambda x:x[1],reverse=True):\n",
    "  feat_dict[col]=val\n",
    "    \n",
    "    \n",
    "## converting into Dataframe\n",
    "feat_df = pd.DataFrame({'Feature':feat_dict.keys(),'Importance':feat_dict.values()})\n",
    "\n",
    "\n",
    "values = feat_df.Importance    \n",
    "idx = feat_df.Feature\n",
    "plt.figure(figsize=(10,8))\n",
    "clrs = ['green' if (x < max(values)) else 'red' for x in values ]\n",
    "sns.barplot(y=idx,x=values,palette=clrs).set(title='Important features to predict rating of restaurant')\n",
    "plt.show()\n",
    "plt.savefig(\"Plot_images\\\\Features_importance.jpg\",dpi=120)"
   ]
  },
  {
   "cell_type": "markdown",
   "id": "1aebae5b",
   "metadata": {},
   "source": [
    "## Saving best model"
   ]
  },
  {
   "cell_type": "code",
   "execution_count": 163,
   "id": "a21f6faf",
   "metadata": {},
   "outputs": [],
   "source": [
    "## Serializing the model\n",
    "import pickle\n",
    "\n",
    "## file to store model\n",
    "file = open('DecisionTree_model.pkl', 'wb')\n",
    "\n",
    "## dumping information to the file\n",
    "pickle.dump(best_tree, file)\n",
    "file.close()"
   ]
  },
  {
   "cell_type": "code",
   "execution_count": 164,
   "id": "312752ea",
   "metadata": {},
   "outputs": [
    {
     "name": "stdout",
     "output_type": "stream",
     "text": [
      "*******************************************************************************************************************************\n",
      "\n",
      "-------------------------------------------------------------E N D-------------------------------------------------------------\n",
      "\n",
      "*******************************************************************************************************************************\n"
     ]
    }
   ],
   "source": [
    "## End of project\n",
    "print(f\"{'*'*127}\\n\")\n",
    "print(f\"{'-'*61}E N D{'-'*61}\\n\")\n",
    "print(f\"{'*'*127}\")"
   ]
  },
  {
   "cell_type": "code",
   "execution_count": null,
   "id": "fe16501f",
   "metadata": {},
   "outputs": [],
   "source": []
  },
  {
   "cell_type": "markdown",
   "id": "8a2574ff",
   "metadata": {},
   "source": [
    "# Extra - Trying out different scenario"
   ]
  },
  {
   "cell_type": "markdown",
   "id": "dd23d042",
   "metadata": {},
   "source": [
    "### ExtraTreeregressor\n",
    "#### These are best param using RandomizedSearchCV\n",
    "'n_estimators': 400,\n",
    " 'min_samples_split': 2,\n",
    " 'min_samples_leaf': 1,\n",
    " 'max_features': 'sqrt',\n",
    " 'max_depth': None}\n",
    "    \n",
    "### result of evaluation\n",
    "\n",
    " =================================== Evaluation of model ===================================\n",
    "\n",
    "\n",
    " #### Base model(without hyperparameter tuning) accuracy ####\n",
    "\n",
    "Model Performance\n",
    "Average Error: 0.0863 degrees.\n",
    "Accuracy = 97.48%.\n",
    "\n",
    " #### Base model(with hyperparameter tuning) accuracy ####\n",
    "\n",
    "Model Performance\n",
    "Average Error: 0.0789 degrees.\n",
    "Accuracy = 97.68%.\n",
    "\n",
    " #### Improvement of 0.21%. ####\n",
    "\n",
    "\n",
    "     \n",
    "Index |Rate |Predicted_rate\n",
    " -----|-----|----- \n",
    "0   |3.5   | 3.0\n",
    "1   |4.2   | 4.0\n",
    "2   |4.1   | 4.0\n",
    "3   |3.6   | 4.0\n",
    "4   |4.0   | 4.0\n",
    "5   |4.0   | 4.0\n",
    "6   |4.2   | 4.0\n",
    "7   |4.5   | 4.0\n",
    "8   |3.1   | 3.0\n",
    "9   |3.3   | 3.0"
   ]
  },
  {
   "cell_type": "markdown",
   "id": "4c8ead17",
   "metadata": {},
   "source": [
    "> Not considering ExtraTreeRegressor because it takes too much time similar to RandomForestRegressor"
   ]
  },
  {
   "cell_type": "code",
   "execution_count": null,
   "id": "503b61a5",
   "metadata": {},
   "outputs": [],
   "source": []
  },
  {
   "cell_type": "code",
   "execution_count": null,
   "id": "61f26738",
   "metadata": {},
   "outputs": [],
   "source": []
  },
  {
   "cell_type": "markdown",
   "id": "77ecfa26",
   "metadata": {},
   "source": [
    "# Checking Model performance by adding different features and improving distribution"
   ]
  },
  {
   "cell_type": "code",
   "execution_count": null,
   "id": "5e33d4c0",
   "metadata": {},
   "outputs": [],
   "source": [
    "# Creating Alternate Dataframe\n",
    "target_var='rate'\n",
    "predictor_var=['online_order', 'book_table', 'votes', 'avg_cost', 'Count_cuisines', 'Count_dishes']\n",
    "\n",
    "Alternate_df=trainData.drop(trainData['votes'][trainData['votes']==0].index)\n",
    "Alternate_df.reset_index(inplace=True, drop=True)\n",
    "\n",
    "X1= Alternate_df[predictor_var]\n",
    "y1= Alternate_df[target_var]\n",
    "\n"
   ]
  },
  {
   "cell_type": "code",
   "execution_count": null,
   "id": "fe9f8c48",
   "metadata": {},
   "outputs": [
    {
     "data": {
      "text/html": [
       "<div>\n",
       "<style scoped>\n",
       "    .dataframe tbody tr th:only-of-type {\n",
       "        vertical-align: middle;\n",
       "    }\n",
       "\n",
       "    .dataframe tbody tr th {\n",
       "        vertical-align: top;\n",
       "    }\n",
       "\n",
       "    .dataframe thead th {\n",
       "        text-align: right;\n",
       "    }\n",
       "</style>\n",
       "<table border=\"1\" class=\"dataframe\">\n",
       "  <thead>\n",
       "    <tr style=\"text-align: right;\">\n",
       "      <th></th>\n",
       "      <th>online_order</th>\n",
       "      <th>book_table</th>\n",
       "      <th>rate</th>\n",
       "      <th>votes</th>\n",
       "      <th>avg_cost</th>\n",
       "      <th>Count_cuisines</th>\n",
       "      <th>Count_dishes</th>\n",
       "    </tr>\n",
       "  </thead>\n",
       "  <tbody>\n",
       "    <tr>\n",
       "      <th>0</th>\n",
       "      <td>Yes</td>\n",
       "      <td>Yes</td>\n",
       "      <td>4.1</td>\n",
       "      <td>775</td>\n",
       "      <td>800</td>\n",
       "      <td>3</td>\n",
       "      <td>7</td>\n",
       "    </tr>\n",
       "    <tr>\n",
       "      <th>1</th>\n",
       "      <td>Yes</td>\n",
       "      <td>No</td>\n",
       "      <td>4.1</td>\n",
       "      <td>787</td>\n",
       "      <td>800</td>\n",
       "      <td>3</td>\n",
       "      <td>7</td>\n",
       "    </tr>\n",
       "    <tr>\n",
       "      <th>2</th>\n",
       "      <td>Yes</td>\n",
       "      <td>No</td>\n",
       "      <td>3.8</td>\n",
       "      <td>918</td>\n",
       "      <td>800</td>\n",
       "      <td>3</td>\n",
       "      <td>7</td>\n",
       "    </tr>\n",
       "    <tr>\n",
       "      <th>3</th>\n",
       "      <td>No</td>\n",
       "      <td>No</td>\n",
       "      <td>3.7</td>\n",
       "      <td>88</td>\n",
       "      <td>300</td>\n",
       "      <td>2</td>\n",
       "      <td>1</td>\n",
       "    </tr>\n",
       "    <tr>\n",
       "      <th>4</th>\n",
       "      <td>No</td>\n",
       "      <td>No</td>\n",
       "      <td>3.8</td>\n",
       "      <td>166</td>\n",
       "      <td>600</td>\n",
       "      <td>2</td>\n",
       "      <td>2</td>\n",
       "    </tr>\n",
       "    <tr>\n",
       "      <th>...</th>\n",
       "      <td>...</td>\n",
       "      <td>...</td>\n",
       "      <td>...</td>\n",
       "      <td>...</td>\n",
       "      <td>...</td>\n",
       "      <td>...</td>\n",
       "      <td>...</td>\n",
       "    </tr>\n",
       "    <tr>\n",
       "      <th>41394</th>\n",
       "      <td>No</td>\n",
       "      <td>No</td>\n",
       "      <td>3.7</td>\n",
       "      <td>34</td>\n",
       "      <td>800</td>\n",
       "      <td>2</td>\n",
       "      <td>0</td>\n",
       "    </tr>\n",
       "    <tr>\n",
       "      <th>41395</th>\n",
       "      <td>No</td>\n",
       "      <td>No</td>\n",
       "      <td>2.5</td>\n",
       "      <td>81</td>\n",
       "      <td>800</td>\n",
       "      <td>4</td>\n",
       "      <td>2</td>\n",
       "    </tr>\n",
       "    <tr>\n",
       "      <th>41396</th>\n",
       "      <td>No</td>\n",
       "      <td>No</td>\n",
       "      <td>3.6</td>\n",
       "      <td>27</td>\n",
       "      <td>1500</td>\n",
       "      <td>1</td>\n",
       "      <td>0</td>\n",
       "    </tr>\n",
       "    <tr>\n",
       "      <th>41397</th>\n",
       "      <td>No</td>\n",
       "      <td>Yes</td>\n",
       "      <td>4.3</td>\n",
       "      <td>236</td>\n",
       "      <td>2500</td>\n",
       "      <td>1</td>\n",
       "      <td>3</td>\n",
       "    </tr>\n",
       "    <tr>\n",
       "      <th>41398</th>\n",
       "      <td>No</td>\n",
       "      <td>No</td>\n",
       "      <td>3.4</td>\n",
       "      <td>13</td>\n",
       "      <td>1500</td>\n",
       "      <td>3</td>\n",
       "      <td>0</td>\n",
       "    </tr>\n",
       "  </tbody>\n",
       "</table>\n",
       "<p>41399 rows × 7 columns</p>\n",
       "</div>"
      ],
      "text/plain": [
       "      online_order book_table  rate  votes  avg_cost  Count_cuisines  \\\n",
       "0              Yes        Yes   4.1    775       800               3   \n",
       "1              Yes         No   4.1    787       800               3   \n",
       "2              Yes         No   3.8    918       800               3   \n",
       "3               No         No   3.7     88       300               2   \n",
       "4               No         No   3.8    166       600               2   \n",
       "...            ...        ...   ...    ...       ...             ...   \n",
       "41394           No         No   3.7     34       800               2   \n",
       "41395           No         No   2.5     81       800               4   \n",
       "41396           No         No   3.6     27      1500               1   \n",
       "41397           No        Yes   4.3    236      2500               1   \n",
       "41398           No         No   3.4     13      1500               3   \n",
       "\n",
       "       Count_dishes  \n",
       "0                 7  \n",
       "1                 7  \n",
       "2                 7  \n",
       "3                 1  \n",
       "4                 2  \n",
       "...             ...  \n",
       "41394             0  \n",
       "41395             2  \n",
       "41396             0  \n",
       "41397             3  \n",
       "41398             0  \n",
       "\n",
       "[41399 rows x 7 columns]"
      ]
     },
     "execution_count": 123,
     "metadata": {},
     "output_type": "execute_result"
    }
   ],
   "source": [
    "Alternate_df"
   ]
  },
  {
   "cell_type": "code",
   "execution_count": null,
   "id": "c438f1be",
   "metadata": {},
   "outputs": [],
   "source": [
    "## Coverting restaurant_type into numerical by using dummy_variable \n",
    "#X1[\"restaurant_type\"] = data['type']\n",
    "#typeOfRestaurant = pd.get_dummies(X1['restaurant_type'], prefix ='type', drop_first=True )\n",
    "#X1 = pd.concat([X1, typeOfRestaurant], axis=1)\n",
    "#X1.drop(columns='restaurant_type',inplace=True, axis=1 )"
   ]
  },
  {
   "cell_type": "code",
   "execution_count": null,
   "id": "95343f6b",
   "metadata": {},
   "outputs": [
    {
     "name": "stdout",
     "output_type": "stream",
     "text": [
      "<class 'pandas.core.frame.DataFrame'>\n",
      "RangeIndex: 41399 entries, 0 to 41398\n",
      "Data columns (total 6 columns):\n",
      " #   Column          Non-Null Count  Dtype \n",
      "---  ------          --------------  ----- \n",
      " 0   online_order    41399 non-null  object\n",
      " 1   book_table      41399 non-null  object\n",
      " 2   votes           41399 non-null  int64 \n",
      " 3   avg_cost        41399 non-null  int32 \n",
      " 4   Count_cuisines  41399 non-null  int64 \n",
      " 5   Count_dishes    41399 non-null  int64 \n",
      "dtypes: int32(1), int64(3), object(2)\n",
      "memory usage: 1.7+ MB\n"
     ]
    }
   ],
   "source": [
    "X1.info()"
   ]
  },
  {
   "cell_type": "code",
   "execution_count": null,
   "id": "475fee47",
   "metadata": {},
   "outputs": [],
   "source": [
    "## Converting Online order and book table categorical to numeric \n",
    "X1['online_order']=X1['online_order'].map({\"Yes\":1, \"No\":0})\n",
    "X1['book_table']=X1['book_table'].map({\"Yes\":1, \"No\":0})"
   ]
  },
  {
   "cell_type": "code",
   "execution_count": null,
   "id": "87ab26df",
   "metadata": {},
   "outputs": [
    {
     "data": {
      "text/html": [
       "<div>\n",
       "<style scoped>\n",
       "    .dataframe tbody tr th:only-of-type {\n",
       "        vertical-align: middle;\n",
       "    }\n",
       "\n",
       "    .dataframe tbody tr th {\n",
       "        vertical-align: top;\n",
       "    }\n",
       "\n",
       "    .dataframe thead th {\n",
       "        text-align: right;\n",
       "    }\n",
       "</style>\n",
       "<table border=\"1\" class=\"dataframe\">\n",
       "  <thead>\n",
       "    <tr style=\"text-align: right;\">\n",
       "      <th></th>\n",
       "      <th>online_order</th>\n",
       "      <th>book_table</th>\n",
       "      <th>votes</th>\n",
       "      <th>avg_cost</th>\n",
       "      <th>Count_cuisines</th>\n",
       "      <th>Count_dishes</th>\n",
       "    </tr>\n",
       "  </thead>\n",
       "  <tbody>\n",
       "    <tr>\n",
       "      <th>0</th>\n",
       "      <td>1</td>\n",
       "      <td>1</td>\n",
       "      <td>775</td>\n",
       "      <td>800</td>\n",
       "      <td>3</td>\n",
       "      <td>7</td>\n",
       "    </tr>\n",
       "    <tr>\n",
       "      <th>1</th>\n",
       "      <td>1</td>\n",
       "      <td>0</td>\n",
       "      <td>787</td>\n",
       "      <td>800</td>\n",
       "      <td>3</td>\n",
       "      <td>7</td>\n",
       "    </tr>\n",
       "    <tr>\n",
       "      <th>2</th>\n",
       "      <td>1</td>\n",
       "      <td>0</td>\n",
       "      <td>918</td>\n",
       "      <td>800</td>\n",
       "      <td>3</td>\n",
       "      <td>7</td>\n",
       "    </tr>\n",
       "    <tr>\n",
       "      <th>3</th>\n",
       "      <td>0</td>\n",
       "      <td>0</td>\n",
       "      <td>88</td>\n",
       "      <td>300</td>\n",
       "      <td>2</td>\n",
       "      <td>1</td>\n",
       "    </tr>\n",
       "    <tr>\n",
       "      <th>4</th>\n",
       "      <td>0</td>\n",
       "      <td>0</td>\n",
       "      <td>166</td>\n",
       "      <td>600</td>\n",
       "      <td>2</td>\n",
       "      <td>2</td>\n",
       "    </tr>\n",
       "  </tbody>\n",
       "</table>\n",
       "</div>"
      ],
      "text/plain": [
       "   online_order  book_table  votes  avg_cost  Count_cuisines  Count_dishes\n",
       "0             1           1    775       800               3             7\n",
       "1             1           0    787       800               3             7\n",
       "2             1           0    918       800               3             7\n",
       "3             0           0     88       300               2             1\n",
       "4             0           0    166       600               2             2"
      ]
     },
     "execution_count": 127,
     "metadata": {},
     "output_type": "execute_result"
    }
   ],
   "source": [
    "X1.head()"
   ]
  },
  {
   "cell_type": "markdown",
   "id": "85eb1cb7",
   "metadata": {},
   "source": [
    "#  ************* Improving_Distribution ************"
   ]
  },
  {
   "cell_type": "code",
   "execution_count": null,
   "id": "48aa8ae5",
   "metadata": {},
   "outputs": [],
   "source": [
    "## Applying boxcox transformation\n",
    "from scipy.stats import boxcox\n",
    "bxc_votes = boxcox(X1['votes'], 0.0)\n",
    "bxc_avg_cost = boxcox(X1['avg_cost'], 0.0)\n",
    "X1['votes']= bxc_votes\n",
    "X1['avg_cost']= bxc_avg_cost"
   ]
  },
  {
   "cell_type": "code",
   "execution_count": null,
   "id": "a35c26d1",
   "metadata": {},
   "outputs": [],
   "source": [
    "## Calculating Skewdness and how heavily the outliers are\n",
    "## skewness and heaviness along the index axis\n",
    "def CalcSkew(dataframe):\n",
    "    Skew_values = dataframe.skew(axis = 0)\n",
    "    kurtosis_value = dataframe.kurtosis(axis =0)\n",
    "    d = {\"Skewness\":Skew_values, \"Kurtosis\":kurtosis_value}\n",
    "    df_SkewCalc = pd.DataFrame(d,index=predictor_var)\n",
    "    return df_SkewCalc\n",
    "\n"
   ]
  },
  {
   "cell_type": "code",
   "execution_count": null,
   "id": "8da43a53",
   "metadata": {},
   "outputs": [
    {
     "data": {
      "text/html": [
       "<div>\n",
       "<style scoped>\n",
       "    .dataframe tbody tr th:only-of-type {\n",
       "        vertical-align: middle;\n",
       "    }\n",
       "\n",
       "    .dataframe tbody tr th {\n",
       "        vertical-align: top;\n",
       "    }\n",
       "\n",
       "    .dataframe thead th {\n",
       "        text-align: right;\n",
       "    }\n",
       "</style>\n",
       "<table border=\"1\" class=\"dataframe\">\n",
       "  <thead>\n",
       "    <tr style=\"text-align: right;\">\n",
       "      <th></th>\n",
       "      <th>Skewness</th>\n",
       "      <th>Kurtosis</th>\n",
       "    </tr>\n",
       "  </thead>\n",
       "  <tbody>\n",
       "    <tr>\n",
       "      <th>online_order</th>\n",
       "      <td>-0.660844</td>\n",
       "      <td>-1.563361</td>\n",
       "    </tr>\n",
       "    <tr>\n",
       "      <th>book_table</th>\n",
       "      <td>1.936470</td>\n",
       "      <td>1.750000</td>\n",
       "    </tr>\n",
       "    <tr>\n",
       "      <th>votes</th>\n",
       "      <td>4.941020</td>\n",
       "      <td>30.960612</td>\n",
       "    </tr>\n",
       "    <tr>\n",
       "      <th>avg_cost</th>\n",
       "      <td>2.149018</td>\n",
       "      <td>6.022955</td>\n",
       "    </tr>\n",
       "    <tr>\n",
       "      <th>Count_cuisines</th>\n",
       "      <td>1.025984</td>\n",
       "      <td>1.429117</td>\n",
       "    </tr>\n",
       "    <tr>\n",
       "      <th>Count_dishes</th>\n",
       "      <td>0.256961</td>\n",
       "      <td>-1.755020</td>\n",
       "    </tr>\n",
       "  </tbody>\n",
       "</table>\n",
       "</div>"
      ],
      "text/plain": [
       "                Skewness   Kurtosis\n",
       "online_order   -0.660844  -1.563361\n",
       "book_table      1.936470   1.750000\n",
       "votes           4.941020  30.960612\n",
       "avg_cost        2.149018   6.022955\n",
       "Count_cuisines  1.025984   1.429117\n",
       "Count_dishes    0.256961  -1.755020"
      ]
     },
     "execution_count": 130,
     "metadata": {},
     "output_type": "execute_result"
    }
   ],
   "source": [
    "CalcSkew(dataframe=X)"
   ]
  },
  {
   "cell_type": "markdown",
   "id": "f0c9885c",
   "metadata": {},
   "source": [
    "> __Note__:\n",
    "1. __Votes and Avg_cost__ both show __high positive skewness__.\n",
    "    \n",
    "2. And also __Votes and Avg_cost__ both show __high kurtosis__ value i.e. distribution is too much flat wrt. normal  distribution."
   ]
  },
  {
   "cell_type": "code",
   "execution_count": null,
   "id": "4ec74dfe",
   "metadata": {},
   "outputs": [
    {
     "data": {
      "text/html": [
       "<div>\n",
       "<style scoped>\n",
       "    .dataframe tbody tr th:only-of-type {\n",
       "        vertical-align: middle;\n",
       "    }\n",
       "\n",
       "    .dataframe tbody tr th {\n",
       "        vertical-align: top;\n",
       "    }\n",
       "\n",
       "    .dataframe thead th {\n",
       "        text-align: right;\n",
       "    }\n",
       "</style>\n",
       "<table border=\"1\" class=\"dataframe\">\n",
       "  <thead>\n",
       "    <tr style=\"text-align: right;\">\n",
       "      <th></th>\n",
       "      <th>Skewness</th>\n",
       "      <th>Kurtosis</th>\n",
       "    </tr>\n",
       "  </thead>\n",
       "  <tbody>\n",
       "    <tr>\n",
       "      <th>online_order</th>\n",
       "      <td>-0.660559</td>\n",
       "      <td>-1.563737</td>\n",
       "    </tr>\n",
       "    <tr>\n",
       "      <th>book_table</th>\n",
       "      <td>1.936498</td>\n",
       "      <td>1.750109</td>\n",
       "    </tr>\n",
       "    <tr>\n",
       "      <th>votes</th>\n",
       "      <td>0.253744</td>\n",
       "      <td>-0.658575</td>\n",
       "    </tr>\n",
       "    <tr>\n",
       "      <th>avg_cost</th>\n",
       "      <td>0.184950</td>\n",
       "      <td>-0.075470</td>\n",
       "    </tr>\n",
       "    <tr>\n",
       "      <th>Count_cuisines</th>\n",
       "      <td>1.024649</td>\n",
       "      <td>1.424984</td>\n",
       "    </tr>\n",
       "    <tr>\n",
       "      <th>Count_dishes</th>\n",
       "      <td>0.256445</td>\n",
       "      <td>-1.755288</td>\n",
       "    </tr>\n",
       "  </tbody>\n",
       "</table>\n",
       "</div>"
      ],
      "text/plain": [
       "                Skewness  Kurtosis\n",
       "online_order   -0.660559 -1.563737\n",
       "book_table      1.936498  1.750109\n",
       "votes           0.253744 -0.658575\n",
       "avg_cost        0.184950 -0.075470\n",
       "Count_cuisines  1.024649  1.424984\n",
       "Count_dishes    0.256445 -1.755288"
      ]
     },
     "execution_count": 131,
     "metadata": {},
     "output_type": "execute_result"
    }
   ],
   "source": [
    "CalcSkew(X1)"
   ]
  },
  {
   "cell_type": "code",
   "execution_count": null,
   "id": "b90315b9",
   "metadata": {},
   "outputs": [
    {
     "data": {
      "text/plain": [
       "Text(0.5, 1.0, 'Distribution of Restaurant Votes')"
      ]
     },
     "execution_count": 132,
     "metadata": {},
     "output_type": "execute_result"
    },
    {
     "data": {
      "image/png": "[encoded data removed]",
      "text/plain": [
       "<Figure size 432x288 with 1 Axes>"
      ]
     },
     "metadata": {},
     "output_type": "display_data"
    }
   ],
   "source": [
    "#plt.subplot(nrows=1, ncols=2, figsize=(12,8))\n",
    "sns.distplot(bxc_avg_cost, color='blueviolet')\n",
    "plt.xlabel(\"Avg_cost\", fontdict=Lfont)\n",
    "plt.ylabel(\"Density\", fontdict=Lfont)\n",
    "plt.title(\"Distribution of Restaurant Votes\", fontdict=Tfont)"
   ]
  },
  {
   "cell_type": "code",
   "execution_count": null,
   "id": "8adecb18",
   "metadata": {},
   "outputs": [
    {
     "data": {
      "text/plain": [
       "Text(0.5, 1.0, 'Distribution of Restaurant Votes')"
      ]
     },
     "execution_count": 133,
     "metadata": {},
     "output_type": "execute_result"
    },
    {
     "data": {
      "image/png": "[encoded data removed]",
      "text/plain": [
       "<Figure size 432x288 with 1 Axes>"
      ]
     },
     "metadata": {},
     "output_type": "display_data"
    }
   ],
   "source": [
    "sns.distplot(bxc_votes, color='blueviolet')\n",
    "plt.xlabel(\"Vote\", fontdict=Lfont)\n",
    "plt.ylabel(\"Density\", fontdict=Lfont)\n",
    "plt.title(\"Distribution of Restaurant Votes\", fontdict=Tfont)"
   ]
  },
  {
   "cell_type": "code",
   "execution_count": null,
   "id": "d7d74188",
   "metadata": {},
   "outputs": [],
   "source": []
  },
  {
   "cell_type": "markdown",
   "id": "bf03b395",
   "metadata": {},
   "source": [
    "### Standard Scaling"
   ]
  },
  {
   "cell_type": "code",
   "execution_count": null,
   "id": "9ad02413",
   "metadata": {},
   "outputs": [],
   "source": [
    "std_scale=StandardScaler()              # standard scaling\n",
    "X1_scaled = std_scale.fit_transform(X1)   "
   ]
  },
  {
   "cell_type": "code",
   "execution_count": null,
   "id": "d40860c9",
   "metadata": {},
   "outputs": [],
   "source": [
    "from sklearn.model_selection import train_test_split\n",
    "X1_train, X1_test, y1_train, y1_test = train_test_split(X1_scaled, y1, test_size=0.33, random_state=42)\n",
    "\n",
    "# declaring Decision tree object\n",
    "tree=DecisionTreeRegressor(min_samples_split= 2,\n",
    " min_samples_leaf = 1,\n",
    " max_features = 'sqrt',\n",
    " max_depth = 75)"
   ]
  },
  {
   "cell_type": "code",
   "execution_count": null,
   "id": "36d43b33",
   "metadata": {},
   "outputs": [
    {
     "data": {
      "text/plain": [
       "{'ccp_alpha': 0.0,\n",
       " 'criterion': 'mse',\n",
       " 'max_depth': 75,\n",
       " 'max_features': 'sqrt',\n",
       " 'max_leaf_nodes': None,\n",
       " 'min_impurity_decrease': 0.0,\n",
       " 'min_impurity_split': None,\n",
       " 'min_samples_leaf': 1,\n",
       " 'min_samples_split': 2,\n",
       " 'min_weight_fraction_leaf': 0.0,\n",
       " 'random_state': None,\n",
       " 'splitter': 'best'}"
      ]
     },
     "execution_count": 142,
     "metadata": {},
     "output_type": "execute_result"
    }
   ],
   "source": [
    "tree.get_params()"
   ]
  },
  {
   "cell_type": "code",
   "execution_count": null,
   "id": "245f2ef1",
   "metadata": {},
   "outputs": [],
   "source": [
    "tree.fit(X1_train, y1_train)\n",
    "predict_dt=tree.predict(X1_test)\n",
    "\n"
   ]
  },
  {
   "cell_type": "code",
   "execution_count": null,
   "id": "49c19022",
   "metadata": {},
   "outputs": [
    {
     "name": "stdout",
     "output_type": "stream",
     "text": [
      "\n",
      " #### Best model(with hyperparameter tuning) accuracy ####\n",
      "\n",
      "Model Performance\n",
      "Average Error: 0.083 degrees.\n",
      "Accuracy = 97.57%.\n",
      "R2_score:  0.8031644709515824\n",
      "\n",
      " #### model accuracy after some improving distribution ####\n",
      "\n",
      "Model Performance\n",
      "Average Error: 0.0811 degrees.\n",
      "Accuracy = 97.64%.\n",
      "R2_score:  0.8131937390115294\n",
      "\n",
      " #### Improvement of 0.07%. ####\n",
      "\n",
      "\n"
     ]
    }
   ],
   "source": [
    "print('\\n #### Best model(with hyperparameter tuning) accuracy ####\\n')\n",
    "best_tree = rf_random.best_estimator_\n",
    "pred_DT = best_tree.predict(X_test)\n",
    "random_accuracy = evaluate(best_tree, X_test, y_test)\n",
    "print(\"R2_score: \",r2_score(y_test, pred_DT))\n",
    "\n",
    "print('\\n #### model accuracy after some improving distribution ####\\n')\n",
    "change_accuracy = evaluate(tree, X1_test, y1_test)\n",
    "print(\"R2_score: \",r2_score(y1_test, predict_dt))\n",
    "\n",
    "\n",
    "## Calculation of Improvement of model due to hyperparameter tuning\n",
    "print('\\n #### Improvement of {:0.2f}%. ####\\n\\n'.format( 100 * (change_accuracy - random_accuracy) / random_accuracy))\n"
   ]
  },
  {
   "cell_type": "markdown",
   "id": "6fc50c39",
   "metadata": {},
   "source": [
    "> __Droping idea__ of adding more feature as performance of above model is reducing.\n",
    "\n",
    "> __Accepting__ transforming distribution of votes and avg_cost(log-normal to normal) because of increasing the performance. "
   ]
  },
  {
   "cell_type": "code",
   "execution_count": null,
   "id": "2b78cf81",
   "metadata": {},
   "outputs": [
    {
     "data": {
      "image/png": "[encoded data removed]",
      "text/plain": [
       "<Figure size 720x576 with 1 Axes>"
      ]
     },
     "metadata": {},
     "output_type": "display_data"
    }
   ],
   "source": [
    "# let's create a dictionary of features and their importance values\n",
    "feat_dict= {}\n",
    "for col, val in sorted(zip(predictor_var, tree.feature_importances_),key=lambda x:x[1],reverse=True):\n",
    "  feat_dict[col]=val\n",
    "    \n",
    "    \n",
    "## converting into Dataframe\n",
    "feat_df = pd.DataFrame({'Feature':feat_dict.keys(),'Importance':feat_dict.values()})\n",
    "\n",
    "\n",
    "values = feat_df.Importance    \n",
    "idx = feat_df.Feature\n",
    "plt.figure(figsize=(10,8))\n",
    "clrs = ['green' if (x < max(values)) else 'red' for x in values ]\n",
    "sns.barplot(y=idx,x=values,palette=clrs).set(title='Important features to predict rating of restaurant')\n",
    "plt.show()"
   ]
  },
  {
   "cell_type": "code",
   "execution_count": null,
   "id": "9028d5da",
   "metadata": {},
   "outputs": [],
   "source": []
  },
  {
   "cell_type": "code",
   "execution_count": null,
   "id": "ed594f3c",
   "metadata": {},
   "outputs": [],
   "source": []
  },
  {
   "cell_type": "code",
   "execution_count": null,
   "id": "1f132fbf",
   "metadata": {},
   "outputs": [],
   "source": [
    "## Checking for ExtraTreeRegressor"
   ]
  },
  {
   "cell_type": "code",
   "execution_count": null,
   "id": "880848d6",
   "metadata": {},
   "outputs": [],
   "source": [
    "etr = ExtraTreesRegressor(n_estimators= 400, min_samples_split= 2, min_samples_leaf= 1, max_features= 'sqrt', max_depth= None)\n",
    "etr.fit(X1_train, y1_train)\n",
    "predict_etr=etr.predict(X1_test)"
   ]
  },
  {
   "cell_type": "code",
   "execution_count": null,
   "id": "7a69aa1d",
   "metadata": {},
   "outputs": [
    {
     "name": "stdout",
     "output_type": "stream",
     "text": [
      "\n",
      " #### DecisionTree model(with hyperparameter tuning) accuracy ####\n",
      "\n",
      "Model Performance\n",
      "Average Error: 0.0811 degrees.\n",
      "Accuracy = 97.64%.\n",
      "R2_score:  0.8131937390115294\n",
      "\n",
      " #### ExtraTreesReg model accuracy  ####\n",
      "\n",
      "Model Performance\n",
      "Average Error: 0.0766 degrees.\n",
      "Accuracy = 97.76%.\n",
      "R2_score:  0.8530775755427312\n",
      "\n",
      " #### Improvement of 0.12%. ####\n",
      "\n",
      "\n"
     ]
    }
   ],
   "source": [
    "print('\\n #### DecisionTree model(with hyperparameter tuning) accuracy ####\\n')\n",
    "\n",
    "tree_accuracy = evaluate(tree, X1_test, y1_test)\n",
    "print(\"R2_score: \",r2_score(y1_test, predict_dt))\n",
    "\n",
    "print('\\n #### ExtraTreesReg model accuracy  ####\\n')\n",
    "etr_accuracy = evaluate(etr, X1_test, y1_test)\n",
    "print(\"R2_score: \",r2_score(y1_test, predict_etr))\n",
    "\n",
    "\n",
    "## Calculation of Improvement of model due to hyperparameter tuning\n",
    "print('\\n #### Improvement of {:0.2f}%. ####\\n\\n'.format( 100 * (etr_accuracy - tree_accuracy) / tree_accuracy))\n"
   ]
  },
  {
   "cell_type": "code",
   "execution_count": null,
   "id": "b1ae68c8",
   "metadata": {},
   "outputs": [],
   "source": []
  }
 ],
 "metadata": {
  "kernelspec": {
   "display_name": "Python 3.7.0 (conda)",
   "language": "python",
   "name": "python3"
  },
  "language_info": {
   "codemirror_mode": {
    "name": "ipython",
    "version": 3
   },
   "file_extension": ".py",
   "mimetype": "text/x-python",
   "name": "python",
   "nbconvert_exporter": "python",
   "pygments_lexer": "ipython3",
   "version": "3.7.0"
  },
  "vscode": {
   "interpreter": {
    "hash": "c341e63a0a6bff9030e3a655ce2bf3d757c1af26394f9860707635f8c29ef611"
   }
  }
 },
 "nbformat": 4,
 "nbformat_minor": 5
}
